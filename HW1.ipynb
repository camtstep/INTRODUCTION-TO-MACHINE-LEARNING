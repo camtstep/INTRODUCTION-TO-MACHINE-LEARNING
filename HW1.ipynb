{
 "cells": [
  {
   "cell_type": "markdown",
   "metadata": {},
   "source": [
    "# HW 1\n",
    "\n",
    "* due **Thursday Sep 9, at 11:59 pm**.\n",
    "The purpose of this lab is to make sure that you can run Python notebooks and successfully submit an assignment.\n",
    "Keep the following in mind for **all** notebooks you develop:\n",
    "\n",
    "1. Structure your notebook. Use headings with meaningful levels in Markdown cells, and explain the questions each piece of code is to answer or the reason it is there.\n",
    "2. Make sure your notebook can always be rerun from top to bottom.\n",
    "\n",
    "The data analysis commands are straightforward.  Objective is for you to familiarize with the use of basic functions in python packages we will use going forward, make a succesfull python notebook and submit it on git.  \n",
    "\n",
    "Follow [README.md](README.md) for homework submission instructions \n"
   ]
  },
  {
   "cell_type": "markdown",
   "metadata": {},
   "source": [
    "## Setup\n",
    "\n",
    "This section loads the relevant Python modules and does any configuration needed for the notebook to work. \n",
    "* Almost all projects will need basic data analysis packages - Pandas and Seaborn.  \n",
    "* For other projects, you will need some more imports:\n",
    "\n",
    "```python\n",
    "import numpy as np\n",
    "import matplotlib.pyplot as plt\n",
    "import statsmodels.api as sm\n",
    "import statsmodels.formula.api as smf\n",
    "```\n",
    "These are not necessary for this lab."
   ]
  },
  {
   "cell_type": "code",
   "execution_count": 1,
   "metadata": {},
   "outputs": [],
   "source": [
    "import pandas as pd\n",
    "import seaborn as sns"
   ]
  },
  {
   "cell_type": "markdown",
   "metadata": {},
   "source": [
    "## Data Acquisition step \n",
    "\n",
    "1.  **Download the Capital Bike Share data set** from <https://archive.ics.uci.edu/ml/datasets/bike+sharing+dataset>.  Click 'Data Folder', download the zip file, and extract the `day.csv` file.\n",
    "  * Note that I did not provide the data file for you.  I want you to get used to downloading data files, so you learn where they come from.\n",
    "\n",
    "2. Read the Data File: use Pandas [read_csv](https://pandas.pydata.org/pandas-docs/stable/reference/api/pandas.read_csv.html)[] function to read the file into `bikes` dataframe.  \n",
    "   * Our data file does not have column headers, so we need to specify the names.\n",
    "   [read_csv]: https://pandas.pydata.org/pandas-docs/stable/reference/api/pandas.read_csv.html"
   ]
  },
  {
   "cell_type": "code",
   "execution_count": null,
   "metadata": {},
   "outputs": [],
   "source": []
  },
  {
   "cell_type": "markdown",
   "metadata": {},
   "source": [
    "3.  Use `head` to show the first few rows of the table: \n",
    "  * brief preview is a safety check you are exploring the correct data frame "
   ]
  },
  {
   "cell_type": "code",
   "execution_count": null,
   "metadata": {},
   "outputs": [],
   "source": []
  },
  {
   "cell_type": "markdown",
   "metadata": {},
   "source": [
    "4. Use `info` to show a description of the columns, along with the shape and memory use of the data frame:\n",
    "  * good method to explore the shape and memory use of data frame"
   ]
  },
  {
   "cell_type": "code",
   "execution_count": null,
   "metadata": {},
   "outputs": [],
   "source": []
  },
  {
   "cell_type": "markdown",
   "metadata": {},
   "source": [
    "**Note:**   `.info()` or `.head()` can be called in the same cell as data load once you get the hang of it.  I separate them out in this notebook so that we can discuss them in the markdown cells, but we can combine them in the future. "
   ]
  },
  {
   "cell_type": "markdown",
   "metadata": {},
   "source": [
    "## Plotting the Data\n",
    "\n",
    "Make a bar plot showing the mean number of riders (y-axis) per weekday (x-axis) using seaborn [`catplot`](https://seaborn.pydata.org/generated/seaborn.catplot.html) method."
   ]
  },
  {
   "cell_type": "code",
   "execution_count": null,
   "metadata": {},
   "outputs": [],
   "source": []
  },
  {
   "cell_type": "markdown",
   "metadata": {},
   "source": [
    "Now, the X-axis labels isn't very helpful.  Which day is 0?\n",
    "\n",
    "This is a question about how the data is _coded_. We'll talk more about data encoding next week. Unfortunately, the data documentation doesn't actually say how weekdays are coded!  But we can infer from the data in this case: first data point is January 1, 2011, which was a Saturday, coded as weekday 6; it then resets to 0 for the next day, and starts counting up.\n",
    "\n",
    "**Always *look* at your data.**\n",
    "\n",
    "Often, we will not be able to infer the data encoding from the data itself - we need to consult the codebook or data set description. We got lucky this time.  But looking at the data can help us make sense of the codebook.\n",
    "\n",
    "Let's turn these weekday numbers into a _categorical_ variable so Pandas knows how to label them. \n",
    "Hint: use [pandas.Categorical.from_codes()](https://pandas.pydata.org/pandas-docs/stable/reference/api/pandas.Categorical.from_codes.html)."
   ]
  },
  {
   "cell_type": "code",
   "execution_count": null,
   "metadata": {},
   "outputs": [],
   "source": []
  },
  {
   "cell_type": "markdown",
   "metadata": {},
   "source": [
    "Lets plot again using seaborn [`catplot`](https://seaborn.pydata.org/generated/seaborn.catplot.html), where data=bikes, x-axis is `day_names` and y-axis is `cnt`"
   ]
  },
  {
   "cell_type": "code",
   "execution_count": null,
   "metadata": {},
   "outputs": [],
   "source": []
  },
  {
   "cell_type": "markdown",
   "metadata": {},
   "source": [
    "You have now now plotted the average rides per day.  \n",
    "**Note:**  When we do not tell [`catplot`](https://seaborn.pydata.org/generated/seaborn.catplot.html) what to do with multiple points for the same value (in this case the weekday name), it computes the mean and a bootstrapped 95% confidence interval.  "
   ]
  },
  {
   "cell_type": "markdown",
   "metadata": {},
   "source": [
    "## Viewing the Data over Time\n",
    "\n",
    "Lets explore how did rides-per-day change over the course of the data set? \n",
    "* This kind of data - a sequence of data points associated with times - is called a *time series*.  \n",
    "* This data set gives us an `instant` column that records the data number since the start of the data set\n",
    "\n",
    "Use [seaborn.lineplot()](https://seaborn.pydata.org/generated/seaborn.lineplot.html) where data=bikes, x-axis is `instant` and y-axis is `cnt` value. "
   ]
  },
  {
   "cell_type": "code",
   "execution_count": null,
   "metadata": {},
   "outputs": [],
   "source": []
  },
  {
   "cell_type": "markdown",
   "metadata": {},
   "source": [
    "Lets view this graph for actual times on x-axis. The `dteday` column records the date. We can transform `dteday` column to the actual date comlumn using [pandas.to_datetime()](https://pandas.pydata.org/docs/reference/api/pandas.to_datetime.html) method on the column:"
   ]
  },
  {
   "cell_type": "code",
   "execution_count": 2,
   "metadata": {},
   "outputs": [
    {
     "ename": "NameError",
     "evalue": "name 'bikes' is not defined",
     "output_type": "error",
     "traceback": [
      "\u001b[1;31m---------------------------------------------------------------------------\u001b[0m",
      "\u001b[1;31mNameError\u001b[0m                                 Traceback (most recent call last)",
      "\u001b[1;32m<ipython-input-2-00f95502c5c1>\u001b[0m in \u001b[0;36m<module>\u001b[1;34m\u001b[0m\n\u001b[1;32m----> 1\u001b[1;33m \u001b[0mbikes\u001b[0m\u001b[1;33m[\u001b[0m\u001b[1;34m'dt'\u001b[0m\u001b[1;33m]\u001b[0m \u001b[1;33m=\u001b[0m \u001b[0mpd\u001b[0m\u001b[1;33m.\u001b[0m\u001b[0mto_datetime\u001b[0m\u001b[1;33m(\u001b[0m\u001b[0mbikes\u001b[0m\u001b[1;33m[\u001b[0m\u001b[1;34m'dteday'\u001b[0m\u001b[1;33m]\u001b[0m\u001b[1;33m)\u001b[0m\u001b[1;33m\u001b[0m\u001b[1;33m\u001b[0m\u001b[0m\n\u001b[0m",
      "\u001b[1;31mNameError\u001b[0m: name 'bikes' is not defined"
     ]
    }
   ],
   "source": [
    "bikes['dt'] = pd.to_datetime(bikes['dteday'])"
   ]
  },
  {
   "cell_type": "markdown",
   "metadata": {},
   "source": [
    "Now create a plot using [seaborn.lineplot()](https://seaborn.pydata.org/generated/seaborn.lineplot.html) where data=bikes, x-axis is `dt` and y-axis is `cnt` value. \n"
   ]
  },
  {
   "cell_type": "code",
   "execution_count": null,
   "metadata": {},
   "outputs": [],
   "source": []
  },
  {
   "cell_type": "markdown",
   "metadata": {},
   "source": [
    "Next, plot the _weekly_ rides by resampling.  Right now, our `bikes` data is indexed by row number in the CSV file.  We can change its index to another column, such as our `dt` column with the date, which then lets us do things like resample by week:"
   ]
  },
  {
   "cell_type": "code",
   "execution_count": null,
   "metadata": {},
   "outputs": [],
   "source": [
    "bikes.set_index('dt')['cnt'].resample('1W').sum().plot()"
   ]
  },
  {
   "cell_type": "markdown",
   "metadata": {},
   "source": [
    "What that code did, in one line, is:\n",
    "\n",
    "1. Set the data frame's index to `dt` (`bikes.set_index('dt')`), returning a new DF\n",
    "2. Select the count column (`['cnt']`), returning a series\n",
    "3. Resample the series by week (`.resample('1W')`)\n",
    "4. Combine measurements within each sample by summing them (`.sum()`)\n",
    "5. Plotting the results using Pandas' defaults (`.plot()`)\n",
    "\n",
    "Pandas default plotting functions are useful for quick plots to see what's in a data frame or series. They often are difficult to use to turn in to publication-ready charts."
   ]
  },
  {
   "cell_type": "markdown",
   "metadata": {},
   "source": [
    "## Submission Instructions\n",
    "\n",
    "1. select the 'Kernel' menu and choose 'Restart and Run All'.  This will also help you test requirement (2) above: that the notebook can be rerun from top to bottom.\n",
    "2. Save the notebook. Your submitted notebook **must include results**.  \n",
    "3. Copy it to your local ML/NetID.git repo \n",
    "   ```\n",
    "   git add HW1.ipynb day.csv\n",
    "   git commit -m \"HW1 submission\"\n",
    "   git push origin\n",
    "   ```\n",
    "   OR upload to `HW1.ipynb` and `day.csv` files to https://git.txstate.edu/ML/<NetID>.git\n"
   ]
  }
 ],
 "metadata": {
  "interpreter": {
   "hash": "35837ef908ea9a487812f2c2b7a2faff0eaf2f169c08cc4139a89e69dc68f7b6"
  },
  "kernelspec": {
   "display_name": "Python 3",
   "language": "python",
   "name": "python3"
  },
  "language_info": {
   "codemirror_mode": {
    "name": "ipython",
    "version": 3
   },
   "file_extension": ".py",
   "mimetype": "text/x-python",
   "name": "python",
   "nbconvert_exporter": "python",
   "pygments_lexer": "ipython3",
   "version": "3.8.8"
  }
 },
 "nbformat": 4,
 "nbformat_minor": 2
}
