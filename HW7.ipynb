{
 "cells": [
  {
   "cell_type": "markdown",
   "metadata": {},
   "source": [
    "# HW 7\n",
    "\n",
    "This assignment covers several aspects of Regularizations & Tree type Classifier. \n",
    "**DO NOT ERASE MARKDOWN CELLS AND INSTRUCTIONS IN YOUR HW submission**\n",
    "\n",
    "  * **Q** - QUESTION\n",
    "  * **A** - Where to input your answer\n",
    "\n",
    "## Instructions\n",
    "\n",
    "Keep the following in mind for all notebooks you develop:\n",
    "* Structure your notebook. \n",
    "* Use headings with meaningful levels in Markdown cells, and explain the questions each piece of code is to answer or the reason it is there.\n",
    "* Make sure your notebook can always be rerun from top to bottom.\n",
    "* Please start working on this assignment as soon as possible. If you are a beginner in Python this might take a long time. One of the objectives of this assignment is to help you learn python and scikit-learn package. \n",
    "* See [README.md](README.md) for homework submission instructions\n",
    "\n",
    "## Related Tutorials\n",
    "    \n",
    "* [Lasso Regression - L1 Regularization](https://scikit-learn.org/stable/modules/generated/sklearn.linear_model.LassoCV.html)\n",
    "\n",
    "* [Ridge Regression - L2 Regularization](https://scikit-learn.org/stable/modules/generated/sklearn.discriminant_analysis.LinearDiscriminantAnalysis.html)\n",
    "\n",
    "* [Random Forest](https://scikit-learn.org/stable/modules/generated/sklearn.ensemble.RandomForestClassifier.html#sklearn.ensemble.RandomForestClassifier)\n",
    "\n",
    "* [Metrics : Precision-Recall curve](https://scikit-learn.org/stable/auto_examples/model_selection/plot_precision_recall.html)"
   ]
  },
  {
   "cell_type": "markdown",
   "metadata": {},
   "source": [
    "# Data Processing"
   ]
  },
  {
   "cell_type": "markdown",
   "metadata": {},
   "source": [
    "**Data** \n",
    "* Get the exploratory data and the folowing files from [link](https://archive.ics.uci.edu/ml/datasets/Breast+Cancer+Wisconsin+%28Diagnostic%29)\n",
    "* Save metadata and the original data from download [Link](https://archive.ics.uci.edu/ml/datasets/Breast+Cancer+Wisconsin+%28Diagnostic%29) to your local HW folder. \n",
    "* If you are using command line, the commands are:  \n",
    "```\n",
    ">> wget https://archive.ics.uci.edu/ml/machine-learning-databases/breast-cancer-wisconsin/breast-cancer-wisconsin.data\n",
    ">> wget https://archive.ics.uci.edu/ml/machine-learning-databases/breast-cancer-wisconsin/breast-cancer-wisconsin.names\n",
    "``` \n",
    "* wget instructions: \n",
    "  * dowload it from [link](https://eternallybored.org/misc/wget/) \n",
    "  * follow [steps](https://stackoverflow.com/questions/29113456/wget-not-recognized-as-internal-or-external-command)"
   ]
  },
  {
   "cell_type": "markdown",
   "metadata": {},
   "source": [
    "**Q1** Get training data from the dataframe\n",
    "1. Load breast-cancer-wisconsin.data into data frame\n",
    "2. Note: the data file does not contains column names, so include appropriate column names by exploring the metadata file\n",
    "3. Replace Non-Numeric values with 0\n",
    "4. Replace Class label ```2 with 0``` and ```4 with 1```\n",
    "4. Assign values of ```Class``` column to ```y```, note you have to use ```.values``` method\n",
    "5. Drop ```Class``` column from data frame,\n",
    "6. Assign df values to x\n",
    "7. Split dataset into train and test data use train_test_split with test_size = 0.2, stratify y and random_state = 1238\n",
    "\n",
    "**A1** Replace ??? with code in the code cell below"
   ]
  },
  {
   "cell_type": "code",
   "execution_count": 1,
   "metadata": {},
   "outputs": [],
   "source": [
    "import numpy as np\n",
    "import pandas as pd\n",
    "from sklearn.model_selection import train_test_split\n",
    "from sklearn.linear_model import LogisticRegression\n",
    "\n",
    "#Read the breast-cancer-wisconsin.data file using the prropriate separator as input to read_csv()\n",
    "columns=['Sample code number','Clump Thickness','Uniformity of Cell Size','Uniformity of Cell Shape','Marginal Adhesion',\n",
    "         'Single Epithelial Cell Size','Bare Nuclei','Bland Chromatin','Normal Nucleoli','Mitoses','Class']\n",
    "df = pd.read_csv('breast-cancer-wisconsin.data', names=columns, na_values = \"?\", comment='\\t', sep=\",\", skipinitialspace=True)\n",
    "\n",
    "#print the head\n",
    "df.head()\n",
    "\n",
    "# Replace Non numeric values with 0 \n",
    "df.replace(np.nan,0,inplace=True)\n",
    "\n",
    "#Replace the Class label values following above given instructions\n",
    "df['Class'].replace(2, 0, inplace=True)\n",
    "df['Class'].replace(4, 1, inplace=True)"
   ]
  },
  {
   "cell_type": "code",
   "execution_count": 2,
   "metadata": {},
   "outputs": [
    {
     "name": "stdout",
     "output_type": "stream",
     "text": [
      "(699, 10)\n",
      "(699,)\n"
     ]
    }
   ],
   "source": [
    "# Assign values of ```Class``` column to y, note you have to use .values method\n",
    "y = df.Class.values\n",
    "# Drop 'Class' column from data frame,\n",
    "df.drop(columns=['Class'], inplace=True)\n",
    "# Assign df values to x\n",
    "x = df.values\n",
    "# View shape of x and y\n",
    "print(x.shape)\n",
    "print(y.shape)\n",
    "\n",
    "xtrain, xtest, ytrain, ytest = train_test_split(x,y, test_size = 0.2, random_state=1238, stratify=y)"
   ]
  },
  {
   "cell_type": "markdown",
   "metadata": {
    "id": "NsUM8-i_KhK1"
   },
   "source": [
    "# Model Regularization"
   ]
  },
  {
   "cell_type": "markdown",
   "metadata": {},
   "source": [
    "## Ridge Regularization/ Ridge Regression"
   ]
  },
  {
   "cell_type": "markdown",
   "metadata": {},
   "source": [
    "**Q2** Train Ridge Regularization Model\n",
    "1. Create a Ridge Regularization Model using sklearn library, ```(See the documenttaion for details)```\n",
    "2. Fit the model with the train data\n",
    "3. Predict the values with the test data\n",
    "4. Print the coefficients of the model\n",
    "5. Calculate the test MSE \n",
    "6. Get the score from the model using test data\n",
    "7. Plot Precision-Recall Curve from the true & predicted test data\n",
    "\n",
    "**Note**\n",
    "* Here we generate an array of cost values ranging from very big to very small \n",
    "  * cost here is variable alpha: alpha is equivalent to lambda in the lesson 13. \n",
    " ![RidgeRegression](../figures/RidgeRegression.jpg) \n",
    "* Associated with each alpha value is a vector of ridge regression coefficients that we store in a matrix, with 100 rows (one for each value of alpha) and 10 columns (one for each predictor).  \n",
    "\n",
    "**A2** Replace ??? with code in the code cell below"
   ]
  },
  {
   "cell_type": "code",
   "execution_count": 3,
   "metadata": {},
   "outputs": [
    {
     "name": "stdout",
     "output_type": "stream",
     "text": [
      "Sample code number             True\n",
      "Clump Thickness                True\n",
      "Uniformity of Cell Size        True\n",
      "Uniformity of Cell Shape       True\n",
      "Marginal Adhesion              True\n",
      "Single Epithelial Cell Size    True\n",
      "Bare Nuclei                    True\n",
      "Bland Chromatin                True\n",
      "Normal Nucleoli                True\n",
      "Mitoses                        True\n",
      "dtype: bool\n",
      "Test mean squared error (MSE): 0.03\n",
      "[-2.20273198e-02  1.27321886e-02  3.21623017e-01  6.20352289e-02\n",
      "  9.76472481e-02 -2.39180945e-02  1.04303701e+00  3.52495639e-02\n",
      "  7.82427582e-01  1.43450146e-02  7.11755306e-02  3.09011584e-03\n",
      "  2.06339301e-02  8.76891682e-01  8.17543490e-02  2.72856254e-01\n",
      " -4.34833986e-02  1.01665639e+00 -1.92521028e-02  8.98776263e-01\n",
      "  9.06826179e-02  1.03862010e+00  1.35347768e+00  1.15488438e+00\n",
      "  3.54161725e-02 -1.85254206e-02  3.80348971e-01  9.34220313e-01\n",
      "  1.18998760e-01  9.38778879e-01  1.24403878e+00  8.14274610e-01\n",
      "  9.91176335e-01  8.38428824e-01  9.23352971e-01 -1.04142062e-03\n",
      "  1.66941139e-01  3.11628418e-02 -1.15724975e-01 -1.44707177e-04\n",
      "  1.67788606e-01  1.88611529e-02 -2.30094288e-02 -2.30439697e-02\n",
      "  8.25126613e-01  7.38631514e-01  1.27360379e+00  9.12963480e-02\n",
      "  1.35080473e-01  9.07377749e-01  1.35088829e+00 -3.04555993e-02\n",
      "  1.08413877e-01  3.88401189e-02  7.29629823e-01  6.82228126e-01\n",
      "  4.21028985e-02  2.00788549e-01  6.92549942e-02  5.10754131e-02\n",
      "  3.61916957e-01  8.73298028e-01  8.55151510e-02  9.23414962e-01\n",
      "  1.09709659e-02  2.29820442e-01  1.39239220e-01  3.91334642e-01\n",
      "  4.53030753e-02  8.70602164e-01  1.06617150e+00  2.49490844e-02\n",
      " -4.80080074e-03  4.60623363e-02  1.81179407e-01  4.63888917e-01\n",
      "  3.08139382e-01  1.21148526e-01  9.29807467e-01  7.18862411e-01\n",
      "  9.07602262e-01  1.90545705e-01 -1.21159387e-02  7.40347382e-03\n",
      "  7.12464797e-02  9.52854238e-02 -2.19598163e-02  6.64410868e-01\n",
      "  8.88468842e-01 -4.59209768e-02 -6.57494808e-04  8.84474390e-02\n",
      "  9.13360699e-01 -2.38092512e-02  1.26374302e-01 -9.50508472e-03\n",
      "  7.46521092e-01  7.26778069e-02  8.35110369e-02  1.02813764e+00\n",
      "  5.09359954e-02  1.03091296e+00  1.04034382e-01  1.14670423e+00\n",
      "  3.04896418e-02  1.34063215e-01  4.16763084e-01  8.51714807e-03\n",
      "  9.35397129e-03  8.04038252e-01  6.98063285e-01 -5.27216780e-03\n",
      "  1.36647678e+00 -1.04628322e-02  8.83580588e-01 -1.18356192e-02\n",
      " -4.55774762e-02  4.08192087e-02  1.37308623e+00  1.49086625e-01\n",
      " -2.61468343e-02  4.47834448e-02 -2.94058182e-02  1.33882621e-01\n",
      "  2.07905248e-02  1.89294079e-02  9.94214102e-01  3.41025821e-02\n",
      " -2.56432896e-04 -3.59027482e-02  8.61046859e-02  6.36098363e-02\n",
      "  2.10844870e-01  6.25169483e-02  1.13412261e+00  1.57770505e-01\n",
      "  9.80754096e-01  1.58042207e-01 -3.99286879e-02  1.08089802e-01]\n"
     ]
    }
   ],
   "source": [
    "from sklearn.preprocessing import scale \n",
    "from sklearn.model_selection import train_test_split\n",
    "from sklearn.linear_model import Ridge, Lasso, RidgeCV, LassoCV\n",
    "from sklearn.metrics import mean_squared_error\n",
    "\n",
    "\n",
    "alphas = 10**np.linspace(10,-2,100)*0.5\n",
    "ridge = Ridge(normalize = True)\n",
    "coefs = []\n",
    "\n",
    "for a in alphas:\n",
    "    ridge.set_params(alpha = a)\n",
    "    ridge.fit(xtrain,ytrain)\n",
    "    coefs.append(ridge.coef_)\n",
    "    \n",
    "np.shape(coefs) \n",
    "\n",
    "pred1 = ridge.predict(xtest)      \n",
    "print(pd.Series(True, index = df.columns[0:11])) # Print coefficients\n",
    "mse = mean_squared_error(ytest,pred1)          # Calculate the test MSE\n",
    "print(\"Test mean squared error (MSE): {:.2f}\".format(mse))\n",
    "\n",
    "# print score\n",
    "print(ridge.predict(xtest))"
   ]
  },
  {
   "cell_type": "markdown",
   "metadata": {},
   "source": [
    "### Precision-Recall Curve for Ridge1"
   ]
  },
  {
   "cell_type": "code",
   "execution_count": 4,
   "metadata": {},
   "outputs": [
    {
     "data": {
      "text/plain": [
       "<matplotlib.legend.Legend at 0x2bc00969460>"
      ]
     },
     "execution_count": 4,
     "metadata": {},
     "output_type": "execute_result"
    },
    {
     "data": {
      "image/png": "[encoded data removed]",
      "text/plain": [
       "<Figure size 432x288 with 1 Axes>"
      ]
     },
     "metadata": {
      "needs_background": "light"
     },
     "output_type": "display_data"
    }
   ],
   "source": [
    "from sklearn.metrics import precision_recall_curve\n",
    "from sklearn.metrics import plot_confusion_matrix\n",
    "from sklearn.metrics import confusion_matrix\n",
    "from mlxtend.plotting import plot_confusion_matrix\n",
    "import matplotlib.pyplot as plt\n",
    "\n",
    "#pass necessary parameters to precision_recall_curve method  \n",
    "precision, recall, thresholds = precision_recall_curve(ytest,pred1)\n",
    "\n",
    "# find threshold closest to zero\n",
    "close_zero = np.argmin(pred1)\n",
    "\n",
    "plt.plot(precision[close_zero], recall[close_zero], 'o', markersize=.1,\n",
    "         label=\"threshold zero\", fillstyle='full', c='blue', mew=.1)\n",
    "\n",
    "plt.plot(precision, recall, label=\"precision recall curve\")\n",
    "plt.xlabel(\"Precision\")\n",
    "plt.ylabel(\"Recall\")\n",
    "plt.legend(loc=\"best\")\n"
   ]
  },
  {
   "cell_type": "markdown",
   "metadata": {},
   "source": [
    "**Q3** Train Ridge Regression Model on the training set, and evaluate\n",
    "1. Now, Create a Ridge Regression passing ```alpha = 4, normalize = True to Ridge()```\n",
    "2. Fit the model with the train data\n",
    "3. Predict the values with the test data\n",
    "4. Print the coefficients of the model\n",
    "5. Calculate the test MSE \n",
    "6. Get the score from the model using test data\n",
    "7. Plot Precision-Recall Curve from the true & predicted test data\n",
    "\n",
    "**A3** Replace ??? with code in the code cell below"
   ]
  },
  {
   "cell_type": "code",
   "execution_count": 5,
   "metadata": {},
   "outputs": [
    {
     "name": "stdout",
     "output_type": "stream",
     "text": [
      "Series([], dtype: float64)\n",
      "Test mean squared error (MSE): 0.07\n",
      "0.06928851837302454\n"
     ]
    },
    {
     "name": "stderr",
     "output_type": "stream",
     "text": [
      "<ipython-input-5-cef446508b02>:7: DeprecationWarning: The default dtype for empty Series will be 'object' instead of 'float64' in a future version. Specify a dtype explicitly to silence this warning.\n",
      "  print(pd.Series())\n"
     ]
    }
   ],
   "source": [
    "ridge2 = Ridge(alpha=4, normalize=True)\n",
    "ridge2.fit(xtrain,ytrain)       \n",
    "pred2 = ridge2.predict(xtest)\n",
    "\n",
    "\n",
    "#print model coefficients      \n",
    "print(pd.Series()) \n",
    "\n",
    "mse = mean_squared_error(ytest,pred2)       \n",
    "print(\"Test mean squared error (MSE): {:.2f}\".format(mse))\n",
    "\n",
    "#print score\n",
    "print(mean_squared_error(ytest,pred2))"
   ]
  },
  {
   "cell_type": "code",
   "execution_count": 6,
   "metadata": {},
   "outputs": [
    {
     "data": {
      "text/plain": [
       "<matplotlib.legend.Legend at 0x2bc076684f0>"
      ]
     },
     "execution_count": 6,
     "metadata": {},
     "output_type": "execute_result"
    },
    {
     "data": {
      "image/png": "[encoded data removed]",
      "text/plain": [
       "<Figure size 432x288 with 1 Axes>"
      ]
     },
     "metadata": {
      "needs_background": "light"
     },
     "output_type": "display_data"
    }
   ],
   "source": [
    "#pass necessary parameters to precision_recall_curve method  \n",
    "precision, recall, thresholds = precision_recall_curve(ytest,pred2)\n",
    "\n",
    "# find threshold closest to zero\n",
    "close_zero = np.argmin(pred2)\n",
    "\n",
    "plt.plot(precision[close_zero], recall[close_zero], 'o', markersize=.1,\n",
    "         label=\"threshold zero\", fillstyle='full', c='blue', mew=.1)\n",
    "\n",
    "plt.plot(precision, recall, label=\"precision recall curve\")\n",
    "plt.xlabel(\"Precision\")\n",
    "plt.ylabel(\"Recall\")\n",
    "plt.legend(loc=\"best\")"
   ]
  },
  {
   "cell_type": "markdown",
   "metadata": {},
   "source": [
    "**Q4** Train Ridge Regression Model on the training set, and evaluate\n",
    "1. Now, Create a Ridge Regression passing ```alpha = 100, normalize = True to Ridge()```\n",
    "2. Fit the model with the train data\n",
    "3. Predict the values with the test data\n",
    "4. Print the coefficients of the model\n",
    "5. Calculate the test MSE \n",
    "6. Get the score from the model using test data\n",
    "7. Plot Precision-Recall Curve from the true & predicted test data\n",
    "\n",
    "**A4** Replace ??? with code in the code cell below"
   ]
  },
  {
   "cell_type": "code",
   "execution_count": 7,
   "metadata": {},
   "outputs": [
    {
     "name": "stdout",
     "output_type": "stream",
     "text": [
      "Series([], dtype: float64)\n",
      "Test mean squared error (MSE): 0.21\n",
      "0.20543289991759178\n"
     ]
    },
    {
     "name": "stderr",
     "output_type": "stream",
     "text": [
      "<ipython-input-7-8c42a15fc2bd>:7: DeprecationWarning: The default dtype for empty Series will be 'object' instead of 'float64' in a future version. Specify a dtype explicitly to silence this warning.\n",
      "  print(pd.Series())\n"
     ]
    }
   ],
   "source": [
    "\n",
    "ridge3 = Ridge(alpha = 100, normalize = True)\n",
    "ridge3.fit(xtrain,ytrain)             \n",
    "pred3 = ridge3.predict(xtest) \n",
    "\n",
    "\n",
    "#print model coefficients      \n",
    "print(pd.Series()) \n",
    "\n",
    "mse = mean_squared_error(ytest,pred3)       \n",
    "print(\"Test mean squared error (MSE): {:.2f}\".format(mse))\n",
    "\n",
    "#print score\n",
    "print(mean_squared_error(ytest,pred3))"
   ]
  },
  {
   "cell_type": "code",
   "execution_count": 8,
   "metadata": {},
   "outputs": [
    {
     "data": {
      "text/plain": [
       "<matplotlib.legend.Legend at 0x2bc076fd3d0>"
      ]
     },
     "execution_count": 8,
     "metadata": {},
     "output_type": "execute_result"
    },
    {
     "data": {
      "image/png": "[encoded data removed]",
      "text/plain": [
       "<Figure size 432x288 with 1 Axes>"
      ]
     },
     "metadata": {
      "needs_background": "light"
     },
     "output_type": "display_data"
    }
   ],
   "source": [
    "#pass necessary parameters to precision_recall_curve method  \n",
    "precision, recall, thresholds = precision_recall_curve(ytest,pred3)\n",
    "\n",
    "# find threshold closest to zero\n",
    "close_zero = np.argmin(pred3)\n",
    "\n",
    "plt.plot(precision[close_zero], recall[close_zero], 'o', markersize=.1,\n",
    "         label=\"threshold zero\", fillstyle='full', c='blue', mew=.1)\n",
    "\n",
    "plt.plot(precision, recall, label=\"precision recall curve\")\n",
    "plt.xlabel(\"Precision\")\n",
    "plt.ylabel(\"Recall\")\n",
    "plt.legend(loc=\"best\")"
   ]
  },
  {
   "cell_type": "markdown",
   "metadata": {},
   "source": [
    "**Q5** Train Ridge Regression Model on the training set, and evaluate\n",
    "1. Now, Create a Ridge Regression passing ```alpha = 0, normalize = True to Ridge()```\n",
    "2. Fit the model with the train data\n",
    "3. Predict the values with the test data\n",
    "4. Print the coefficients of the model\n",
    "5. Calculate the test MSE \n",
    "6. Get the score from the model using test data\n",
    "7. Plot Precision-Recall Curve from the true & predicted test data\n",
    "\n",
    "**A5** Replace ??? with code in the code cell below"
   ]
  },
  {
   "cell_type": "code",
   "execution_count": 9,
   "metadata": {},
   "outputs": [
    {
     "name": "stdout",
     "output_type": "stream",
     "text": [
      "Series([], dtype: float64)\n",
      "Test mean squared error (MSE): 0.03\n",
      "0.03452580841538707\n"
     ]
    },
    {
     "name": "stderr",
     "output_type": "stream",
     "text": [
      "<ipython-input-9-74ccb3f2af84>:7: DeprecationWarning: The default dtype for empty Series will be 'object' instead of 'float64' in a future version. Specify a dtype explicitly to silence this warning.\n",
      "  print(pd.Series())\n"
     ]
    }
   ],
   "source": [
    "\n",
    "ridge4 = Ridge(alpha=0,normalize=True)\n",
    "ridge4.fit(xtrain,ytrain)             \n",
    "pred4 = ridge4.predict(xtest) \n",
    "\n",
    "\n",
    "#print model coefficients      \n",
    "print(pd.Series()) \n",
    "\n",
    "mse = mean_squared_error(ytest,pred4)       \n",
    "print(\"Test mean squared error (MSE): {:.2f}\".format(mse))\n",
    "\n",
    "#print score\n",
    "print(mean_squared_error(ytest,pred4))"
   ]
  },
  {
   "cell_type": "code",
   "execution_count": 10,
   "metadata": {},
   "outputs": [
    {
     "data": {
      "text/plain": [
       "<matplotlib.legend.Legend at 0x2bc077628b0>"
      ]
     },
     "execution_count": 10,
     "metadata": {},
     "output_type": "execute_result"
    },
    {
     "data": {
      "image/png": "[encoded data removed]",
      "text/plain": [
       "<Figure size 432x288 with 1 Axes>"
      ]
     },
     "metadata": {
      "needs_background": "light"
     },
     "output_type": "display_data"
    }
   ],
   "source": [
    "#pass necessary parameters to precision_recall_curve method  \n",
    "precision, recall, thresholds = precision_recall_curve(ytest,pred4)\n",
    "\n",
    "# find threshold closest to zero\n",
    "close_zero = np.argmin(pred4)\n",
    "\n",
    "plt.plot(precision[close_zero], recall[close_zero], 'o', markersize=.1,\n",
    "         label=\"threshold zero\", fillstyle='full', c='blue', mew=.1)\n",
    "\n",
    "plt.plot(precision, recall, label=\"precision recall curve\")\n",
    "plt.xlabel(\"Precision\")\n",
    "plt.ylabel(\"Recall\")\n",
    "plt.legend(loc=\"best\")"
   ]
  },
  {
   "cell_type": "markdown",
   "metadata": {},
   "source": [
    "**Q6** **Study the codes above and answer the following questions:***\n",
    "\n",
    "1. Why when passing alpha = 100, the coefficients become very small? \n",
    "2. Does alpha = 4 improve the MSE comparing to regular least squares?\n",
    "3. How the size of alphas affects MSE and the Score of the models? \n",
    "\n",
    "\n",
    "**A6** Your answers:\n",
    "\n",
    "1.\n",
    "\n",
    "2.\n",
    "\n",
    "3.\n"
   ]
  },
  {
   "cell_type": "markdown",
   "metadata": {},
   "source": [
    "# Lasso Regularization"
   ]
  },
  {
   "cell_type": "markdown",
   "metadata": {},
   "source": [
    "**Q7 Create a Lasso Regression passing ```max_iter = 10000, normalize = True to Lasso()```**\n",
    "\n",
    "1. se the alphas from the 2nd question for setting parameters in Lasso\n",
    "2. Fit the model with the train data\n",
    "3. Predict the values with the test data\n",
    "4. Print the coefficients of the model\n",
    "5. Calculate the test MSE \n",
    "6. Get the score from the model using test data\n",
    "7. Plot Precision-Recall Curve from the true & predicted test data\n",
    "\n",
    "\n",
    "**A7** \n",
    "\n",
    "Replace ??? with code in the code cell below\n"
   ]
  },
  {
   "cell_type": "code",
   "execution_count": 11,
   "metadata": {},
   "outputs": [
    {
     "name": "stdout",
     "output_type": "stream",
     "text": [
      "Series([], dtype: float64)\n",
      "Test mean squared error (MSE): 0.06\n",
      "0.056161979505559005\n"
     ]
    },
    {
     "name": "stderr",
     "output_type": "stream",
     "text": [
      "<ipython-input-11-d3ef7b9f97dd>:13: DeprecationWarning: The default dtype for empty Series will be 'object' instead of 'float64' in a future version. Specify a dtype explicitly to silence this warning.\n",
      "  print(pd.Series())             # Print coefficients\n"
     ]
    }
   ],
   "source": [
    "#Lasso regression\n",
    "lasso = Lasso(max_iter = 10000, normalize = True)\n",
    "coefs = []\n",
    "\n",
    "for a in alphas:\n",
    "    lasso.set_params(alpha=a)\n",
    "    lasso.fit(xtrain, ytrain)\n",
    "    coefs.append(lasso.coef_)\n",
    "\n",
    "np.shape(coefs) \n",
    "\n",
    "pred1_lasso = lasso.predict(xtest)       \n",
    "print(pd.Series())             # Print coefficients\n",
    "mse = mean_squared_error(ytest,pred1_lasso)               \n",
    "\n",
    "print(\"Test mean squared error (MSE): {:.2f}\".format(mse))\n",
    "\n",
    "#Print the score\n",
    "print(mean_squared_error(ytest,pred1_lasso))"
   ]
  },
  {
   "cell_type": "code",
   "execution_count": 12,
   "metadata": {},
   "outputs": [
    {
     "data": {
      "text/plain": [
       "<matplotlib.legend.Legend at 0x2bc077c8e20>"
      ]
     },
     "execution_count": 12,
     "metadata": {},
     "output_type": "execute_result"
    },
    {
     "data": {
      "image/png": "[encoded data removed]",
      "text/plain": [
       "<Figure size 432x288 with 1 Axes>"
      ]
     },
     "metadata": {
      "needs_background": "light"
     },
     "output_type": "display_data"
    }
   ],
   "source": [
    "#pass necessary parameters to precision_recall_curve method  \n",
    "precision, recall, thresholds = precision_recall_curve(ytest,pred1_lasso)\n",
    "\n",
    "# find threshold closest to zero\n",
    "close_zero = np.argmin(pred1_lasso)\n",
    "\n",
    "plt.plot(precision[close_zero], recall[close_zero], 'o', markersize=.1,\n",
    "         label=\"threshold zero\", fillstyle='full', c='blue', mew=.1)\n",
    "\n",
    "plt.plot(precision, recall, label=\"precision recall curve\")\n",
    "plt.xlabel(\"Precision\")\n",
    "plt.ylabel(\"Recall\")\n",
    "plt.legend(loc=\"best\")"
   ]
  },
  {
   "cell_type": "markdown",
   "metadata": {},
   "source": [
    "\n",
    "**Q8 Observe the lasso.coef and ridge.coef, and discuss the findings below**\n",
    "\n",
    "\n",
    "**A8**  Your answer goes here: "
   ]
  }
 ],
 "metadata": {
  "colab": {
   "collapsed_sections": [],
   "name": "Copy of CS4347-Assignment2-NETID.ipynb",
   "provenance": [
    {
     "file_id": "1vsORsvIGVbJ2cNHR1lIPDIuGobP25ZPq",
     "timestamp": 1629391503766
    },
    {
     "file_id": "1vuQua73YBPg3xOVKXACAGdS_8R1OlQdX",
     "timestamp": 1611597429764
    },
    {
     "file_id": "1Jr8VoifAgTlPqVE_AiCDeWbiHGEyvkxq",
     "timestamp": 1580784119108
    }
   ]
  },
  "interpreter": {
   "hash": "61092feec5071c5645c5e9fd8e6ed751662eaf3fad39a8c2be0e7ae1843d914b"
  },
  "kernelspec": {
   "display_name": "Python 3",
   "language": "python",
   "name": "python3"
  },
  "language_info": {
   "codemirror_mode": {
    "name": "ipython",
    "version": 3
   },
   "file_extension": ".py",
   "mimetype": "text/x-python",
   "name": "python",
   "nbconvert_exporter": "python",
   "pygments_lexer": "ipython3",
   "version": "3.8.8"
  }
 },
 "nbformat": 4,
 "nbformat_minor": 2
}
