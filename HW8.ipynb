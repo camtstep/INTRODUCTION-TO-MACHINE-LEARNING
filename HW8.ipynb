{
 "cells": [
  {
   "cell_type": "markdown",
   "metadata": {},
   "source": [
    "# HW 8\n",
    "\n",
    "This assignment covers Comparision of Decision Trees and Support Vector Machine. \n",
    "**DO NOT ERASE MARKDOWN CELLS AND INSTRUCTIONS IN YOUR HW submission**\n",
    "\n",
    "  * **Q** - QUESTION\n",
    "  * **A** - Where to input your answer\n",
    "\n",
    "## Instructions\n",
    "\n",
    "Keep the following in mind for all notebooks you develop:\n",
    "* Structure your notebook. \n",
    "* Use headings with meaningful levels in Markdown cells, and explain the questions each piece of code is to answer or the reason it is there.\n",
    "* Make sure your notebook can always be rerun from top to bottom.\n",
    "* Please start working on this assignment as soon as possible. If you are a beginner in Python this might take a long time. One of the objectives of this assignment is to help you learn python and scikit-learn package. \n",
    "* See [README.md](README.md) for homework submission instructions\n",
    "\n",
    "## Related Tutorials\n",
    "    \n",
    "* [Decision Tree with KFold Cross Validation](https://scikit-learn.org/stable/modules/generated/sklearn.model_selection.cross_val_score.html)\n",
    "\n",
    "* [Decision Tree with Bagging](https://scikit-learn.org/stable/modules/generated/sklearn.ensemble.BaggingRegressor.html#sklearn.ensemble.BaggingRegressor)\n",
    "\n",
    "* [Support Vector Machine](https://towardsdatascience.com/support-vector-machine-introduction-to-machine-learning-algorithms-934a444fca47)\n"
   ]
  },
  {
   "cell_type": "markdown",
   "metadata": {},
   "source": [
    "# Data Processing"
   ]
  },
  {
   "cell_type": "markdown",
   "metadata": {},
   "source": [
    "**Data** \n",
    "* Get the exploratory data from the git HW folder named ``HW8_data``.\n",
    "\n",
    "* If you are using command line, the command is:  \n",
    "```\n",
    ">> wget https://git.txstate.edu/ML/2021Fall/blob/master/HW/HW8_data.csv\n",
    "``` \n",
    "\n",
    "* wget instructions: \n",
    "  * dowload it from [link](https://eternallybored.org/misc/wget/) \n",
    "  * follow [steps](https://stackoverflow.com/questions/29113456/wget-not-recognized-as-internal-or-external-command)"
   ]
  },
  {
   "cell_type": "markdown",
   "metadata": {},
   "source": [
    "**Q1** Get training data from the dataframe\n",
    "1. Load HW8_data.csv into data frame\n",
    "2. Check if there is any NaN in the dataset\n",
    "3. Clean the dataset \n",
    "4. Assign values of ```target_class``` column to ```y```, note you have to use ```.values``` method\n",
    "5. Drop ```target_class``` column from data frame,\n",
    "6. Assign df values to x\n",
    "7. Split dataset into train and test data use train_test_split with test_size = 0.2, stratify y and random_state = 1238\n",
    "\n",
    "**A1** Replace ??? with code in the code cell below"
   ]
  },
  {
   "cell_type": "code",
   "execution_count": 1,
   "metadata": {},
   "outputs": [
    {
     "name": "stdout",
     "output_type": "stream",
     "text": [
      "0.0    8423\n",
      "1.0     850\n",
      "Name: target_class, dtype: int64\n"
     ]
    }
   ],
   "source": [
    "import numpy as np\n",
    "import pandas as pd\n",
    "from sklearn.model_selection import train_test_split\n",
    "from sklearn.linear_model import LogisticRegression\n",
    "\n",
    "#Read the data file using the appropriate separator as input to read_csv()\n",
    "\n",
    "df = pd.read_csv('HW8_data.csv')\n",
    "df.head(5)\n",
    "# check if there is NaN in the dataset\n",
    "df.isna().sum()\n",
    "#Drop NaNs if there is any\n",
    "df.dropna(inplace=True)\n",
    "\n",
    "# Count & Print number of entries for different class_target\n",
    "print(df['target_class'].value_counts())"
   ]
  },
  {
   "cell_type": "code",
   "execution_count": 2,
   "metadata": {},
   "outputs": [
    {
     "name": "stdout",
     "output_type": "stream",
     "text": [
      "(9273, 8)\n",
      "(9273,)\n"
     ]
    }
   ],
   "source": [
    "# Assign values of ```target_class``` column to y, note you have to use .values method\n",
    "y = df.target_class.values\n",
    "# Drop 'target_class' column from data frame,\n",
    "df.drop(columns=['target_class'], inplace=True)\n",
    "# Assign df values to x\n",
    "x = df.values\n",
    "# View shape of x and y\n",
    "print(x.shape)\n",
    "print(y.shape)\n",
    "\n",
    "xtrain, xtest, ytrain, ytest = train_test_split(x,y, test_size = 0.2, random_state=1238, stratify=y)"
   ]
  },
  {
   "cell_type": "markdown",
   "metadata": {
    "id": "NsUM8-i_KhK1"
   },
   "source": [
    "# Decision Tree"
   ]
  },
  {
   "cell_type": "markdown",
   "metadata": {},
   "source": [
    "## Decision Tree with different depth"
   ]
  },
  {
   "cell_type": "markdown",
   "metadata": {},
   "source": [
    "**Q2** Train DecisionTreeClassifier Model at different depths \n",
    "1. Create four [DecisionTreeClassifier](https://scikit-learn.org/stable/modules/generated/sklearn.tree.DecisionTreeClassifier.html) models with different parameters\n",
    "   * use ```max_depth``` size = 1, 2, 5, 25 & ```max_leaf_nodes```=5, 10, 15, 25 respectively\n",
    "   * use ```random_state=30``` & ```criterion='entropy'``` for all models\n",
    "2. Fit the model with the train data. You will have 4 different models for different depth sizes.\n",
    "3. Predict the values with the test data \n",
    "   * Calculate the mean squared error of each model's prediction\n",
    "   * Print precision recall curve for the model with the best MSE value\n",
    "\n",
    "**A2** Replace ??? with code in the code cell below"
   ]
  },
  {
   "cell_type": "code",
   "execution_count": 3,
   "metadata": {},
   "outputs": [
    {
     "name": "stdout",
     "output_type": "stream",
     "text": [
      "0.028032345013477088\n",
      "0.028032345013477088\n",
      "0.026415094339622643\n",
      "0.026954177897574125\n"
     ]
    }
   ],
   "source": [
    "from sklearn.tree import DecisionTreeClassifier\n",
    "from sklearn.metrics import mean_squared_error\n",
    "\n",
    "# create decision tree classifier \n",
    "# criterion='entropy'\n",
    "clf_1 = DecisionTreeClassifier(max_depth = 1, max_leaf_nodes=5, random_state=30, criterion='entropy')\n",
    "clf_2 = DecisionTreeClassifier(max_depth = 2, max_leaf_nodes=10, random_state=30, criterion='entropy')\n",
    "clf_3 = DecisionTreeClassifier(max_depth = 5, max_leaf_nodes=15, random_state=30, criterion='entropy')\n",
    "clf_4 = DecisionTreeClassifier(max_depth = 25, max_leaf_nodes=25, random_state=30, criterion='entropy')\n",
    "\n",
    "# fit regression model on train set\n",
    "clf_1.fit(xtrain, ytrain)\n",
    "clf_2.fit(xtrain, ytrain)\n",
    "clf_3.fit(xtrain, ytrain)\n",
    "clf_4.fit(xtrain, ytrain)\n",
    "\n",
    "#predict on test set\n",
    "y_1 = clf_1.predict(xtest)\n",
    "y_2 = clf_2.predict(xtest)\n",
    "y_3 = clf_3.predict(xtest)\n",
    "y_4 = clf_4.predict(xtest)\n",
    "\n",
    "#calculate mean_squared_error\n",
    "print(mean_squared_error(ytest, y_1))\n",
    "print(mean_squared_error(ytest, y_2))\n",
    "print(mean_squared_error(ytest, y_3))\n",
    "print(mean_squared_error(ytest, y_4))"
   ]
  },
  {
   "cell_type": "markdown",
   "metadata": {},
   "source": [
    "### Precision-Recall Curve for Best Model "
   ]
  },
  {
   "cell_type": "markdown",
   "metadata": {},
   "source": [
    "``Important Note:`` If ``from_estimator()`` function gives Attribute error then it means your sklearn is not updated.\n",
    "\n",
    "* If you are using conda, you can upgrade with\n",
    "\n",
    "conda upgrade -c conda-forge scikit-learn\n",
    "\n",
    "* or, with pip,\n",
    "\n",
    "python -m pip install scikit-learn --upgrade\n"
   ]
  },
  {
   "cell_type": "code",
   "execution_count": 6,
   "metadata": {},
   "outputs": [
    {
     "data": {
      "image/png": "[encoded data removed]",
      "text/plain": [
       "<Figure size 432x288 with 1 Axes>"
      ]
     },
     "metadata": {
      "needs_background": "light"
     },
     "output_type": "display_data"
    }
   ],
   "source": [
    "from sklearn.metrics import precision_recall_curve\n",
    "from sklearn.metrics import PrecisionRecallDisplay\n",
    "import matplotlib.pyplot as plt\n",
    "\n",
    "PrecisionRecallDisplay.from_estimator(clf_3,xtest,ytest)\n",
    "plt.show()"
   ]
  },
  {
   "cell_type": "markdown",
   "metadata": {},
   "source": [
    "### Decision Tree with K-fold cross validation"
   ]
  },
  {
   "cell_type": "markdown",
   "metadata": {},
   "source": [
    "**Q3** Use Kfold on the testing dataset, and evaluate the best model\n",
    "1. Finally pick the best max_depth you got\n",
    "2. Use this max_depth & max_leaf_node. Also, use cross_val_score and fit your model with k = 5 fold size\n",
    "3. Calculate average scores in kfold\n",
    "\n",
    "**A3** Replace ??? with code in the code cell below"
   ]
  },
  {
   "cell_type": "code",
   "execution_count": 11,
   "metadata": {},
   "outputs": [
    {
     "name": "stdout",
     "output_type": "stream",
     "text": [
      "Cross-validation scores: [0.97951482 0.97897574 0.97735849 0.97734628 0.97842503]\n",
      "Average cross-validation score: 0.98\n"
     ]
    }
   ],
   "source": [
    "from sklearn.model_selection import KFold, cross_val_score\n",
    "\n",
    "scores = cross_val_score(clf_3,x,y,cv=5)\n",
    "print(\"Cross-validation scores: {}\".format(scores))\n",
    "print(\"Average cross-validation score: {:.2f}\".format(np.average(scores)))"
   ]
  },
  {
   "cell_type": "markdown",
   "metadata": {},
   "source": [
    "###  Decision Tree with Bagging "
   ]
  },
  {
   "cell_type": "markdown",
   "metadata": {},
   "source": [
    "**Q4** Now we will use Bagging technique on the our previous best model, and evaluate it\n",
    "1. Now, Create a Bagged Model passing ```model = previous_best, n_estimators = 20 & random_state=1 to BaggingClassifier()```\n",
    "2. Fit the model with the train data\n",
    "3. Predict the values with the test data\n",
    "4. Calculate the test MSE \n",
    "5. Plot Precision-Recall Curve from the true & predicted test data\n",
    "\n",
    "**A4** Replace ??? with code in the code cell below"
   ]
  },
  {
   "cell_type": "code",
   "execution_count": 17,
   "metadata": {},
   "outputs": [
    {
     "data": {
      "text/plain": [
       "0.02857142857142857"
      ]
     },
     "execution_count": 17,
     "metadata": {},
     "output_type": "execute_result"
    }
   ],
   "source": [
    "from sklearn.ensemble import BaggingClassifier\n",
    "\n",
    "# Use BaggingRegressor to fit the training data\n",
    "# Calculate the mean squared error \n",
    "\n",
    "#load BaggingRegressor model and pass n_estimators=20, random_state=1\n",
    "bagged_clf = BaggingClassifier(n_estimators=20, random_state=1)\n",
    "bagged_clf.fit(xtrain, ytrain)\n",
    "pred = bagged_clf.predict(xtest)\n",
    "mean_squared_error(ytest, pred)"
   ]
  },
  {
   "cell_type": "code",
   "execution_count": 20,
   "metadata": {},
   "outputs": [
    {
     "data": {
      "image/png": "[encoded data removed]",
      "text/plain": [
       "<Figure size 432x288 with 1 Axes>"
      ]
     },
     "metadata": {
      "needs_background": "light"
     },
     "output_type": "display_data"
    }
   ],
   "source": [
    "#pass necessary parameters to PrecisionRecallDisplay.from_estimator() \n",
    "\n",
    "PrecisionRecallDisplay.from_estimator(bagged_clf,xtest,ytest)\n",
    "plt.show()"
   ]
  },
  {
   "cell_type": "markdown",
   "metadata": {},
   "source": [
    "# Support Vector Machine(SVM)"
   ]
  },
  {
   "cell_type": "markdown",
   "metadata": {},
   "source": [
    "**Q5** Create SVM Model on the training set, and evaluate\n",
    "\n",
    "1. Now, Create a SVM Model with default parameters\n",
    "2. Fit the model with the train data\n",
    "3. Predict the values with the test data\n",
    "4. Calculate the test MSE \n",
    "5. Plot confusion matrix on the test data\n",
    "\n",
    "\n",
    "**A5** Replace ??? with code in the code cell below"
   ]
  },
  {
   "cell_type": "code",
   "execution_count": 25,
   "metadata": {},
   "outputs": [
    {
     "name": "stdout",
     "output_type": "stream",
     "text": [
      "Model MSE: 0.0334\n",
      "Model accuracy score with default hyperparameters: 0.9666\n"
     ]
    }
   ],
   "source": [
    "# import SVC classifier\n",
    "from sklearn.svm import SVC\n",
    "# import metrics to compute accuracy\n",
    "from sklearn.metrics import accuracy_score\n",
    "\n",
    "svc= SVC()\n",
    "\n",
    "# fit classifier to training set\n",
    "svc.fit(xtrain, ytrain)\n",
    "\n",
    "\n",
    "# make predictions on test set\n",
    "y_pred=svc.predict(xtest)\n",
    "\n",
    "# Calculate MSE\n",
    "\n",
    "print('Model MSE: {0:0.4f}'.format(mean_squared_error(ytest, y_pred)))\n",
    "\n",
    "# compute and print accuracy score\n",
    "print('Model accuracy score with default hyperparameters: {0:0.4f}'. format(accuracy_score(ytest, y_pred)))"
   ]
  },
  {
   "cell_type": "code",
   "execution_count": 27,
   "metadata": {},
   "outputs": [
    {
     "data": {
      "text/plain": [
       "<Figure size 432x288 with 0 Axes>"
      ]
     },
     "metadata": {},
     "output_type": "display_data"
    },
    {
     "data": {
      "image/png": "[encoded data removed]",
      "text/plain": [
       "<Figure size 864x576 with 1 Axes>"
      ]
     },
     "metadata": {
      "needs_background": "light"
     },
     "output_type": "display_data"
    }
   ],
   "source": [
    "from sklearn.metrics import plot_confusion_matrix\n",
    "from sklearn.metrics import confusion_matrix\n",
    "from mlxtend.plotting import plot_confusion_matrix\n",
    "import matplotlib.pyplot as pl\n",
    "\n",
    "cm = confusion_matrix(ytest, y_pred)\n",
    "plt.figure()\n",
    "plot_confusion_matrix(cm, figsize=(12,8), hide_ticks=True, cmap=plt.cm.Blues)\n",
    "plt.title(\"SVM Model - Confusion Matrix\")\n",
    "plt.xticks(range(2), [\"Class 1\",\"Class 2\"], fontsize=16)\n",
    "plt.yticks(range(2), [\"Class 1\",\"Class 2\"], fontsize=16)\n",
    "plt.show()"
   ]
  },
  {
   "cell_type": "markdown",
   "metadata": {},
   "source": [
    "## SVM with high margin"
   ]
  },
  {
   "cell_type": "markdown",
   "metadata": {},
   "source": [
    "**Q6** Create SVM Model on the training set, and evaluate\n",
    "\n",
    "``Note:``\n",
    "1. If we analyze our dataset using df.describe() function, we will see that there are many outliers in the dataset.\n",
    "2. So, we need to increase our margin with ```HIGH C``` values so that the SVM model get better generalization\n",
    "\n",
    "``Task:``\n",
    "\n",
    "1. Now, Create a SVM Model with rbf kernel and C=100\n",
    "2. Fit the model with the train data\n",
    "3. Predict the values with the test data\n",
    "4. Calculate the test MSE \n",
    "5. Plot Confusion Matrix from the true & predicted test data\n",
    "\n",
    "\n",
    "**A6** Replace ??? with code in the code cell below\n"
   ]
  },
  {
   "cell_type": "code",
   "execution_count": 28,
   "metadata": {},
   "outputs": [
    {
     "name": "stdout",
     "output_type": "stream",
     "text": [
      "Model accuracy score with rbf kernel and C=100.0 : 0.9709\n"
     ]
    }
   ],
   "source": [
    "# instantiate classifier with rbf kernel and C=100\n",
    "svc= SVC(kernel='rbf', C=100)\n",
    "\n",
    "\n",
    "# fit classifier to training set\n",
    "svc.fit(xtrain, ytrain)\n",
    "\n",
    "\n",
    "# make predictions on test set\n",
    "y_pred_high=svc.predict(xtest)\n",
    "\n",
    "\n",
    "# compute and print accuracy score\n",
    "print('Model accuracy score with rbf kernel and C=100.0 : {0:0.4f}'. format(accuracy_score(ytest, y_pred_high)))"
   ]
  },
  {
   "cell_type": "code",
   "execution_count": 29,
   "metadata": {},
   "outputs": [
    {
     "data": {
      "text/plain": [
       "<Figure size 432x288 with 0 Axes>"
      ]
     },
     "metadata": {},
     "output_type": "display_data"
    },
    {
     "data": {
      "image/png": "[encoded data removed]",
      "text/plain": [
       "<Figure size 864x576 with 1 Axes>"
      ]
     },
     "metadata": {
      "needs_background": "light"
     },
     "output_type": "display_data"
    }
   ],
   "source": [
    "from sklearn.metrics import plot_confusion_matrix\n",
    "from sklearn.metrics import confusion_matrix\n",
    "from mlxtend.plotting import plot_confusion_matrix\n",
    "import matplotlib.pyplot as pl\n",
    "\n",
    "cm = confusion_matrix(ytest, y_pred_high)\n",
    "plt.figure()\n",
    "plot_confusion_matrix(cm, figsize=(12,8), hide_ticks=True, cmap=plt.cm.Blues)\n",
    "plt.title(\"SVM Model - Confusion Matrix\")\n",
    "plt.xticks(range(2), [\"Class 1\",\"Class 2\"], fontsize=16)\n",
    "plt.yticks(range(2), [\"Class 1\",\"Class 2\"], fontsize=16)\n",
    "plt.show()"
   ]
  },
  {
   "cell_type": "markdown",
   "metadata": {},
   "source": [
    "## SVM with linear kernel"
   ]
  },
  {
   "cell_type": "markdown",
   "metadata": {},
   "source": [
    "**Q7** Create SVM Model on the training set, and evaluate\n",
    "\n",
    "``Task:``\n",
    "\n",
    "1. Now, Create a SVM Model with linear kernel and C=1.0\n",
    "2. Fit the model with the train data\n",
    "3. Predict the values with the test data\n",
    "4. Calculate the test MSE \n",
    "5. Plot Confusion Matrix from the true & predicted test data\n",
    "\n",
    "\n",
    "**A7** Replace ??? with code in the code cell below\n"
   ]
  },
  {
   "cell_type": "code",
   "execution_count": 31,
   "metadata": {},
   "outputs": [
    {
     "name": "stdout",
     "output_type": "stream",
     "text": [
      "Model accuracy score with linear kernel and C=1.0 : 0.9736\n"
     ]
    }
   ],
   "source": [
    "# instantiate classifier with linear kernel and C=1.0\n",
    "linear_svc=SVC(kernel=\"linear\",C=1.0)\n",
    "\n",
    "\n",
    "# fit classifier to training set\n",
    "linear_svc.fit(xtrain, ytrain)\n",
    "\n",
    "\n",
    "# make predictions on test set\n",
    "y_pred_test=linear_svc.predict(xtest)\n",
    "\n",
    "\n",
    "# compute and print accuracy score\n",
    "print('Model accuracy score with linear kernel and C=1.0 : {0:0.4f}'. format(accuracy_score(ytest, y_pred_test)))"
   ]
  },
  {
   "cell_type": "code",
   "execution_count": 32,
   "metadata": {},
   "outputs": [
    {
     "data": {
      "text/plain": [
       "<Figure size 432x288 with 0 Axes>"
      ]
     },
     "metadata": {},
     "output_type": "display_data"
    },
    {
     "data": {
      "image/png": "[encoded data removed]",
      "text/plain": [
       "<Figure size 864x576 with 1 Axes>"
      ]
     },
     "metadata": {
      "needs_background": "light"
     },
     "output_type": "display_data"
    }
   ],
   "source": [
    "from sklearn.metrics import plot_confusion_matrix\n",
    "from sklearn.metrics import confusion_matrix\n",
    "from mlxtend.plotting import plot_confusion_matrix\n",
    "import matplotlib.pyplot as pl\n",
    "\n",
    "cm = confusion_matrix(ytest, y_pred_test)\n",
    "plt.figure()\n",
    "plot_confusion_matrix(cm, figsize=(12,8), hide_ticks=True, cmap=plt.cm.Blues)\n",
    "plt.title(\"SVM Model - Confusion Matrix\")\n",
    "plt.xticks(range(2), [\"Class 1\",\"Class 2\"], fontsize=16)\n",
    "plt.yticks(range(2), [\"Class 1\",\"Class 2\"], fontsize=16)\n",
    "plt.show()"
   ]
  }
 ],
 "metadata": {
  "colab": {
   "collapsed_sections": [],
   "name": "Copy of CS4347-Assignment2-NETID.ipynb",
   "provenance": [
    {
     "file_id": "1vsORsvIGVbJ2cNHR1lIPDIuGobP25ZPq",
     "timestamp": 1629391503766
    },
    {
     "file_id": "1vuQua73YBPg3xOVKXACAGdS_8R1OlQdX",
     "timestamp": 1611597429764
    },
    {
     "file_id": "1Jr8VoifAgTlPqVE_AiCDeWbiHGEyvkxq",
     "timestamp": 1580784119108
    }
   ]
  },
  "interpreter": {
   "hash": "61092feec5071c5645c5e9fd8e6ed751662eaf3fad39a8c2be0e7ae1843d914b"
  },
  "kernelspec": {
   "display_name": "Python 3",
   "language": "python",
   "name": "python3"
  },
  "language_info": {
   "codemirror_mode": {
    "name": "ipython",
    "version": 3
   },
   "file_extension": ".py",
   "mimetype": "text/x-python",
   "name": "python",
   "nbconvert_exporter": "python",
   "pygments_lexer": "ipython3",
   "version": "3.8.8"
  }
 },
 "nbformat": 4,
 "nbformat_minor": 2
}
