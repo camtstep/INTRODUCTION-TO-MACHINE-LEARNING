{
 "cells": [
  {
   "cell_type": "markdown",
   "metadata": {},
   "source": [
    "# HW 3\n",
    "\n",
    "**DO NOT ERASE MARKDOWN CELLS AND INSTRUCTIONS IN YOUR HW submission**\n",
    "\n",
    "  * **Q** - QUESTION\n",
    "  * **A** - Where to input your answer\n",
    "\n",
    "Keep the following in mind for all notebooks you develop:\n",
    "* Structure your notebook. \n",
    "* Use headings with meaningful levels in Markdown cells, and explain the questions each piece of code is to answer or the reason it is there.\n",
    "* Make sure your notebook can always be rerun from top to bottom.\n",
    "\n",
    "Provided Jupyter notbook includes several notes, documentation and examples followed by coding challenges. \n",
    "* This assignment will cover several aspects in Python programming. \n",
    "* Python documentation has many examples, you can run these examples in your own version of notebook.\n",
    "  1.   Data Structures | [tutorial](https://docs.python.org/3.8/tutorial/datastructures.html)\n",
    "  2.   Input/Output | [tutorial](https://docs.python.org/3.8/tutorial/inputoutput.html) \n",
    "  3.   Errors and Exceptions | [tutorial](https://docs.python.org/3.8/tutorial/errors.html) \n",
    "  4.   Numpy | [quickstart](https://numpy.org/devdocs/user/quickstart.html)\n",
    "\n",
    "\n",
    "* Follow [README.md](README.md) for homework submission instructions\n",
    "\n",
    "**NOTE** Please start working on this assignment as soon as possible. If you are a beginner in Python this might take a long time. The objective of this assignment is to help you learn python.** \n",
    "\n",
    "In jupyter notebook environment, commands starting with the symbol % are magic commands or magic functions. ```%%timeit``` is one of such function. It basically gives you the speed of execution  of certain statement or blocks of codes."
   ]
  },
  {
   "cell_type": "markdown",
   "metadata": {
    "id": "0yKUUNHlR53f"
   },
   "source": [
    "\n",
    "## CONTROL FLOWS\n",
    "\n",
    "### If-else statements"
   ]
  },
  {
   "cell_type": "code",
   "execution_count": 1,
   "metadata": {
    "id": "UqEtM9VgRoh6"
   },
   "outputs": [
    {
     "name": "stdout",
     "output_type": "stream",
     "text": [
      "Enter A Number : 6\n",
      "6 is positive\n"
     ]
    }
   ],
   "source": [
    "x = int(input('Enter A Number : ')) #Cast to integer\n",
    "\n",
    "if x>0:\n",
    "  print(f'{x} is positive')\n",
    "elif x<0:\n",
    "  print(f'{x} is negative')\n",
    "else:\n",
    "  print(f'{x} is neither negative nor positive')"
   ]
  },
  {
   "cell_type": "markdown",
   "metadata": {
    "id": "aWziLa7WbpZA"
   },
   "source": [
    "**Q1:** Complete the following code below so that: \n",
    "* if the user input is greater than goal_number prompt 'Guess is higher!'\n",
    "* if user input is smaller than goal_number prompt 'Guess is lower!'\n",
    "* if user input is equal to the goal_number prompt 'Congratulations you guessed it right!'\n",
    "\n",
    "**A1** Replace ??? with code in the code cell below"
   ]
  },
  {
   "cell_type": "code",
   "execution_count": 2,
   "metadata": {
    "id": "5KA09GE0a7_d"
   },
   "outputs": [
    {
     "name": "stdout",
     "output_type": "stream",
     "text": [
      "Guess your random number : 5\n",
      "Guess is lower!\n"
     ]
    }
   ],
   "source": [
    "# A1: fill in ???\n",
    "from random import randint\n",
    "goal_number = randint(1,101)\n",
    "x = int(input('Guess your random number : '))\n",
    "\n",
    "assert x in range(1, 101), 'YOUR INPUT MUST BE BETWEEN 1 AND 100 INCLUSIVE'\n",
    "\n",
    "#A1 Enter your code below \n",
    "# If user input is greater than goal_number prompt 'Guess is higher!'\n",
    "# If user input is smaller than goal_number prompt 'Guess is lower!'\n",
    "# If user input is equal to the goal_number prompt 'Congratulations you guessed it right!'\n",
    "\n",
    "if x>goal_number:\n",
    "  print('Guess is higher!')\n",
    "elif x<goal_number:\n",
    "  print('Guess is lower!')\n",
    "else:\n",
    "  print('Congratulations you guessed it right!')"
   ]
  },
  {
   "cell_type": "markdown",
   "metadata": {
    "id": "cB1TvPM7gsHR"
   },
   "source": [
    "# while loop\n",
    "  "
   ]
  },
  {
   "cell_type": "markdown",
   "metadata": {},
   "source": [
    "Following is a random math expression generator Just study this code and don't worry about it. We just need it for some math game we are going to make  "
   ]
  },
  {
   "cell_type": "code",
   "execution_count": 3,
   "metadata": {
    "id": "vgcaSt2Dgtey"
   },
   "outputs": [
    {
     "name": "stdout",
     "output_type": "stream",
     "text": [
      "rand_exp : - 9 * 4 - 7 * 10\n",
      "solution : - 9 * 4 - 7 * 10 = -106\n"
     ]
    }
   ],
   "source": [
    "from time import time\n",
    "import random\n",
    "random.seed()\n",
    "\n",
    "# Generate random symbol\n",
    "def symbol():\n",
    "  return random.choice(['+', '-', '*'])\n",
    "\n",
    "def symbol_():\n",
    "  return random.choice(['','-'])\n",
    "\n",
    "# Generate random number from 0 to 10\n",
    "def num():\n",
    "  return random.randint(0,10)\n",
    "\n",
    "rand_exp = f'{symbol_()} {num()} {symbol()} {num()} {symbol()} {num()} {symbol()} {num()}'\n",
    "print(f'rand_exp : {rand_exp}') \n",
    "print(f'solution : {rand_exp} = {eval(rand_exp)}') #We can Evaluate this statement"
   ]
  },
  {
   "cell_type": "markdown",
   "metadata": {},
   "source": [
    "Now with the help of above we will design a math-machine-game.Basically you have to keep calculating the value of a mathematical expression correctly.  \n",
    "1) For every question you are give ten seconds.  \n",
    "2) The more questions you answer correctly and the faster, the higher your score.   \n",
    "3) Your total score is the total time you saved out of each ten-second window.  \n",
    "4) If you answer a qustion wrong game will end.  \n",
    "5) If time is runs out the game will end.  \n",
    "\n",
    "\n",
    "This is basically a tutorial to make a very simple game.  \n",
    "You will be using this same idea to make a game that includes guessing a number  "
   ]
  },
  {
   "cell_type": "code",
   "execution_count": 4,
   "metadata": {
    "id": "UFgP9z8nlnbU"
   },
   "outputs": [
    {
     "name": "stdout",
     "output_type": "stream",
     "text": [
      " 0 + 9 - 9 - 1 = -1\n",
      "time elapsed = 4\n",
      "----------\n",
      "Great On Time\n",
      "Good one you got this right\n",
      "Your score is 6\n",
      "----------\n",
      "- 6 * 2 * 8 - 8 = -106\n",
      "time elapsed = 9\n",
      "----------\n",
      "Great On Time\n",
      "Sorry the correct answer is -104\n",
      "----------\n",
      "Final Score is 6\n"
     ]
    }
   ],
   "source": [
    "def math_machine_game():\n",
    "  score = 0\n",
    "  total_time = 10\n",
    "\n",
    "  while(True):\n",
    "    rand_exp = f'{symbol_()} {num()} {symbol()} {num()} {symbol()} {num()} {symbol()} {num()}'\n",
    "    real_value = eval(rand_exp)\n",
    "    timenow = time() #getting current time\n",
    "\n",
    "    value = int(input(f'{rand_exp} = '))\n",
    "    time_elapsed = int(time() - timenow) #just need this to calculate how many secods passed\n",
    "    intime = time_elapsed < total_time #is this on time??\n",
    "    print(f'time elapsed = {time_elapsed}')\n",
    "    print(f'-'*10)\n",
    "    if intime:\n",
    "      print(f'Great On Time')\n",
    "      if real_value == value:\n",
    "        score += int(total_time - time_elapsed)\n",
    "        print(f'Good one you got this right')\n",
    "        print(f'Your score is {score}')\n",
    "        print(f'-'*10)\n",
    "        continue # What does continue does here?\n",
    "      else:\n",
    "        print(f'Sorry the correct answer is {real_value}')\n",
    "        print(f'-'*10)\n",
    "        break # What does break does here?\n",
    "    else:\n",
    "      print(f'Sorry time expired')\n",
    "      print(f'-'*10)\n",
    "      break # What does break does here.\n",
    "\n",
    "  print(f'Final Score is {score}')\n",
    "\n",
    "math_machine_game()"
   ]
  },
  {
   "cell_type": "markdown",
   "metadata": {
    "id": "v-aFxbXfSdpA"
   },
   "source": [
    "Go to View -> Toggle Line Number (shift L) if you cannot see the line numbers\n",
    "\n",
    "**Q2** Respond to the following 3 questions related to the code snippet above \n",
    "\n",
    "1. What is the use of ```continue``` in line 22 in the code above?\n",
    "\n",
    "  The use of continue in line 22 in the code above causes the loop to start over at the top.\n",
    "\n",
    "\n",
    "2. What happens if we replace ```continue``` (line 22) with ```pass``` statement?\n",
    "\n",
    "  If we replace continue with pass in line 22 the loop will not restart and will only do one round of the game even if you   get the answer correct. \n",
    "\n",
    "\n",
    "3. What is the use of ```break``` command on lines 26 and 30.    \n",
    "\n",
    "  Break on lines 26 and 30 cause the game to stop. That is appropriate because the answer was incorrect or time expired.\n",
    "\n",
    "HINT: replace the code, run the cell and explain the outcome "
   ]
  },
  {
   "cell_type": "markdown",
   "metadata": {
    "id": "IIntd-qp7EBV"
   },
   "source": [
    "## FUNCTIONAL PROGRAMMING"
   ]
  },
  {
   "cell_type": "markdown",
   "metadata": {},
   "source": [
    "[lambda operation]: A lambda function is an anynymous function. It simply takes some input, processes it and returns it  \n",
    "You can call it as a one line function as well  \n",
    "\n",
    "Example: a lambda function that takes a,b -> adds them and returns the sume  "
   ]
  },
  {
   "cell_type": "code",
   "execution_count": 5,
   "metadata": {
    "id": "ol4lZgCv6NKQ"
   },
   "outputs": [
    {
     "name": "stdout",
     "output_type": "stream",
     "text": [
      "sumthem(2,3) = 5\n",
      "squareit(2) = 4\n"
     ]
    }
   ],
   "source": [
    "#lambda\n",
    "sumthem = lambda a,b:a+b\n",
    "print(f'sumthem(2,3) = {sumthem(2,3)}')\n",
    "\n",
    "squareit = lambda a:a**2\n",
    "print(f'squareit(2) = {squareit(2)}')"
   ]
  },
  {
   "cell_type": "markdown",
   "metadata": {},
   "source": [
    "It is not advised to use lambda every time, there are specific uses of lambda operations  \n",
    "To understand this lets discuss another powerful concept called as map  \n",
    "\n",
    "For a list x = [1,3,5,6,7], if I want to find a square of each element, i can use for loop or lambda operator: "
   ]
  },
  {
   "cell_type": "code",
   "execution_count": 6,
   "metadata": {},
   "outputs": [
    {
     "name": "stdout",
     "output_type": "stream",
     "text": [
      "x = [1, 3, 5, 6, 7]\n",
      "xsquare = [1, 9, 25, 36, 49]\n",
      "squarewithmap = <map object at 0x00000262291B6AC0>\n"
     ]
    }
   ],
   "source": [
    "#For loop \n",
    "x = [1,3,5,6,7]\n",
    "xsquare = []\n",
    "for xi in x:\n",
    "  xsquare.append(xi**2)\n",
    "print(f'x = {x}')\n",
    "print(f'xsquare = {xsquare}')\n",
    "\n",
    "# Well there is a pythonic way to do this, lets use map\n",
    "\n",
    "squarewithmap = map(lambda a:a**2, x)\n",
    "print(f'squarewithmap = {squarewithmap}')"
   ]
  },
  {
   "cell_type": "markdown",
   "metadata": {},
   "source": [
    "But that will print map object, you need to convert this into list. You can cast by list(mapobject)"
   ]
  },
  {
   "cell_type": "code",
   "execution_count": 7,
   "metadata": {},
   "outputs": [
    {
     "name": "stdout",
     "output_type": "stream",
     "text": [
      "squarewithmap = [1, 9, 25, 36, 49]\n",
      "squarewithmap = [1, 9, 25, 36, 49]\n"
     ]
    }
   ],
   "source": [
    "#lambda\n",
    "squarewithmap = list(map(lambda a:a**2, x))\n",
    "print(f'squarewithmap = {squarewithmap}')\n",
    "# Or,\n",
    "squarewithmap = [*map(lambda a:a**2, x)]\n",
    "print(f'squarewithmap = {squarewithmap}')"
   ]
  },
  {
   "cell_type": "markdown",
   "metadata": {},
   "source": [
    "Another important thing is 'filter'. Lets say we want to filter out odd numbers from x.   \n",
    "We can do this by taking only even numbers "
   ]
  },
  {
   "cell_type": "code",
   "execution_count": 8,
   "metadata": {},
   "outputs": [
    {
     "name": "stdout",
     "output_type": "stream",
     "text": [
      "filtered = [6]\n"
     ]
    }
   ],
   "source": [
    "filtered = [*filter(lambda x:x%2==0,x)]\n",
    "print(f'filtered = {filtered}')\n",
    "\n",
    "# There are many other functional aspects, we suggest you to visit the documentation to learn cool stuff\n",
    "# I would love to add those, but already assignment is too long"
   ]
  },
  {
   "cell_type": "markdown",
   "metadata": {
    "id": "tLgwe00m9un8"
   },
   "source": [
    "**Q3** Fill out two fuctional programming examples in the following code cell. \n",
    "\n",
    "**A3** Replace ? in the code below "
   ]
  },
  {
   "cell_type": "code",
   "execution_count": 9,
   "metadata": {
    "colab": {
     "base_uri": "https://localhost:8080/"
    },
    "executionInfo": {
     "elapsed": 374,
     "status": "ok",
     "timestamp": 1611117115987,
     "user": {
      "displayName": "Xiaomin Li",
      "photoUrl": "",
      "userId": "05582660067082111980"
     },
     "user_tz": 360
    },
    "id": "frQPIlth-sP4",
    "outputId": "5cba9045-19f8-4fb4-d10c-f41d1cdf0c5e"
   },
   "outputs": [
    {
     "name": "stdout",
     "output_type": "stream",
     "text": [
      "sum3(1, 2, 3) = 6\n",
      " 15 is an odd number : True\n"
     ]
    }
   ],
   "source": [
    "#Task 1: Add argument a, b, and c and return the result\n",
    "sum3 = lambda a, b, c: a+b+c \n",
    "print(f'sum3(1, 2, 3) = {sum3(1, 2, 3)}')\n",
    "\n",
    "#Task 2: Return True if the input augument is odd number\n",
    "isOdd = lambda x:x%2==1\n",
    "print(f' 15 is an odd number : {isOdd(15)}')\n"
   ]
  },
  {
   "cell_type": "markdown",
   "metadata": {
    "id": "Xaeevxa8HyMX"
   },
   "source": [
    "## PANDAS"
   ]
  },
  {
   "cell_type": "markdown",
   "metadata": {},
   "source": [
    "[Pandas](https://pandas.pydata.org/docs/pandas.pdf) is a python library to deal with tabular data. \n",
    "First, we create artificial tabular data using python [faker](https://faker.readthedocs.io/en/master/) python module. \n",
    "\n",
    "If ```faker``` package is not installed, use \n",
    "```conda install faker``` in commandline"
   ]
  },
  {
   "cell_type": "code",
   "execution_count": 10,
   "metadata": {
    "id": "usirwjRxIdK3"
   },
   "outputs": [],
   "source": [
    "# Lets use faker\n",
    "from faker import Faker\n",
    "import random\n",
    "random.seed()\n",
    "fake = Faker()\n",
    "\n",
    "#  Lets create some random data of size 100\n",
    "data = {'name' : [fake.name() for _ in range(100)],\n",
    "        'company' : [fake.company() for _ in range(100)],\n",
    "        'salary' : [random.randrange(50000,1000000,10000) for _ in range(100)],\n",
    "        'address' : [fake.address() for _ in range(100)]}\n"
   ]
  },
  {
   "cell_type": "code",
   "execution_count": 11,
   "metadata": {
    "id": "LWCS5IvZIs9q"
   },
   "outputs": [
    {
     "name": "stdout",
     "output_type": "stream",
     "text": [
      "{'name': ['Jennifer Baker', 'Christopher Taylor', 'Melissa Wilson', 'Lori Pham', 'Jacqueline Foster', 'Cassandra Howard', 'Amy Obrien', 'Rachael Boyd', 'Shirley White', 'Cassandra Murillo', 'Brian Watson', 'Angela Mercado', 'Rachel Perez', 'Mr. Lawrence Hill', 'Gabriel Gonzalez', 'Justin Soto', 'Michelle Williams', 'Alexis Mcintosh', 'Deborah Byrd', 'James Evans', 'Penny Rodgers', 'Randy Harris', 'Ryan Key', 'Michael Lewis', 'Kimberly Watson', 'Gregory Burns', 'Jason Gonzalez', 'Manuel Gonzalez', 'Tracey Smith', 'Christopher Nichols', 'Michelle Molina', 'Jeffrey Proctor', 'Alicia Huff', 'Donna Pineda', 'Nancy Lopez', 'Monique Clark', 'Melinda Moore', 'Jordan Brown', 'Veronica Rivera', 'Christopher Hicks', 'Brittany Robinson', 'Donna Glenn', 'Kelsey Williams', 'Cheyenne Cochran', 'Sarah Wang', 'Paul Smith', 'Joseph Wallace', 'Jessica Marshall', 'Danny Richardson', 'Chelsea Adams', 'Eric Jones', 'Priscilla Burns', 'Stephanie Reyes', 'Derek Sandoval', 'Luke Lawson', 'Valerie Fisher DVM', 'Jessica Clark', 'Joanne Cantrell', 'Cassidy Russell', 'Spencer Adams', 'Christopher Moore', 'Karla Jimenez', 'Kristen Glenn', 'Nicole Johnston', 'Heather Brown', 'Jeremy Rivera', 'Justin Mcintosh', 'Kelly Moss', 'Joshua Shaffer', 'Lisa Jones', 'Michelle Solomon', 'Donald Moore', 'Amy Rodriguez', 'Jessica Erickson', 'Taylor Cummings', 'Rebecca Goodman', 'Amy Brown', 'Amanda Gutierrez', 'Randy Clark', 'Aaron Smith', 'Daniel Berger', 'Randy Sawyer', 'Mr. Daniel Spears III', 'Corey Hoover', 'Rachel Hoffman', 'Calvin Hayes', 'Matthew Keller', 'Daniel Riddle', 'John Roberts', 'Brent Diaz', 'Adam Morton', 'John Ray', 'Cynthia Mullen', 'Janet Page', 'Shawn Chavez', 'Philip Baxter', 'Veronica Anderson', 'Rodney White', 'Michael Warner', 'Amy Cook'], 'company': ['Anderson Group', 'Rivera, Rivera and Scott', 'Franco, Garcia and Gomez', 'Jenkins LLC', 'Osborne, Ross and Walker', 'Hansen, Perez and Sloan', 'Pineda Inc', 'Mann Inc', 'Smith-Dougherty', 'Lewis and Sons', 'Mitchell, Garrett and Hayes', 'Reeves PLC', 'Mckinney-Travis', 'Walton-Henderson', 'Burton LLC', 'Simmons Group', 'Crawford Inc', 'Saunders, Walters and Moran', 'Vargas PLC', 'Bruce, Kennedy and Brown', 'Olson Ltd', 'Cantu-Craig', 'Neal-Moore', 'Rogers, Henderson and Nelson', 'Crosby-Macdonald', 'Meyers and Sons', 'Rowe, Matthews and Smith', 'Greer Group', 'Clark, Cole and Sanders', 'Ward PLC', 'Ingram-Barton', 'Sanders-Carlson', 'Wilson, Cook and Ayers', 'Smith-Brown', 'Johnson, Patterson and Shaw', 'Ramirez, Barry and Cook', 'Clark-Gilbert', 'Foster, Waller and Perkins', 'Phillips-Santana', 'Walker-Franklin', 'Perez-Carey', 'Gallegos, Mclaughlin and Burns', 'Nielsen PLC', 'Taylor-Perez', 'Butler Group', 'Ward-Anthony', 'Anderson-Scott', 'Mckenzie and Sons', 'Hobbs and Sons', 'Blackwell PLC', 'Wallace-Jones', 'Terry LLC', 'Moore, Collins and Hoffman', 'Buck and Sons', 'Jones Group', 'Martinez Group', 'Nguyen-Franklin', 'Ellison, Miller and Douglas', 'Contreras Inc', 'Johnson-Lee', 'White, Mason and Hunter', 'Nolan LLC', 'Pham, Riley and Williams', 'Jordan-Hinton', 'Nguyen Group', 'Curtis and Sons', 'Calhoun, Ford and Davis', 'Scott, Davenport and Brown', 'Gutierrez Ltd', 'Gonzalez-Fuller', 'Hendrix, Jones and Hernandez', 'Rodriguez Inc', 'Myers-Simpson', 'Cherry Inc', 'Martin, Snyder and Ortega', 'Esparza Inc', 'Brown, Ruiz and Mcpherson', 'Hernandez LLC', 'Todd LLC', 'Rodriguez-Robinson', 'Rodgers, Mclean and Austin', 'Mora-Bell', 'Lewis-Grant', 'Rogers-Edwards', 'Kaiser-Tran', 'Thomas-Frederick', 'Gonzalez-Love', 'Blankenship Inc', 'Carrillo Ltd', 'Crawford and Sons', 'Young-Hall', 'Travis LLC', 'Case-Allen', 'Lewis Ltd', 'Hamilton LLC', 'Klein, Travis and Green', 'Young-Baker', 'Cook-Tate', 'Cole-Peters', 'Kim PLC'], 'salary': [510000, 80000, 200000, 540000, 490000, 220000, 920000, 690000, 840000, 90000, 440000, 620000, 440000, 260000, 690000, 490000, 310000, 120000, 600000, 710000, 270000, 930000, 330000, 700000, 410000, 520000, 640000, 610000, 330000, 370000, 400000, 150000, 510000, 680000, 500000, 190000, 190000, 620000, 470000, 760000, 580000, 210000, 350000, 500000, 630000, 820000, 160000, 320000, 600000, 980000, 570000, 560000, 560000, 100000, 900000, 880000, 860000, 950000, 110000, 400000, 700000, 190000, 350000, 640000, 960000, 570000, 620000, 670000, 730000, 430000, 110000, 140000, 680000, 520000, 830000, 280000, 110000, 790000, 910000, 620000, 180000, 970000, 660000, 670000, 530000, 780000, 50000, 760000, 530000, 850000, 70000, 520000, 140000, 170000, 600000, 250000, 200000, 340000, 670000, 740000], 'address': ['5958 Michael Village Suite 129\\nWest Kevin, KS 65976', '42671 Ricardo Roads\\nBrendantown, RI 10369', '3103 Tammy View\\nAlexanderfurt, NC 63229', '052 Allen Bridge Apt. 194\\nParkerhaven, ND 81927', '4821 Denise Curve Apt. 871\\nNorth Jill, PA 98124', '16914 Le Road Suite 879\\nShieldsshire, KS 58869', '30884 Kevin Circles\\nDonnaport, AK 08626', 'USNV Kemp\\nFPO AE 05452', '528 Soto Ridges Apt. 684\\nChristopherland, ID 19579', '2173 Yvonne Village\\nWest Kayleeshire, WY 57737', 'USNV Sanchez\\nFPO AE 52495', '3908 Eric Wall\\nNorth James, CT 69816', '26463 Danielle Curve\\nGlennton, MD 95186', '6419 Martin Port Suite 049\\nPort Jenniferside, RI 90155', 'Unit 8682 Box 6153\\nDPO AP 01411', '6372 Austin Lakes Apt. 498\\nKevinberg, AZ 53408', '11283 Brittney Fords Apt. 008\\nNorth Natashaton, NE 42874', '135 King Parkways Apt. 867\\nEast Darryl, KS 50092', '5170 Garcia Ridges\\nNorth Jessicafort, WY 67130', '44201 Betty Crossing\\nScottfort, WA 02055', '03366 Keller Meadows\\nLake Margaretburgh, DC 82824', '79710 Cameron Shore\\nSouth Daniel, NJ 82956', 'Unit 8970 Box 5872\\nDPO AE 34793', '930 Bates Glens Suite 210\\nMartinview, IA 33663', '2462 Cole Plain\\nJonathanville, AR 29224', '696 Sarah Rest\\nWest Lisa, MT 45216', '68854 Alexis Grove Apt. 881\\nNatalieland, LA 58557', '6714 Robin Flat\\nFrancoton, RI 61957', '193 Daniel Highway\\nJoseberg, MT 19518', '247 Dawn Orchard Apt. 863\\nNew Chelsea, ME 05403', '114 Campbell Knolls\\nPricestad, MI 17852', '00018 Hill Spur\\nNew Kurt, WA 32476', '5453 Rickey Estate Apt. 640\\nJosephville, CO 66654', 'PSC 0282, Box 0719\\nAPO AP 39919', '3793 Ross Ports\\nWest Joelview, RI 76545', '72923 Zachary Heights Apt. 092\\nEsparzamouth, ID 75872', '52914 Sanchez Greens Suite 764\\nStephaniemouth, UT 57238', '95059 Mcguire Roads\\nSanchezport, AL 04951', '68728 Michelle Court Apt. 997\\nSusanton, FL 79742', '68071 Farmer Squares Apt. 538\\nWest Jillshire, WV 98125', '75490 Kayla Plaza\\nAmandaville, NH 10427', '040 Cindy Pike\\nLisachester, NE 63643', '01685 Tiffany Mountain Apt. 685\\nAyalachester, VT 21441', '997 Taylor Plaza Apt. 576\\nJonesport, OR 79616', '680 Katrina Freeway Suite 278\\nJoshuaberg, MT 60030', '475 Lopez Squares Apt. 137\\nBrittanyside, IA 14899', '0834 Cheryl Grove\\nNorth Sarah, NJ 66712', '1452 Michael Cape Apt. 327\\nLake Melissa, WA 40673', '260 Tina Isle Apt. 700\\nNew Michaelport, OR 09017', '1619 David Motorway Apt. 996\\nSalazarburgh, AZ 88228', '428 Thomas Inlet\\nNew Samantha, MO 33117', '6293 Diaz Summit Suite 905\\nHaleport, NV 64737', '41065 Michaela Green Suite 124\\nNew Chadberg, NE 08308', '24706 Martinez Point\\nSawyerberg, HI 57825', '929 Neal Mews\\nPort Jamesfurt, OR 85969', '222 Rivera Throughway Suite 494\\nKristintown, DC 89326', '576 Diaz Mill Suite 829\\nGarciabury, MD 67594', '52401 Melton Rapid Suite 829\\nEast Jacquelineton, MA 62034', '750 Price Haven Suite 073\\nHahntown, MN 68944', '14582 Perez Inlet Apt. 065\\nWest Charlesborough, MO 82782', '579 Wood Common\\nNew Kaitlynland, IL 14866', '79768 Jeffrey Views\\nSouth Richard, WV 46098', 'USCGC Tyler\\nFPO AE 98673', '0720 Kyle Manor Suite 993\\nNew Randy, MO 25164', '505 Martin Ville Suite 874\\nFletcherbury, OH 22276', '055 Dickerson Mountains Apt. 890\\nMarthaton, WI 23437', '6576 Adam Plain\\nShawnchester, KS 63918', '117 Cooper Points\\nDianefort, UT 48041', '096 Natalie Cliff\\nHalltown, AL 54309', '560 Mcgee Court\\nWest Rebecca, MN 08606', '7605 Kevin Heights Suite 812\\nPort Michellebury, VA 81837', '213 Dean Prairie Apt. 247\\nMichaelfort, RI 01022', '679 Rodriguez Mill Suite 488\\nJacobburgh, NY 07443', '5861 Ramsey Groves\\nEast Stephenport, LA 33464', '80241 Howard Shores\\nEast Kennethmouth, OK 67862', '1944 Matthew Estates Apt. 863\\nLorishire, LA 35100', '2962 Fitzgerald Groves\\nNorth Michaelbury, AL 44205', '798 West Brook\\nWilkinsonmouth, MS 17312', '9192 Zimmerman Brooks\\nGilbertstad, NH 86535', '5016 Bryan Wall\\nJessicahaven, VA 92509', '379 Barbara Center\\nNew Paul, MT 62635', '11662 Kramer Expressway Suite 913\\nPowellmouth, ME 23497', '9615 Nathan Isle\\nSouth Douglasbury, AK 64765', '46636 Jenkins Summit\\nAmandaview, AK 14004', '52775 Jimenez Row\\nNorth Kristin, CT 38999', '00142 Hernandez Expressway\\nRomeroberg, NC 55595', '929 Brent Way Suite 104\\nSouth Dylan, MT 15955', '250 Barbara Road Suite 492\\nEast Nicolebury, WV 93339', '24908 Hannah Throughway Apt. 684\\nLopezland, MN 28982', '0761 Clark Highway Apt. 785\\nLake Lindafort, NV 70942', '115 Nichole Path Apt. 067\\nBennettmouth, VA 52199', '735 Valerie Cliffs\\nNorth Laurabury, TN 42388', '627 Jesse Valley\\nNew Amyland, MI 98160', '59289 Marshall Mission Suite 947\\nFishermouth, SC 89207', '8460 Kathy Courts\\nNorth Aaronmouth, AL 22237', '722 Oliver Route\\nHeatherville, VT 88058', '2756 Cassandra Lake Apt. 115\\nLake Shelbystad, SC 72891', '42026 Nicholas Cliff Suite 490\\nElliottstad, VT 63295', 'PSC 5217, Box 1441\\nAPO AP 90235', '7534 Hernandez Mountains Suite 111\\nPort Jordan, AZ 51228']}\n"
     ]
    }
   ],
   "source": [
    "print(data) # See our data"
   ]
  },
  {
   "cell_type": "markdown",
   "metadata": {},
   "source": [
    "### Well, now we can use panda dataframe to make this data more neat"
   ]
  },
  {
   "cell_type": "code",
   "execution_count": 12,
   "metadata": {
    "id": "WOrV-AcMIzgM"
   },
   "outputs": [
    {
     "data": {
      "text/html": [
       "<div>\n",
       "<style scoped>\n",
       "    .dataframe tbody tr th:only-of-type {\n",
       "        vertical-align: middle;\n",
       "    }\n",
       "\n",
       "    .dataframe tbody tr th {\n",
       "        vertical-align: top;\n",
       "    }\n",
       "\n",
       "    .dataframe thead th {\n",
       "        text-align: right;\n",
       "    }\n",
       "</style>\n",
       "<table border=\"1\" class=\"dataframe\">\n",
       "  <thead>\n",
       "    <tr style=\"text-align: right;\">\n",
       "      <th></th>\n",
       "      <th>name</th>\n",
       "      <th>company</th>\n",
       "      <th>salary</th>\n",
       "      <th>address</th>\n",
       "    </tr>\n",
       "  </thead>\n",
       "  <tbody>\n",
       "    <tr>\n",
       "      <th>0</th>\n",
       "      <td>Jennifer Baker</td>\n",
       "      <td>Anderson Group</td>\n",
       "      <td>510000</td>\n",
       "      <td>5958 Michael Village Suite 129\\nWest Kevin, KS...</td>\n",
       "    </tr>\n",
       "    <tr>\n",
       "      <th>1</th>\n",
       "      <td>Christopher Taylor</td>\n",
       "      <td>Rivera, Rivera and Scott</td>\n",
       "      <td>80000</td>\n",
       "      <td>42671 Ricardo Roads\\nBrendantown, RI 10369</td>\n",
       "    </tr>\n",
       "    <tr>\n",
       "      <th>2</th>\n",
       "      <td>Melissa Wilson</td>\n",
       "      <td>Franco, Garcia and Gomez</td>\n",
       "      <td>200000</td>\n",
       "      <td>3103 Tammy View\\nAlexanderfurt, NC 63229</td>\n",
       "    </tr>\n",
       "    <tr>\n",
       "      <th>3</th>\n",
       "      <td>Lori Pham</td>\n",
       "      <td>Jenkins LLC</td>\n",
       "      <td>540000</td>\n",
       "      <td>052 Allen Bridge Apt. 194\\nParkerhaven, ND 81927</td>\n",
       "    </tr>\n",
       "    <tr>\n",
       "      <th>4</th>\n",
       "      <td>Jacqueline Foster</td>\n",
       "      <td>Osborne, Ross and Walker</td>\n",
       "      <td>490000</td>\n",
       "      <td>4821 Denise Curve Apt. 871\\nNorth Jill, PA 98124</td>\n",
       "    </tr>\n",
       "    <tr>\n",
       "      <th>...</th>\n",
       "      <td>...</td>\n",
       "      <td>...</td>\n",
       "      <td>...</td>\n",
       "      <td>...</td>\n",
       "    </tr>\n",
       "    <tr>\n",
       "      <th>95</th>\n",
       "      <td>Philip Baxter</td>\n",
       "      <td>Klein, Travis and Green</td>\n",
       "      <td>250000</td>\n",
       "      <td>722 Oliver Route\\nHeatherville, VT 88058</td>\n",
       "    </tr>\n",
       "    <tr>\n",
       "      <th>96</th>\n",
       "      <td>Veronica Anderson</td>\n",
       "      <td>Young-Baker</td>\n",
       "      <td>200000</td>\n",
       "      <td>2756 Cassandra Lake Apt. 115\\nLake Shelbystad,...</td>\n",
       "    </tr>\n",
       "    <tr>\n",
       "      <th>97</th>\n",
       "      <td>Rodney White</td>\n",
       "      <td>Cook-Tate</td>\n",
       "      <td>340000</td>\n",
       "      <td>42026 Nicholas Cliff Suite 490\\nElliottstad, V...</td>\n",
       "    </tr>\n",
       "    <tr>\n",
       "      <th>98</th>\n",
       "      <td>Michael Warner</td>\n",
       "      <td>Cole-Peters</td>\n",
       "      <td>670000</td>\n",
       "      <td>PSC 5217, Box 1441\\nAPO AP 90235</td>\n",
       "    </tr>\n",
       "    <tr>\n",
       "      <th>99</th>\n",
       "      <td>Amy Cook</td>\n",
       "      <td>Kim PLC</td>\n",
       "      <td>740000</td>\n",
       "      <td>7534 Hernandez Mountains Suite 111\\nPort Jorda...</td>\n",
       "    </tr>\n",
       "  </tbody>\n",
       "</table>\n",
       "<p>100 rows × 4 columns</p>\n",
       "</div>"
      ],
      "text/plain": [
       "                  name                   company  salary  \\\n",
       "0       Jennifer Baker            Anderson Group  510000   \n",
       "1   Christopher Taylor  Rivera, Rivera and Scott   80000   \n",
       "2       Melissa Wilson  Franco, Garcia and Gomez  200000   \n",
       "3            Lori Pham               Jenkins LLC  540000   \n",
       "4    Jacqueline Foster  Osborne, Ross and Walker  490000   \n",
       "..                 ...                       ...     ...   \n",
       "95       Philip Baxter   Klein, Travis and Green  250000   \n",
       "96   Veronica Anderson               Young-Baker  200000   \n",
       "97        Rodney White                 Cook-Tate  340000   \n",
       "98      Michael Warner               Cole-Peters  670000   \n",
       "99            Amy Cook                   Kim PLC  740000   \n",
       "\n",
       "                                              address  \n",
       "0   5958 Michael Village Suite 129\\nWest Kevin, KS...  \n",
       "1          42671 Ricardo Roads\\nBrendantown, RI 10369  \n",
       "2            3103 Tammy View\\nAlexanderfurt, NC 63229  \n",
       "3    052 Allen Bridge Apt. 194\\nParkerhaven, ND 81927  \n",
       "4    4821 Denise Curve Apt. 871\\nNorth Jill, PA 98124  \n",
       "..                                                ...  \n",
       "95           722 Oliver Route\\nHeatherville, VT 88058  \n",
       "96  2756 Cassandra Lake Apt. 115\\nLake Shelbystad,...  \n",
       "97  42026 Nicholas Cliff Suite 490\\nElliottstad, V...  \n",
       "98                   PSC 5217, Box 1441\\nAPO AP 90235  \n",
       "99  7534 Hernandez Mountains Suite 111\\nPort Jorda...  \n",
       "\n",
       "[100 rows x 4 columns]"
      ]
     },
     "execution_count": 12,
     "metadata": {},
     "output_type": "execute_result"
    }
   ],
   "source": [
    "import pandas as pd\n",
    "df = pd.DataFrame(data = data, columns = data.keys())\n",
    "df"
   ]
  },
  {
   "cell_type": "code",
   "execution_count": 13,
   "metadata": {
    "id": "5oydGZMVJBxj"
   },
   "outputs": [
    {
     "data": {
      "text/html": [
       "<div>\n",
       "<style scoped>\n",
       "    .dataframe tbody tr th:only-of-type {\n",
       "        vertical-align: middle;\n",
       "    }\n",
       "\n",
       "    .dataframe tbody tr th {\n",
       "        vertical-align: top;\n",
       "    }\n",
       "\n",
       "    .dataframe thead th {\n",
       "        text-align: right;\n",
       "    }\n",
       "</style>\n",
       "<table border=\"1\" class=\"dataframe\">\n",
       "  <thead>\n",
       "    <tr style=\"text-align: right;\">\n",
       "      <th></th>\n",
       "      <th>salary</th>\n",
       "    </tr>\n",
       "  </thead>\n",
       "  <tbody>\n",
       "    <tr>\n",
       "      <th>count</th>\n",
       "      <td>100.000000</td>\n",
       "    </tr>\n",
       "    <tr>\n",
       "      <th>mean</th>\n",
       "      <td>504100.000000</td>\n",
       "    </tr>\n",
       "    <tr>\n",
       "      <th>std</th>\n",
       "      <td>257231.158079</td>\n",
       "    </tr>\n",
       "    <tr>\n",
       "      <th>min</th>\n",
       "      <td>50000.000000</td>\n",
       "    </tr>\n",
       "    <tr>\n",
       "      <th>25%</th>\n",
       "      <td>277500.000000</td>\n",
       "    </tr>\n",
       "    <tr>\n",
       "      <th>50%</th>\n",
       "      <td>525000.000000</td>\n",
       "    </tr>\n",
       "    <tr>\n",
       "      <th>75%</th>\n",
       "      <td>682500.000000</td>\n",
       "    </tr>\n",
       "    <tr>\n",
       "      <th>max</th>\n",
       "      <td>980000.000000</td>\n",
       "    </tr>\n",
       "  </tbody>\n",
       "</table>\n",
       "</div>"
      ],
      "text/plain": [
       "              salary\n",
       "count     100.000000\n",
       "mean   504100.000000\n",
       "std    257231.158079\n",
       "min     50000.000000\n",
       "25%    277500.000000\n",
       "50%    525000.000000\n",
       "75%    682500.000000\n",
       "max    980000.000000"
      ]
     },
     "execution_count": 13,
     "metadata": {},
     "output_type": "execute_result"
    }
   ],
   "source": [
    "df.describe() # Interesting things about this data frame is we can see the summary of data"
   ]
  },
  {
   "cell_type": "markdown",
   "metadata": {},
   "source": [
    "So since salary is only a column with numeric values, we get only salary statistics  \n",
    "You can access each column by following two ways  \n",
    "Lets access salary  "
   ]
  },
  {
   "cell_type": "code",
   "execution_count": 14,
   "metadata": {
    "id": "0BZVOiPNJyex"
   },
   "outputs": [
    {
     "data": {
      "text/plain": [
       "0     510000\n",
       "1      80000\n",
       "2     200000\n",
       "3     540000\n",
       "4     490000\n",
       "       ...  \n",
       "95    250000\n",
       "96    200000\n",
       "97    340000\n",
       "98    670000\n",
       "99    740000\n",
       "Name: salary, Length: 100, dtype: int64"
      ]
     },
     "execution_count": 14,
     "metadata": {},
     "output_type": "execute_result"
    }
   ],
   "source": [
    "\n",
    "df.salary"
   ]
  },
  {
   "cell_type": "code",
   "execution_count": 15,
   "metadata": {
    "id": "UiypF01hJ77M"
   },
   "outputs": [
    {
     "data": {
      "text/plain": [
       "0     510000\n",
       "1      80000\n",
       "2     200000\n",
       "3     540000\n",
       "4     490000\n",
       "       ...  \n",
       "95    250000\n",
       "96    200000\n",
       "97    340000\n",
       "98    670000\n",
       "99    740000\n",
       "Name: salary, Length: 100, dtype: int64"
      ]
     },
     "execution_count": 15,
     "metadata": {},
     "output_type": "execute_result"
    }
   ],
   "source": [
    "df['salary'] # Similarly another way "
   ]
  },
  {
   "cell_type": "markdown",
   "metadata": {},
   "source": [
    "For further more indexing of data frame please review panda documentation  \n",
    "Now lets do some interesting stuff, lets create a column that has an information about if that person salary is above 500k  "
   ]
  },
  {
   "cell_type": "code",
   "execution_count": 16,
   "metadata": {
    "id": "N9eoyzhaKJot"
   },
   "outputs": [
    {
     "data": {
      "text/html": [
       "<div>\n",
       "<style scoped>\n",
       "    .dataframe tbody tr th:only-of-type {\n",
       "        vertical-align: middle;\n",
       "    }\n",
       "\n",
       "    .dataframe tbody tr th {\n",
       "        vertical-align: top;\n",
       "    }\n",
       "\n",
       "    .dataframe thead th {\n",
       "        text-align: right;\n",
       "    }\n",
       "</style>\n",
       "<table border=\"1\" class=\"dataframe\">\n",
       "  <thead>\n",
       "    <tr style=\"text-align: right;\">\n",
       "      <th></th>\n",
       "      <th>name</th>\n",
       "      <th>company</th>\n",
       "      <th>salary</th>\n",
       "      <th>address</th>\n",
       "      <th>above500k</th>\n",
       "    </tr>\n",
       "  </thead>\n",
       "  <tbody>\n",
       "    <tr>\n",
       "      <th>0</th>\n",
       "      <td>Jennifer Baker</td>\n",
       "      <td>Anderson Group</td>\n",
       "      <td>510000</td>\n",
       "      <td>5958 Michael Village Suite 129\\nWest Kevin, KS...</td>\n",
       "      <td>True</td>\n",
       "    </tr>\n",
       "    <tr>\n",
       "      <th>1</th>\n",
       "      <td>Christopher Taylor</td>\n",
       "      <td>Rivera, Rivera and Scott</td>\n",
       "      <td>80000</td>\n",
       "      <td>42671 Ricardo Roads\\nBrendantown, RI 10369</td>\n",
       "      <td>False</td>\n",
       "    </tr>\n",
       "    <tr>\n",
       "      <th>2</th>\n",
       "      <td>Melissa Wilson</td>\n",
       "      <td>Franco, Garcia and Gomez</td>\n",
       "      <td>200000</td>\n",
       "      <td>3103 Tammy View\\nAlexanderfurt, NC 63229</td>\n",
       "      <td>False</td>\n",
       "    </tr>\n",
       "    <tr>\n",
       "      <th>3</th>\n",
       "      <td>Lori Pham</td>\n",
       "      <td>Jenkins LLC</td>\n",
       "      <td>540000</td>\n",
       "      <td>052 Allen Bridge Apt. 194\\nParkerhaven, ND 81927</td>\n",
       "      <td>True</td>\n",
       "    </tr>\n",
       "    <tr>\n",
       "      <th>4</th>\n",
       "      <td>Jacqueline Foster</td>\n",
       "      <td>Osborne, Ross and Walker</td>\n",
       "      <td>490000</td>\n",
       "      <td>4821 Denise Curve Apt. 871\\nNorth Jill, PA 98124</td>\n",
       "      <td>False</td>\n",
       "    </tr>\n",
       "  </tbody>\n",
       "</table>\n",
       "</div>"
      ],
      "text/plain": [
       "                 name                   company  salary  \\\n",
       "0      Jennifer Baker            Anderson Group  510000   \n",
       "1  Christopher Taylor  Rivera, Rivera and Scott   80000   \n",
       "2      Melissa Wilson  Franco, Garcia and Gomez  200000   \n",
       "3           Lori Pham               Jenkins LLC  540000   \n",
       "4   Jacqueline Foster  Osborne, Ross and Walker  490000   \n",
       "\n",
       "                                             address  above500k  \n",
       "0  5958 Michael Village Suite 129\\nWest Kevin, KS...       True  \n",
       "1         42671 Ricardo Roads\\nBrendantown, RI 10369      False  \n",
       "2           3103 Tammy View\\nAlexanderfurt, NC 63229      False  \n",
       "3   052 Allen Bridge Apt. 194\\nParkerhaven, ND 81927       True  \n",
       "4   4821 Denise Curve Apt. 871\\nNorth Jill, PA 98124      False  "
      ]
     },
     "execution_count": 16,
     "metadata": {},
     "output_type": "execute_result"
    }
   ],
   "source": [
    "df['above500k'] = df.salary > 500000\n",
    "\n",
    "df.head() # Now lets review our dataframe"
   ]
  },
  {
   "cell_type": "markdown",
   "metadata": {},
   "source": [
    "Now lets say we wan't to do even more complicated stuff  \n",
    "We want to add a status column that has following information  \n",
    "If salary is between 0 to 500k we will write '0k-500k USD' else we will write '500k-1M USD' in 'status' column  \n",
    "This can be done easily  "
   ]
  },
  {
   "cell_type": "code",
   "execution_count": 17,
   "metadata": {
    "id": "pgh2QjbnOExD"
   },
   "outputs": [
    {
     "data": {
      "text/html": [
       "<div>\n",
       "<style scoped>\n",
       "    .dataframe tbody tr th:only-of-type {\n",
       "        vertical-align: middle;\n",
       "    }\n",
       "\n",
       "    .dataframe tbody tr th {\n",
       "        vertical-align: top;\n",
       "    }\n",
       "\n",
       "    .dataframe thead th {\n",
       "        text-align: right;\n",
       "    }\n",
       "</style>\n",
       "<table border=\"1\" class=\"dataframe\">\n",
       "  <thead>\n",
       "    <tr style=\"text-align: right;\">\n",
       "      <th></th>\n",
       "      <th>name</th>\n",
       "      <th>company</th>\n",
       "      <th>salary</th>\n",
       "      <th>address</th>\n",
       "      <th>above500k</th>\n",
       "      <th>status</th>\n",
       "    </tr>\n",
       "  </thead>\n",
       "  <tbody>\n",
       "    <tr>\n",
       "      <th>0</th>\n",
       "      <td>Jennifer Baker</td>\n",
       "      <td>Anderson Group</td>\n",
       "      <td>510000</td>\n",
       "      <td>5958 Michael Village Suite 129\\nWest Kevin, KS...</td>\n",
       "      <td>True</td>\n",
       "      <td>500k-1M USD</td>\n",
       "    </tr>\n",
       "    <tr>\n",
       "      <th>1</th>\n",
       "      <td>Christopher Taylor</td>\n",
       "      <td>Rivera, Rivera and Scott</td>\n",
       "      <td>80000</td>\n",
       "      <td>42671 Ricardo Roads\\nBrendantown, RI 10369</td>\n",
       "      <td>False</td>\n",
       "      <td>0k-500k USD</td>\n",
       "    </tr>\n",
       "    <tr>\n",
       "      <th>2</th>\n",
       "      <td>Melissa Wilson</td>\n",
       "      <td>Franco, Garcia and Gomez</td>\n",
       "      <td>200000</td>\n",
       "      <td>3103 Tammy View\\nAlexanderfurt, NC 63229</td>\n",
       "      <td>False</td>\n",
       "      <td>0k-500k USD</td>\n",
       "    </tr>\n",
       "    <tr>\n",
       "      <th>3</th>\n",
       "      <td>Lori Pham</td>\n",
       "      <td>Jenkins LLC</td>\n",
       "      <td>540000</td>\n",
       "      <td>052 Allen Bridge Apt. 194\\nParkerhaven, ND 81927</td>\n",
       "      <td>True</td>\n",
       "      <td>500k-1M USD</td>\n",
       "    </tr>\n",
       "    <tr>\n",
       "      <th>4</th>\n",
       "      <td>Jacqueline Foster</td>\n",
       "      <td>Osborne, Ross and Walker</td>\n",
       "      <td>490000</td>\n",
       "      <td>4821 Denise Curve Apt. 871\\nNorth Jill, PA 98124</td>\n",
       "      <td>False</td>\n",
       "      <td>0k-500k USD</td>\n",
       "    </tr>\n",
       "  </tbody>\n",
       "</table>\n",
       "</div>"
      ],
      "text/plain": [
       "                 name                   company  salary  \\\n",
       "0      Jennifer Baker            Anderson Group  510000   \n",
       "1  Christopher Taylor  Rivera, Rivera and Scott   80000   \n",
       "2      Melissa Wilson  Franco, Garcia and Gomez  200000   \n",
       "3           Lori Pham               Jenkins LLC  540000   \n",
       "4   Jacqueline Foster  Osborne, Ross and Walker  490000   \n",
       "\n",
       "                                             address  above500k       status  \n",
       "0  5958 Michael Village Suite 129\\nWest Kevin, KS...       True  500k-1M USD  \n",
       "1         42671 Ricardo Roads\\nBrendantown, RI 10369      False  0k-500k USD  \n",
       "2           3103 Tammy View\\nAlexanderfurt, NC 63229      False  0k-500k USD  \n",
       "3   052 Allen Bridge Apt. 194\\nParkerhaven, ND 81927       True  500k-1M USD  \n",
       "4   4821 Denise Curve Apt. 871\\nNorth Jill, PA 98124      False  0k-500k USD  "
      ]
     },
     "execution_count": 17,
     "metadata": {},
     "output_type": "execute_result"
    }
   ],
   "source": [
    "df['status'] = df.salary.apply(lambda x:'0k-500k USD' if x in range(0,500000) else '500k-1M USD')\n",
    "\n",
    "# Now lets see our data frame\n",
    "df.head()"
   ]
  },
  {
   "cell_type": "markdown",
   "metadata": {},
   "source": [
    "Now Lets say we wan't to save our data frame in csv format  \n",
    "We can do so by following steps  "
   ]
  },
  {
   "cell_type": "code",
   "execution_count": 18,
   "metadata": {
    "id": "K1iCldU-KL-o"
   },
   "outputs": [],
   "source": [
    "\n",
    "df.to_csv('fakedata.csv', index = None) #I am not preserving index here"
   ]
  },
  {
   "cell_type": "code",
   "execution_count": 19,
   "metadata": {
    "id": "JbEygJhDKaYL"
   },
   "outputs": [
    {
     "name": "stdout",
     "output_type": "stream",
     "text": [
      " Volume in drive C is Local Disk\n",
      " Volume Serial Number is AA17-54D9\n",
      "\n",
      " Directory of C:\\Users\\camer\\OneDrive\\Desktop\\CLASSES\\%FALL 2021 CLASSES\\CS 4347 INTRO TO MACHINE LEARNING\\2021Fall\\HW\n",
      "\n",
      "09/23/2021  11:12 AM    <DIR>          .\n",
      "09/23/2021  11:12 AM    <DIR>          ..\n",
      "09/22/2021  07:52 PM    <DIR>          .ipynb_checkpoints\n",
      "09/22/2021  07:25 PM             5,607 BikeSharingDataser_Readme.txt\n",
      "09/22/2021  07:25 PM            57,569 day.csv\n",
      "09/22/2021  07:25 PM            74,391 day_output.csv\n",
      "09/23/2021  11:13 AM            10,461 fakedata.csv\n",
      "09/22/2021  07:25 PM         1,156,736 hour.csv\n",
      "09/12/2021  09:22 PM            11,383 HW1.ipynb\n",
      "09/22/2021  07:25 PM           137,259 HW1-Solution.ipynb\n",
      "09/22/2021  07:25 PM            23,232 HW2.ipynb\n",
      "09/22/2021  07:25 PM            33,848 HW2-Solution.ipynb\n",
      "09/23/2021  11:12 AM            26,942 HW3.ipynb\n",
      "09/22/2021  07:25 PM           307,641 rdu-weather-history.csv\n",
      "09/22/2021  07:25 PM             3,178 README.md\n",
      "09/23/2021  11:04 AM           299,625 weather.csv\n",
      "              13 File(s)      2,147,872 bytes\n",
      "               3 Dir(s)  133,433,040,896 bytes free\n"
     ]
    }
   ],
   "source": [
    "# Lets see if we have saved the data frame \n",
    "%ls"
   ]
  },
  {
   "cell_type": "code",
   "execution_count": 20,
   "metadata": {
    "id": "F03AckLBKwUF"
   },
   "outputs": [
    {
     "data": {
      "text/html": [
       "<div>\n",
       "<style scoped>\n",
       "    .dataframe tbody tr th:only-of-type {\n",
       "        vertical-align: middle;\n",
       "    }\n",
       "\n",
       "    .dataframe tbody tr th {\n",
       "        vertical-align: top;\n",
       "    }\n",
       "\n",
       "    .dataframe thead th {\n",
       "        text-align: right;\n",
       "    }\n",
       "</style>\n",
       "<table border=\"1\" class=\"dataframe\">\n",
       "  <thead>\n",
       "    <tr style=\"text-align: right;\">\n",
       "      <th></th>\n",
       "      <th>name</th>\n",
       "      <th>company</th>\n",
       "      <th>salary</th>\n",
       "      <th>address</th>\n",
       "      <th>above500k</th>\n",
       "      <th>status</th>\n",
       "    </tr>\n",
       "  </thead>\n",
       "  <tbody>\n",
       "    <tr>\n",
       "      <th>0</th>\n",
       "      <td>Jennifer Baker</td>\n",
       "      <td>Anderson Group</td>\n",
       "      <td>510000</td>\n",
       "      <td>5958 Michael Village Suite 129\\nWest Kevin, KS...</td>\n",
       "      <td>True</td>\n",
       "      <td>500k-1M USD</td>\n",
       "    </tr>\n",
       "    <tr>\n",
       "      <th>1</th>\n",
       "      <td>Christopher Taylor</td>\n",
       "      <td>Rivera, Rivera and Scott</td>\n",
       "      <td>80000</td>\n",
       "      <td>42671 Ricardo Roads\\nBrendantown, RI 10369</td>\n",
       "      <td>False</td>\n",
       "      <td>0k-500k USD</td>\n",
       "    </tr>\n",
       "    <tr>\n",
       "      <th>2</th>\n",
       "      <td>Melissa Wilson</td>\n",
       "      <td>Franco, Garcia and Gomez</td>\n",
       "      <td>200000</td>\n",
       "      <td>3103 Tammy View\\nAlexanderfurt, NC 63229</td>\n",
       "      <td>False</td>\n",
       "      <td>0k-500k USD</td>\n",
       "    </tr>\n",
       "    <tr>\n",
       "      <th>3</th>\n",
       "      <td>Lori Pham</td>\n",
       "      <td>Jenkins LLC</td>\n",
       "      <td>540000</td>\n",
       "      <td>052 Allen Bridge Apt. 194\\nParkerhaven, ND 81927</td>\n",
       "      <td>True</td>\n",
       "      <td>500k-1M USD</td>\n",
       "    </tr>\n",
       "    <tr>\n",
       "      <th>4</th>\n",
       "      <td>Jacqueline Foster</td>\n",
       "      <td>Osborne, Ross and Walker</td>\n",
       "      <td>490000</td>\n",
       "      <td>4821 Denise Curve Apt. 871\\nNorth Jill, PA 98124</td>\n",
       "      <td>False</td>\n",
       "      <td>0k-500k USD</td>\n",
       "    </tr>\n",
       "  </tbody>\n",
       "</table>\n",
       "</div>"
      ],
      "text/plain": [
       "                 name                   company  salary  \\\n",
       "0      Jennifer Baker            Anderson Group  510000   \n",
       "1  Christopher Taylor  Rivera, Rivera and Scott   80000   \n",
       "2      Melissa Wilson  Franco, Garcia and Gomez  200000   \n",
       "3           Lori Pham               Jenkins LLC  540000   \n",
       "4   Jacqueline Foster  Osborne, Ross and Walker  490000   \n",
       "\n",
       "                                             address  above500k       status  \n",
       "0  5958 Michael Village Suite 129\\nWest Kevin, KS...       True  500k-1M USD  \n",
       "1         42671 Ricardo Roads\\nBrendantown, RI 10369      False  0k-500k USD  \n",
       "2           3103 Tammy View\\nAlexanderfurt, NC 63229      False  0k-500k USD  \n",
       "3   052 Allen Bridge Apt. 194\\nParkerhaven, ND 81927       True  500k-1M USD  \n",
       "4   4821 Denise Curve Apt. 871\\nNorth Jill, PA 98124      False  0k-500k USD  "
      ]
     },
     "execution_count": 20,
     "metadata": {},
     "output_type": "execute_result"
    }
   ],
   "source": [
    "# Now we can read this data frame as well\n",
    "newdf = pd.read_csv('fakedata.csv')\n",
    "newdf.head()"
   ]
  },
  {
   "cell_type": "markdown",
   "metadata": {},
   "source": [
    "### Well there are many more stuff to learn in panda data frame  \n",
    "But for now you will be doing something similar above  \n",
    "Following exercise will give you some advance concept in panda dataframe.  \n",
    "you will be asked few things to code at last.  "
   ]
  },
  {
   "cell_type": "markdown",
   "metadata": {},
   "source": [
    "### First lets download the data set\n",
    "### https://data.townofcary.org/api/v2/catalog/datasets/rdu-weather-history/exports/csv"
   ]
  },
  {
   "cell_type": "code",
   "execution_count": 21,
   "metadata": {
    "id": "nwHvmfCYQS9W"
   },
   "outputs": [
    {
     "data": {
      "text/plain": [
       "(4377, 28)"
      ]
     },
     "execution_count": 21,
     "metadata": {},
     "output_type": "execute_result"
    }
   ],
   "source": [
    "import pandas as pd\n",
    "df = pd.read_csv('rdu-weather-history.csv', sep = ';')\n",
    "# Lets see the size of our data\n",
    "df.shape"
   ]
  },
  {
   "cell_type": "code",
   "execution_count": 22,
   "metadata": {
    "id": "tKCCP_mEQVmF"
   },
   "outputs": [
    {
     "data": {
      "text/html": [
       "<div>\n",
       "<style scoped>\n",
       "    .dataframe tbody tr th:only-of-type {\n",
       "        vertical-align: middle;\n",
       "    }\n",
       "\n",
       "    .dataframe tbody tr th {\n",
       "        vertical-align: top;\n",
       "    }\n",
       "\n",
       "    .dataframe thead th {\n",
       "        text-align: right;\n",
       "    }\n",
       "</style>\n",
       "<table border=\"1\" class=\"dataframe\">\n",
       "  <thead>\n",
       "    <tr style=\"text-align: right;\">\n",
       "      <th></th>\n",
       "      <th>date</th>\n",
       "      <th>temperaturemin</th>\n",
       "      <th>temperaturemax</th>\n",
       "      <th>precipitation</th>\n",
       "      <th>snowfall</th>\n",
       "      <th>snowdepth</th>\n",
       "      <th>avgwindspeed</th>\n",
       "      <th>fastest2minwinddir</th>\n",
       "      <th>fastest2minwindspeed</th>\n",
       "      <th>fastest5secwinddir</th>\n",
       "      <th>...</th>\n",
       "      <th>drizzle</th>\n",
       "      <th>snow</th>\n",
       "      <th>freezingrain</th>\n",
       "      <th>smokehaze</th>\n",
       "      <th>thunder</th>\n",
       "      <th>highwind</th>\n",
       "      <th>hail</th>\n",
       "      <th>blowingsnow</th>\n",
       "      <th>dust</th>\n",
       "      <th>freezingfog</th>\n",
       "    </tr>\n",
       "  </thead>\n",
       "  <tbody>\n",
       "    <tr>\n",
       "      <th>0</th>\n",
       "      <td>2009-01-02</td>\n",
       "      <td>27</td>\n",
       "      <td>42</td>\n",
       "      <td>0.05</td>\n",
       "      <td>0.0</td>\n",
       "      <td>0.0</td>\n",
       "      <td>6.26</td>\n",
       "      <td>220</td>\n",
       "      <td>14.1</td>\n",
       "      <td>NaN</td>\n",
       "      <td>...</td>\n",
       "      <td>NaN</td>\n",
       "      <td>NaN</td>\n",
       "      <td>NaN</td>\n",
       "      <td>NaN</td>\n",
       "      <td>NaN</td>\n",
       "      <td>NaN</td>\n",
       "      <td>Present</td>\n",
       "      <td>NaN</td>\n",
       "      <td>NaN</td>\n",
       "      <td>NaN</td>\n",
       "    </tr>\n",
       "    <tr>\n",
       "      <th>1</th>\n",
       "      <td>2009-01-16</td>\n",
       "      <td>15</td>\n",
       "      <td>28</td>\n",
       "      <td>0.00</td>\n",
       "      <td>0.0</td>\n",
       "      <td>0.0</td>\n",
       "      <td>4.47</td>\n",
       "      <td>300</td>\n",
       "      <td>13.0</td>\n",
       "      <td>NaN</td>\n",
       "      <td>...</td>\n",
       "      <td>NaN</td>\n",
       "      <td>NaN</td>\n",
       "      <td>NaN</td>\n",
       "      <td>NaN</td>\n",
       "      <td>NaN</td>\n",
       "      <td>NaN</td>\n",
       "      <td>NaN</td>\n",
       "      <td>NaN</td>\n",
       "      <td>NaN</td>\n",
       "      <td>NaN</td>\n",
       "    </tr>\n",
       "    <tr>\n",
       "      <th>2</th>\n",
       "      <td>2009-01-18</td>\n",
       "      <td>32</td>\n",
       "      <td>41</td>\n",
       "      <td>0.00</td>\n",
       "      <td>0.0</td>\n",
       "      <td>0.0</td>\n",
       "      <td>10.51</td>\n",
       "      <td>210</td>\n",
       "      <td>17.0</td>\n",
       "      <td>NaN</td>\n",
       "      <td>...</td>\n",
       "      <td>NaN</td>\n",
       "      <td>NaN</td>\n",
       "      <td>NaN</td>\n",
       "      <td>NaN</td>\n",
       "      <td>NaN</td>\n",
       "      <td>NaN</td>\n",
       "      <td>Present</td>\n",
       "      <td>NaN</td>\n",
       "      <td>NaN</td>\n",
       "      <td>NaN</td>\n",
       "    </tr>\n",
       "    <tr>\n",
       "      <th>3</th>\n",
       "      <td>2009-01-23</td>\n",
       "      <td>31</td>\n",
       "      <td>60</td>\n",
       "      <td>0.00</td>\n",
       "      <td>0.0</td>\n",
       "      <td>0.0</td>\n",
       "      <td>8.05</td>\n",
       "      <td>240</td>\n",
       "      <td>17.0</td>\n",
       "      <td>NaN</td>\n",
       "      <td>...</td>\n",
       "      <td>NaN</td>\n",
       "      <td>NaN</td>\n",
       "      <td>NaN</td>\n",
       "      <td>NaN</td>\n",
       "      <td>NaN</td>\n",
       "      <td>NaN</td>\n",
       "      <td>NaN</td>\n",
       "      <td>NaN</td>\n",
       "      <td>NaN</td>\n",
       "      <td>NaN</td>\n",
       "    </tr>\n",
       "    <tr>\n",
       "      <th>4</th>\n",
       "      <td>2009-02-09</td>\n",
       "      <td>40</td>\n",
       "      <td>66</td>\n",
       "      <td>0.00</td>\n",
       "      <td>0.0</td>\n",
       "      <td>0.0</td>\n",
       "      <td>6.04</td>\n",
       "      <td>100</td>\n",
       "      <td>14.1</td>\n",
       "      <td>NaN</td>\n",
       "      <td>...</td>\n",
       "      <td>NaN</td>\n",
       "      <td>NaN</td>\n",
       "      <td>NaN</td>\n",
       "      <td>NaN</td>\n",
       "      <td>NaN</td>\n",
       "      <td>NaN</td>\n",
       "      <td>NaN</td>\n",
       "      <td>NaN</td>\n",
       "      <td>NaN</td>\n",
       "      <td>NaN</td>\n",
       "    </tr>\n",
       "  </tbody>\n",
       "</table>\n",
       "<p>5 rows × 28 columns</p>\n",
       "</div>"
      ],
      "text/plain": [
       "         date  temperaturemin  temperaturemax  precipitation  snowfall  \\\n",
       "0  2009-01-02              27              42           0.05       0.0   \n",
       "1  2009-01-16              15              28           0.00       0.0   \n",
       "2  2009-01-18              32              41           0.00       0.0   \n",
       "3  2009-01-23              31              60           0.00       0.0   \n",
       "4  2009-02-09              40              66           0.00       0.0   \n",
       "\n",
       "   snowdepth  avgwindspeed  fastest2minwinddir  fastest2minwindspeed  \\\n",
       "0        0.0          6.26                 220                  14.1   \n",
       "1        0.0          4.47                 300                  13.0   \n",
       "2        0.0         10.51                 210                  17.0   \n",
       "3        0.0          8.05                 240                  17.0   \n",
       "4        0.0          6.04                 100                  14.1   \n",
       "\n",
       "   fastest5secwinddir  ...  drizzle snow freezingrain smokehaze thunder  \\\n",
       "0                 NaN  ...      NaN  NaN          NaN       NaN     NaN   \n",
       "1                 NaN  ...      NaN  NaN          NaN       NaN     NaN   \n",
       "2                 NaN  ...      NaN  NaN          NaN       NaN     NaN   \n",
       "3                 NaN  ...      NaN  NaN          NaN       NaN     NaN   \n",
       "4                 NaN  ...      NaN  NaN          NaN       NaN     NaN   \n",
       "\n",
       "  highwind     hail blowingsnow dust freezingfog  \n",
       "0      NaN  Present         NaN  NaN         NaN  \n",
       "1      NaN      NaN         NaN  NaN         NaN  \n",
       "2      NaN  Present         NaN  NaN         NaN  \n",
       "3      NaN      NaN         NaN  NaN         NaN  \n",
       "4      NaN      NaN         NaN  NaN         NaN  \n",
       "\n",
       "[5 rows x 28 columns]"
      ]
     },
     "execution_count": 22,
     "metadata": {},
     "output_type": "execute_result"
    }
   ],
   "source": [
    "df.head()"
   ]
  },
  {
   "cell_type": "markdown",
   "metadata": {},
   "source": [
    "Well this is a public data. There might be many missing values.  \n",
    "Lets see these missing values  "
   ]
  },
  {
   "cell_type": "code",
   "execution_count": 23,
   "metadata": {
    "id": "QJ1HLBTeTGVE"
   },
   "outputs": [
    {
     "data": {
      "text/plain": [
       "date                       0\n",
       "temperaturemin             0\n",
       "temperaturemax             0\n",
       "precipitation              0\n",
       "snowfall                   2\n",
       "snowdepth                 25\n",
       "avgwindspeed               0\n",
       "fastest2minwinddir         0\n",
       "fastest2minwindspeed       0\n",
       "fastest5secwinddir      4377\n",
       "fastest5secwindspeed    4377\n",
       "fog                     2477\n",
       "fogheavy                4133\n",
       "mist                    3874\n",
       "rain                    3776\n",
       "fogground               4368\n",
       "ice                     4335\n",
       "glaze                   4361\n",
       "drizzle                 4210\n",
       "snow                    4343\n",
       "freezingrain            4375\n",
       "smokehaze               4150\n",
       "thunder                 3841\n",
       "highwind                4376\n",
       "hail                    4142\n",
       "blowingsnow             4337\n",
       "dust                    4341\n",
       "freezingfog             4375\n",
       "dtype: int64"
      ]
     },
     "execution_count": 23,
     "metadata": {},
     "output_type": "execute_result"
    }
   ],
   "source": [
    "df.isna().sum()"
   ]
  },
  {
   "cell_type": "code",
   "execution_count": 24,
   "metadata": {
    "id": "unXPA5BiR58H"
   },
   "outputs": [
    {
     "data": {
      "text/plain": [
       "Index(['date', 'temperaturemin', 'temperaturemax', 'precipitation', 'snowfall',\n",
       "       'snowdepth', 'avgwindspeed', 'fastest2minwinddir',\n",
       "       'fastest2minwindspeed', 'fastest5secwinddir', 'fastest5secwindspeed',\n",
       "       'fog', 'fogheavy', 'mist', 'rain', 'fogground', 'ice', 'glaze',\n",
       "       'drizzle', 'snow', 'freezingrain', 'smokehaze', 'thunder', 'highwind',\n",
       "       'hail', 'blowingsnow', 'dust', 'freezingfog'],\n",
       "      dtype='object')"
      ]
     },
     "execution_count": 24,
     "metadata": {},
     "output_type": "execute_result"
    }
   ],
   "source": [
    "df.columns # Lets see columns of our data"
   ]
  },
  {
   "cell_type": "markdown",
   "metadata": {},
   "source": [
    "### One important thing to notice here is following columns \n",
    "\n",
    "'fog', 'fogheavy', 'mist', 'rain', 'fogground', 'ice', 'glaze',\n",
    "'drizzle', 'snow', 'freezingrain', 'smokehaze', 'thunder', 'highwind',\n",
    "'hail', 'blowingsnow', 'dust', 'freezingfog'\n",
    "\n",
    "These columns are weather information, it will be lot more easier to see these values in one single column called weather. So we can do this by following code, observe closely what we are doing."
   ]
  },
  {
   "cell_type": "code",
   "execution_count": 25,
   "metadata": {},
   "outputs": [],
   "source": [
    "tidydf = pd.melt(df,['date', 'temperaturemin', 'temperaturemax', 'precipitation', 'snowfall',\n",
    "       'snowdepth', 'avgwindspeed', 'fastest2minwinddir',\n",
    "       'fastest2minwindspeed', 'fastest5secwinddir', 'fastest5secwindspeed'],var_name=\"weather\",value_name=\"status\")"
   ]
  },
  {
   "cell_type": "code",
   "execution_count": 26,
   "metadata": {
    "id": "zjlU1HWJSD5q"
   },
   "outputs": [
    {
     "data": {
      "text/html": [
       "<div>\n",
       "<style scoped>\n",
       "    .dataframe tbody tr th:only-of-type {\n",
       "        vertical-align: middle;\n",
       "    }\n",
       "\n",
       "    .dataframe tbody tr th {\n",
       "        vertical-align: top;\n",
       "    }\n",
       "\n",
       "    .dataframe thead th {\n",
       "        text-align: right;\n",
       "    }\n",
       "</style>\n",
       "<table border=\"1\" class=\"dataframe\">\n",
       "  <thead>\n",
       "    <tr style=\"text-align: right;\">\n",
       "      <th></th>\n",
       "      <th>date</th>\n",
       "      <th>temperaturemin</th>\n",
       "      <th>temperaturemax</th>\n",
       "      <th>precipitation</th>\n",
       "      <th>snowfall</th>\n",
       "      <th>snowdepth</th>\n",
       "      <th>avgwindspeed</th>\n",
       "      <th>fastest2minwinddir</th>\n",
       "      <th>fastest2minwindspeed</th>\n",
       "      <th>fastest5secwinddir</th>\n",
       "      <th>fastest5secwindspeed</th>\n",
       "      <th>weather</th>\n",
       "      <th>status</th>\n",
       "    </tr>\n",
       "  </thead>\n",
       "  <tbody>\n",
       "    <tr>\n",
       "      <th>0</th>\n",
       "      <td>2009-01-02</td>\n",
       "      <td>27</td>\n",
       "      <td>42</td>\n",
       "      <td>0.05</td>\n",
       "      <td>0.0</td>\n",
       "      <td>0.0</td>\n",
       "      <td>6.26</td>\n",
       "      <td>220</td>\n",
       "      <td>14.1</td>\n",
       "      <td>NaN</td>\n",
       "      <td>NaN</td>\n",
       "      <td>fog</td>\n",
       "      <td>Present</td>\n",
       "    </tr>\n",
       "    <tr>\n",
       "      <th>1</th>\n",
       "      <td>2009-01-16</td>\n",
       "      <td>15</td>\n",
       "      <td>28</td>\n",
       "      <td>0.00</td>\n",
       "      <td>0.0</td>\n",
       "      <td>0.0</td>\n",
       "      <td>4.47</td>\n",
       "      <td>300</td>\n",
       "      <td>13.0</td>\n",
       "      <td>NaN</td>\n",
       "      <td>NaN</td>\n",
       "      <td>fog</td>\n",
       "      <td>NaN</td>\n",
       "    </tr>\n",
       "    <tr>\n",
       "      <th>2</th>\n",
       "      <td>2009-01-18</td>\n",
       "      <td>32</td>\n",
       "      <td>41</td>\n",
       "      <td>0.00</td>\n",
       "      <td>0.0</td>\n",
       "      <td>0.0</td>\n",
       "      <td>10.51</td>\n",
       "      <td>210</td>\n",
       "      <td>17.0</td>\n",
       "      <td>NaN</td>\n",
       "      <td>NaN</td>\n",
       "      <td>fog</td>\n",
       "      <td>Present</td>\n",
       "    </tr>\n",
       "    <tr>\n",
       "      <th>3</th>\n",
       "      <td>2009-01-23</td>\n",
       "      <td>31</td>\n",
       "      <td>60</td>\n",
       "      <td>0.00</td>\n",
       "      <td>0.0</td>\n",
       "      <td>0.0</td>\n",
       "      <td>8.05</td>\n",
       "      <td>240</td>\n",
       "      <td>17.0</td>\n",
       "      <td>NaN</td>\n",
       "      <td>NaN</td>\n",
       "      <td>fog</td>\n",
       "      <td>NaN</td>\n",
       "    </tr>\n",
       "    <tr>\n",
       "      <th>4</th>\n",
       "      <td>2009-02-09</td>\n",
       "      <td>40</td>\n",
       "      <td>66</td>\n",
       "      <td>0.00</td>\n",
       "      <td>0.0</td>\n",
       "      <td>0.0</td>\n",
       "      <td>6.04</td>\n",
       "      <td>100</td>\n",
       "      <td>14.1</td>\n",
       "      <td>NaN</td>\n",
       "      <td>NaN</td>\n",
       "      <td>fog</td>\n",
       "      <td>NaN</td>\n",
       "    </tr>\n",
       "  </tbody>\n",
       "</table>\n",
       "</div>"
      ],
      "text/plain": [
       "         date  temperaturemin  temperaturemax  precipitation  snowfall  \\\n",
       "0  2009-01-02              27              42           0.05       0.0   \n",
       "1  2009-01-16              15              28           0.00       0.0   \n",
       "2  2009-01-18              32              41           0.00       0.0   \n",
       "3  2009-01-23              31              60           0.00       0.0   \n",
       "4  2009-02-09              40              66           0.00       0.0   \n",
       "\n",
       "   snowdepth  avgwindspeed  fastest2minwinddir  fastest2minwindspeed  \\\n",
       "0        0.0          6.26                 220                  14.1   \n",
       "1        0.0          4.47                 300                  13.0   \n",
       "2        0.0         10.51                 210                  17.0   \n",
       "3        0.0          8.05                 240                  17.0   \n",
       "4        0.0          6.04                 100                  14.1   \n",
       "\n",
       "   fastest5secwinddir  fastest5secwindspeed weather   status  \n",
       "0                 NaN                   NaN     fog  Present  \n",
       "1                 NaN                   NaN     fog      NaN  \n",
       "2                 NaN                   NaN     fog  Present  \n",
       "3                 NaN                   NaN     fog      NaN  \n",
       "4                 NaN                   NaN     fog      NaN  "
      ]
     },
     "execution_count": 26,
     "metadata": {},
     "output_type": "execute_result"
    }
   ],
   "source": [
    "tidydf.head()"
   ]
  },
  {
   "cell_type": "markdown",
   "metadata": {},
   "source": [
    "### Now we don't need rows that has status 'No' so we will only select rows with 'Yes' status. Moreover, now we don't  need status column any more so lets drop that column as well"
   ]
  },
  {
   "cell_type": "code",
   "execution_count": 27,
   "metadata": {
    "id": "3BEf7dbaSJUv"
   },
   "outputs": [
    {
     "data": {
      "text/html": [
       "<div>\n",
       "<style scoped>\n",
       "    .dataframe tbody tr th:only-of-type {\n",
       "        vertical-align: middle;\n",
       "    }\n",
       "\n",
       "    .dataframe tbody tr th {\n",
       "        vertical-align: top;\n",
       "    }\n",
       "\n",
       "    .dataframe thead th {\n",
       "        text-align: right;\n",
       "    }\n",
       "</style>\n",
       "<table border=\"1\" class=\"dataframe\">\n",
       "  <thead>\n",
       "    <tr style=\"text-align: right;\">\n",
       "      <th></th>\n",
       "      <th>date</th>\n",
       "      <th>temperaturemin</th>\n",
       "      <th>temperaturemax</th>\n",
       "      <th>precipitation</th>\n",
       "      <th>snowfall</th>\n",
       "      <th>snowdepth</th>\n",
       "      <th>avgwindspeed</th>\n",
       "      <th>fastest2minwinddir</th>\n",
       "      <th>fastest2minwindspeed</th>\n",
       "      <th>fastest5secwinddir</th>\n",
       "      <th>fastest5secwindspeed</th>\n",
       "      <th>weather</th>\n",
       "    </tr>\n",
       "  </thead>\n",
       "  <tbody>\n",
       "    <tr>\n",
       "      <th>0</th>\n",
       "      <td>2009-01-02</td>\n",
       "      <td>27</td>\n",
       "      <td>42</td>\n",
       "      <td>0.05</td>\n",
       "      <td>0.0</td>\n",
       "      <td>0.0</td>\n",
       "      <td>6.26</td>\n",
       "      <td>220</td>\n",
       "      <td>14.1</td>\n",
       "      <td>NaN</td>\n",
       "      <td>NaN</td>\n",
       "      <td>fog</td>\n",
       "    </tr>\n",
       "    <tr>\n",
       "      <th>2</th>\n",
       "      <td>2009-01-18</td>\n",
       "      <td>32</td>\n",
       "      <td>41</td>\n",
       "      <td>0.00</td>\n",
       "      <td>0.0</td>\n",
       "      <td>0.0</td>\n",
       "      <td>10.51</td>\n",
       "      <td>210</td>\n",
       "      <td>17.0</td>\n",
       "      <td>NaN</td>\n",
       "      <td>NaN</td>\n",
       "      <td>fog</td>\n",
       "    </tr>\n",
       "    <tr>\n",
       "      <th>5</th>\n",
       "      <td>2009-02-10</td>\n",
       "      <td>48</td>\n",
       "      <td>73</td>\n",
       "      <td>0.00</td>\n",
       "      <td>0.0</td>\n",
       "      <td>0.0</td>\n",
       "      <td>10.51</td>\n",
       "      <td>230</td>\n",
       "      <td>25.1</td>\n",
       "      <td>NaN</td>\n",
       "      <td>NaN</td>\n",
       "      <td>fog</td>\n",
       "    </tr>\n",
       "    <tr>\n",
       "      <th>9</th>\n",
       "      <td>2009-02-19</td>\n",
       "      <td>34</td>\n",
       "      <td>58</td>\n",
       "      <td>0.00</td>\n",
       "      <td>0.0</td>\n",
       "      <td>0.0</td>\n",
       "      <td>10.29</td>\n",
       "      <td>300</td>\n",
       "      <td>21.0</td>\n",
       "      <td>NaN</td>\n",
       "      <td>NaN</td>\n",
       "      <td>fog</td>\n",
       "    </tr>\n",
       "    <tr>\n",
       "      <th>11</th>\n",
       "      <td>2009-03-01</td>\n",
       "      <td>35</td>\n",
       "      <td>38</td>\n",
       "      <td>1.38</td>\n",
       "      <td>0.0</td>\n",
       "      <td>0.0</td>\n",
       "      <td>12.75</td>\n",
       "      <td>50</td>\n",
       "      <td>23.0</td>\n",
       "      <td>NaN</td>\n",
       "      <td>NaN</td>\n",
       "      <td>fog</td>\n",
       "    </tr>\n",
       "  </tbody>\n",
       "</table>\n",
       "</div>"
      ],
      "text/plain": [
       "          date  temperaturemin  temperaturemax  precipitation  snowfall  \\\n",
       "0   2009-01-02              27              42           0.05       0.0   \n",
       "2   2009-01-18              32              41           0.00       0.0   \n",
       "5   2009-02-10              48              73           0.00       0.0   \n",
       "9   2009-02-19              34              58           0.00       0.0   \n",
       "11  2009-03-01              35              38           1.38       0.0   \n",
       "\n",
       "    snowdepth  avgwindspeed  fastest2minwinddir  fastest2minwindspeed  \\\n",
       "0         0.0          6.26                 220                  14.1   \n",
       "2         0.0         10.51                 210                  17.0   \n",
       "5         0.0         10.51                 230                  25.1   \n",
       "9         0.0         10.29                 300                  21.0   \n",
       "11        0.0         12.75                  50                  23.0   \n",
       "\n",
       "    fastest5secwinddir  fastest5secwindspeed weather  \n",
       "0                  NaN                   NaN     fog  \n",
       "2                  NaN                   NaN     fog  \n",
       "5                  NaN                   NaN     fog  \n",
       "9                  NaN                   NaN     fog  \n",
       "11                 NaN                   NaN     fog  "
      ]
     },
     "execution_count": 27,
     "metadata": {},
     "output_type": "execute_result"
    }
   ],
   "source": [
    "\n",
    "df = tidydf[tidydf.status == 'Present']\n",
    "df = df.drop(columns = ['status'])\n",
    "df.head()"
   ]
  },
  {
   "cell_type": "code",
   "execution_count": 28,
   "metadata": {
    "id": "bwGz0jR4S3_4"
   },
   "outputs": [
    {
     "data": {
      "text/html": [
       "<div>\n",
       "<style scoped>\n",
       "    .dataframe tbody tr th:only-of-type {\n",
       "        vertical-align: middle;\n",
       "    }\n",
       "\n",
       "    .dataframe tbody tr th {\n",
       "        vertical-align: top;\n",
       "    }\n",
       "\n",
       "    .dataframe thead th {\n",
       "        text-align: right;\n",
       "    }\n",
       "</style>\n",
       "<table border=\"1\" class=\"dataframe\">\n",
       "  <thead>\n",
       "    <tr style=\"text-align: right;\">\n",
       "      <th></th>\n",
       "      <th>temperaturemin</th>\n",
       "      <th>temperaturemax</th>\n",
       "      <th>precipitation</th>\n",
       "      <th>snowfall</th>\n",
       "      <th>snowdepth</th>\n",
       "      <th>avgwindspeed</th>\n",
       "      <th>fastest2minwinddir</th>\n",
       "      <th>fastest2minwindspeed</th>\n",
       "      <th>fastest5secwinddir</th>\n",
       "      <th>fastest5secwindspeed</th>\n",
       "    </tr>\n",
       "  </thead>\n",
       "  <tbody>\n",
       "    <tr>\n",
       "      <th>count</th>\n",
       "      <td>4595.000000</td>\n",
       "      <td>4595.000000</td>\n",
       "      <td>4595.000000</td>\n",
       "      <td>4595.000000</td>\n",
       "      <td>4572.000000</td>\n",
       "      <td>4595.000000</td>\n",
       "      <td>4595.000000</td>\n",
       "      <td>4595.000000</td>\n",
       "      <td>0.0</td>\n",
       "      <td>0.0</td>\n",
       "    </tr>\n",
       "    <tr>\n",
       "      <th>mean</th>\n",
       "      <td>54.486398</td>\n",
       "      <td>72.810229</td>\n",
       "      <td>0.276603</td>\n",
       "      <td>0.042503</td>\n",
       "      <td>0.030621</td>\n",
       "      <td>6.075976</td>\n",
       "      <td>164.970620</td>\n",
       "      <td>16.858390</td>\n",
       "      <td>NaN</td>\n",
       "      <td>NaN</td>\n",
       "    </tr>\n",
       "    <tr>\n",
       "      <th>std</th>\n",
       "      <td>15.218435</td>\n",
       "      <td>16.970579</td>\n",
       "      <td>0.454832</td>\n",
       "      <td>0.372524</td>\n",
       "      <td>0.279306</td>\n",
       "      <td>3.049237</td>\n",
       "      <td>92.729226</td>\n",
       "      <td>5.982619</td>\n",
       "      <td>NaN</td>\n",
       "      <td>NaN</td>\n",
       "    </tr>\n",
       "    <tr>\n",
       "      <th>min</th>\n",
       "      <td>9.000000</td>\n",
       "      <td>27.000000</td>\n",
       "      <td>0.000000</td>\n",
       "      <td>0.000000</td>\n",
       "      <td>0.000000</td>\n",
       "      <td>0.000000</td>\n",
       "      <td>10.000000</td>\n",
       "      <td>4.900000</td>\n",
       "      <td>NaN</td>\n",
       "      <td>NaN</td>\n",
       "    </tr>\n",
       "    <tr>\n",
       "      <th>25%</th>\n",
       "      <td>41.000000</td>\n",
       "      <td>61.000000</td>\n",
       "      <td>0.000000</td>\n",
       "      <td>0.000000</td>\n",
       "      <td>0.000000</td>\n",
       "      <td>3.800000</td>\n",
       "      <td>70.000000</td>\n",
       "      <td>13.000000</td>\n",
       "      <td>NaN</td>\n",
       "      <td>NaN</td>\n",
       "    </tr>\n",
       "    <tr>\n",
       "      <th>50%</th>\n",
       "      <td>57.000000</td>\n",
       "      <td>76.000000</td>\n",
       "      <td>0.080000</td>\n",
       "      <td>0.000000</td>\n",
       "      <td>0.000000</td>\n",
       "      <td>5.590000</td>\n",
       "      <td>190.000000</td>\n",
       "      <td>16.100000</td>\n",
       "      <td>NaN</td>\n",
       "      <td>NaN</td>\n",
       "    </tr>\n",
       "    <tr>\n",
       "      <th>75%</th>\n",
       "      <td>68.000000</td>\n",
       "      <td>87.000000</td>\n",
       "      <td>0.370000</td>\n",
       "      <td>0.000000</td>\n",
       "      <td>0.000000</td>\n",
       "      <td>7.610000</td>\n",
       "      <td>230.000000</td>\n",
       "      <td>21.000000</td>\n",
       "      <td>NaN</td>\n",
       "      <td>NaN</td>\n",
       "    </tr>\n",
       "    <tr>\n",
       "      <th>max</th>\n",
       "      <td>79.000000</td>\n",
       "      <td>105.000000</td>\n",
       "      <td>6.450000</td>\n",
       "      <td>7.000000</td>\n",
       "      <td>4.000000</td>\n",
       "      <td>20.360000</td>\n",
       "      <td>360.000000</td>\n",
       "      <td>44.100000</td>\n",
       "      <td>NaN</td>\n",
       "      <td>NaN</td>\n",
       "    </tr>\n",
       "  </tbody>\n",
       "</table>\n",
       "</div>"
      ],
      "text/plain": [
       "       temperaturemin  temperaturemax  precipitation     snowfall  \\\n",
       "count     4595.000000     4595.000000    4595.000000  4595.000000   \n",
       "mean        54.486398       72.810229       0.276603     0.042503   \n",
       "std         15.218435       16.970579       0.454832     0.372524   \n",
       "min          9.000000       27.000000       0.000000     0.000000   \n",
       "25%         41.000000       61.000000       0.000000     0.000000   \n",
       "50%         57.000000       76.000000       0.080000     0.000000   \n",
       "75%         68.000000       87.000000       0.370000     0.000000   \n",
       "max         79.000000      105.000000       6.450000     7.000000   \n",
       "\n",
       "         snowdepth  avgwindspeed  fastest2minwinddir  fastest2minwindspeed  \\\n",
       "count  4572.000000   4595.000000         4595.000000           4595.000000   \n",
       "mean      0.030621      6.075976          164.970620             16.858390   \n",
       "std       0.279306      3.049237           92.729226              5.982619   \n",
       "min       0.000000      0.000000           10.000000              4.900000   \n",
       "25%       0.000000      3.800000           70.000000             13.000000   \n",
       "50%       0.000000      5.590000          190.000000             16.100000   \n",
       "75%       0.000000      7.610000          230.000000             21.000000   \n",
       "max       4.000000     20.360000          360.000000             44.100000   \n",
       "\n",
       "       fastest5secwinddir  fastest5secwindspeed  \n",
       "count                 0.0                   0.0  \n",
       "mean                  NaN                   NaN  \n",
       "std                   NaN                   NaN  \n",
       "min                   NaN                   NaN  \n",
       "25%                   NaN                   NaN  \n",
       "50%                   NaN                   NaN  \n",
       "75%                   NaN                   NaN  \n",
       "max                   NaN                   NaN  "
      ]
     },
     "execution_count": 28,
     "metadata": {},
     "output_type": "execute_result"
    }
   ],
   "source": [
    "# Now lets describe this data\n",
    "\n",
    "df.describe()"
   ]
  },
  {
   "cell_type": "markdown",
   "metadata": {
    "id": "dxWrEOL9WdGH"
   },
   "source": [
    "**Q5** Write the code below so that \n",
    "1. Get rid of the following columns in df: 'fastest2minwinddir','fastest2minwindspeed','fastest5secwinddir','fastest5secwindspeed'\n",
    "2. Calculate and add 'avgtemperature' column (Note : avgtemperature is an average of temperaturemin and temperaturemax)\n",
    "3. After completing 2. get rid of two columns 'temperaturemin','temperaturemax'\n",
    "\n",
    "**A5** Write code in the cell below"
   ]
  },
  {
   "cell_type": "code",
   "execution_count": 29,
   "metadata": {
    "id": "nhVYFFNmVEQQ"
   },
   "outputs": [
    {
     "data": {
      "text/html": [
       "<div>\n",
       "<style scoped>\n",
       "    .dataframe tbody tr th:only-of-type {\n",
       "        vertical-align: middle;\n",
       "    }\n",
       "\n",
       "    .dataframe tbody tr th {\n",
       "        vertical-align: top;\n",
       "    }\n",
       "\n",
       "    .dataframe thead th {\n",
       "        text-align: right;\n",
       "    }\n",
       "</style>\n",
       "<table border=\"1\" class=\"dataframe\">\n",
       "  <thead>\n",
       "    <tr style=\"text-align: right;\">\n",
       "      <th></th>\n",
       "      <th>date</th>\n",
       "      <th>precipitation</th>\n",
       "      <th>snowfall</th>\n",
       "      <th>snowdepth</th>\n",
       "      <th>avgwindspeed</th>\n",
       "      <th>weather</th>\n",
       "      <th>avgtemperature</th>\n",
       "    </tr>\n",
       "  </thead>\n",
       "  <tbody>\n",
       "    <tr>\n",
       "      <th>0</th>\n",
       "      <td>2009-01-02</td>\n",
       "      <td>0.05</td>\n",
       "      <td>0.0</td>\n",
       "      <td>0.0</td>\n",
       "      <td>6.26</td>\n",
       "      <td>fog</td>\n",
       "      <td>34.5</td>\n",
       "    </tr>\n",
       "    <tr>\n",
       "      <th>2</th>\n",
       "      <td>2009-01-18</td>\n",
       "      <td>0.00</td>\n",
       "      <td>0.0</td>\n",
       "      <td>0.0</td>\n",
       "      <td>10.51</td>\n",
       "      <td>fog</td>\n",
       "      <td>36.5</td>\n",
       "    </tr>\n",
       "    <tr>\n",
       "      <th>5</th>\n",
       "      <td>2009-02-10</td>\n",
       "      <td>0.00</td>\n",
       "      <td>0.0</td>\n",
       "      <td>0.0</td>\n",
       "      <td>10.51</td>\n",
       "      <td>fog</td>\n",
       "      <td>60.5</td>\n",
       "    </tr>\n",
       "    <tr>\n",
       "      <th>9</th>\n",
       "      <td>2009-02-19</td>\n",
       "      <td>0.00</td>\n",
       "      <td>0.0</td>\n",
       "      <td>0.0</td>\n",
       "      <td>10.29</td>\n",
       "      <td>fog</td>\n",
       "      <td>46.0</td>\n",
       "    </tr>\n",
       "    <tr>\n",
       "      <th>11</th>\n",
       "      <td>2009-03-01</td>\n",
       "      <td>1.38</td>\n",
       "      <td>0.0</td>\n",
       "      <td>0.0</td>\n",
       "      <td>12.75</td>\n",
       "      <td>fog</td>\n",
       "      <td>36.5</td>\n",
       "    </tr>\n",
       "  </tbody>\n",
       "</table>\n",
       "</div>"
      ],
      "text/plain": [
       "          date  precipitation  snowfall  snowdepth  avgwindspeed weather  \\\n",
       "0   2009-01-02           0.05       0.0        0.0          6.26     fog   \n",
       "2   2009-01-18           0.00       0.0        0.0         10.51     fog   \n",
       "5   2009-02-10           0.00       0.0        0.0         10.51     fog   \n",
       "9   2009-02-19           0.00       0.0        0.0         10.29     fog   \n",
       "11  2009-03-01           1.38       0.0        0.0         12.75     fog   \n",
       "\n",
       "    avgtemperature  \n",
       "0             34.5  \n",
       "2             36.5  \n",
       "5             60.5  \n",
       "9             46.0  \n",
       "11            36.5  "
      ]
     },
     "execution_count": 29,
     "metadata": {},
     "output_type": "execute_result"
    }
   ],
   "source": [
    "#A5 Task1:\n",
    "\n",
    "# Code goes below\n",
    "df = df.drop(columns = ['fastest2minwinddir','fastest2minwindspeed','fastest5secwinddir','fastest5secwindspeed'])\n",
    "\n",
    "# Print the head of the data\n",
    "df.head()\n",
    "\n",
    "#A5 Task2:\n",
    "\n",
    "# Code goes below\n",
    "df['avgtemperature'] = (df['temperaturemin'] + df['temperaturemax'])/2\n",
    "\n",
    "# Print the head of the data\n",
    "df.head()\n",
    "\n",
    "#A5 Task3: \n",
    "\n",
    "# Code goes below\n",
    "df = df.drop(columns = ['temperaturemin','temperaturemax'])\n",
    "\n",
    "# Print the head of the data\n",
    "df.head()\n"
   ]
  },
  {
   "cell_type": "markdown",
   "metadata": {},
   "source": [
    "**Q6** Write the code below so that \n",
    "1. calculate average of all the 'avgtemperature' in resulting A5 df\n",
    "   * **Note you can calculate average like this : df['columname'].mean() or df.columname.mean()**) \n",
    "2. Add a new column called as 'avgtemperature_comaprision'\n",
    "  * Note: if 'avgtemperature' is less than 'avgtemp' fill with 'less than global average', and if it is greater fill with 'more than global average'  \n",
    "3. Now save the dataset without index, give a name 'weather.csv'\n",
    "**A6** Write code in the cell below\n"
   ]
  },
  {
   "cell_type": "code",
   "execution_count": 30,
   "metadata": {
    "id": "cSQjh29JewKN"
   },
   "outputs": [],
   "source": [
    "#A6 Task1\n",
    "\n",
    "# Code goes below\n",
    "avgtemp = df['avgtemperature'].mean()\n",
    "\n",
    "#A6 Task2:\n",
    "\n",
    "# Code goes below\n",
    "df['avgtemperature_comaprision'] = df.avgtemperature.apply(lambda x:'less than global average' if x<avgtemp else 'more than global average')\n",
    "\n",
    "\n",
    "# Print head of your data\n",
    "df.head()\n",
    "\n",
    "#A6 Task3:\n",
    "\n",
    "# Your code goes here\n",
    "\n",
    "df.to_csv('weather.csv', index = None) \n"
   ]
  },
  {
   "cell_type": "markdown",
   "metadata": {
    "id": "zzDNDKaapweg"
   },
   "source": []
  },
  {
   "cell_type": "markdown",
   "metadata": {},
   "source": [
    "## Visualization\n",
    "[Matplotlib](https://matplotlib.org/tutorials/index.html) and [Seaborn](https://seaborn.pydata.org/examples/index.html) are popular and very useful visualization libraries. "
   ]
  },
  {
   "cell_type": "code",
   "execution_count": 31,
   "metadata": {},
   "outputs": [],
   "source": [
    "import seaborn as sns\n",
    "# Load an example dataset\n",
    "tips = sns.load_dataset(\"tips\")\n"
   ]
  },
  {
   "cell_type": "code",
   "execution_count": 32,
   "metadata": {},
   "outputs": [
    {
     "data": {
      "text/plain": [
       "<seaborn.axisgrid.FacetGrid at 0x2622ba8ed60>"
      ]
     },
     "execution_count": 32,
     "metadata": {},
     "output_type": "execute_result"
    },
    {
     "data": {
      "image/png": "[encoded data removed]",
      "text/plain": [
       "<Figure size 772.5x360 with 2 Axes>"
      ]
     },
     "metadata": {
      "needs_background": "light"
     },
     "output_type": "display_data"
    }
   ],
   "source": [
    "# Create a visualization\n",
    "sns.relplot(\n",
    "    data=tips,\n",
    "    x=\"total_bill\", y=\"tip\", col=\"time\",\n",
    "    hue=\"smoker\", style=\"smoker\", size=\"size\",\n",
    ")"
   ]
  },
  {
   "cell_type": "code",
   "execution_count": 33,
   "metadata": {},
   "outputs": [
    {
     "data": {
      "text/html": [
       "<div>\n",
       "<style scoped>\n",
       "    .dataframe tbody tr th:only-of-type {\n",
       "        vertical-align: middle;\n",
       "    }\n",
       "\n",
       "    .dataframe tbody tr th {\n",
       "        vertical-align: top;\n",
       "    }\n",
       "\n",
       "    .dataframe thead th {\n",
       "        text-align: right;\n",
       "    }\n",
       "</style>\n",
       "<table border=\"1\" class=\"dataframe\">\n",
       "  <thead>\n",
       "    <tr style=\"text-align: right;\">\n",
       "      <th></th>\n",
       "      <th>total_bill</th>\n",
       "      <th>tip</th>\n",
       "      <th>sex</th>\n",
       "      <th>smoker</th>\n",
       "      <th>day</th>\n",
       "      <th>time</th>\n",
       "      <th>size</th>\n",
       "    </tr>\n",
       "  </thead>\n",
       "  <tbody>\n",
       "    <tr>\n",
       "      <th>0</th>\n",
       "      <td>16.99</td>\n",
       "      <td>1.01</td>\n",
       "      <td>Female</td>\n",
       "      <td>No</td>\n",
       "      <td>Sun</td>\n",
       "      <td>Dinner</td>\n",
       "      <td>2</td>\n",
       "    </tr>\n",
       "    <tr>\n",
       "      <th>1</th>\n",
       "      <td>10.34</td>\n",
       "      <td>1.66</td>\n",
       "      <td>Male</td>\n",
       "      <td>No</td>\n",
       "      <td>Sun</td>\n",
       "      <td>Dinner</td>\n",
       "      <td>3</td>\n",
       "    </tr>\n",
       "    <tr>\n",
       "      <th>2</th>\n",
       "      <td>21.01</td>\n",
       "      <td>3.50</td>\n",
       "      <td>Male</td>\n",
       "      <td>No</td>\n",
       "      <td>Sun</td>\n",
       "      <td>Dinner</td>\n",
       "      <td>3</td>\n",
       "    </tr>\n",
       "    <tr>\n",
       "      <th>3</th>\n",
       "      <td>23.68</td>\n",
       "      <td>3.31</td>\n",
       "      <td>Male</td>\n",
       "      <td>No</td>\n",
       "      <td>Sun</td>\n",
       "      <td>Dinner</td>\n",
       "      <td>2</td>\n",
       "    </tr>\n",
       "    <tr>\n",
       "      <th>4</th>\n",
       "      <td>24.59</td>\n",
       "      <td>3.61</td>\n",
       "      <td>Female</td>\n",
       "      <td>No</td>\n",
       "      <td>Sun</td>\n",
       "      <td>Dinner</td>\n",
       "      <td>4</td>\n",
       "    </tr>\n",
       "  </tbody>\n",
       "</table>\n",
       "</div>"
      ],
      "text/plain": [
       "   total_bill   tip     sex smoker  day    time  size\n",
       "0       16.99  1.01  Female     No  Sun  Dinner     2\n",
       "1       10.34  1.66    Male     No  Sun  Dinner     3\n",
       "2       21.01  3.50    Male     No  Sun  Dinner     3\n",
       "3       23.68  3.31    Male     No  Sun  Dinner     2\n",
       "4       24.59  3.61  Female     No  Sun  Dinner     4"
      ]
     },
     "execution_count": 33,
     "metadata": {},
     "output_type": "execute_result"
    }
   ],
   "source": [
    "tips.head(5)"
   ]
  },
  {
   "cell_type": "markdown",
   "metadata": {},
   "source": [
    "**Q7**  Use sns.catplot() to visualize the relation between total_bill and sex.\n",
    "* The x-axis will represent sex\n",
    "* The y-axis will represent the total_bill. \n",
    "\n",
    "**A7** Fill in the code cell below "
   ]
  },
  {
   "cell_type": "code",
   "execution_count": 34,
   "metadata": {},
   "outputs": [
    {
     "data": {
      "text/plain": [
       "<seaborn.axisgrid.FacetGrid at 0x2622f999100>"
      ]
     },
     "execution_count": 34,
     "metadata": {},
     "output_type": "execute_result"
    },
    {
     "data": {
      "image/png": "[encoded data removed]",
      "text/plain": [
       "<Figure size 360x360 with 1 Axes>"
      ]
     },
     "metadata": {
      "needs_background": "light"
     },
     "output_type": "display_data"
    }
   ],
   "source": [
    "#your code goes here\n",
    "\n",
    "sns.catplot(\n",
    "    data=tips,\n",
    "    x='sex',y='total_bill',\n",
    ")"
   ]
  },
  {
   "cell_type": "markdown",
   "metadata": {},
   "source": [
    "**Q8**  Use sns.scatterplot() to visualize the relation between total_bill and tip.      \n",
    "* The x-axis will represent total_bill\n",
    "* The y-axis will represent the tip. \n",
    "\n",
    "**A8** below"
   ]
  },
  {
   "cell_type": "code",
   "execution_count": 35,
   "metadata": {},
   "outputs": [
    {
     "data": {
      "text/plain": [
       "<AxesSubplot:xlabel='total_bill', ylabel='tip'>"
      ]
     },
     "execution_count": 35,
     "metadata": {},
     "output_type": "execute_result"
    },
    {
     "data": {
      "image/png": "[encoded data removed]",
      "text/plain": [
       "<Figure size 432x288 with 1 Axes>"
      ]
     },
     "metadata": {
      "needs_background": "light"
     },
     "output_type": "display_data"
    }
   ],
   "source": [
    "#your code goes here\n",
    "sns.scatterplot(\n",
    "    data=tips,\n",
    "    x='total_bill',y='tip',\n",
    ")"
   ]
  }
 ],
 "metadata": {
  "colab": {
   "collapsed_sections": [],
   "name": "Copy of CS4347-Assignment1-NETID.ipynb",
   "provenance": [
    {
     "file_id": "17Tyt4dPvaHVqT4YhMoxzUwmbICB28X1e",
     "timestamp": 1629391456683
    },
    {
     "file_id": "1BYuCZsD2__tu6Cu1XQsznqbPDsrA1AKl",
     "timestamp": 1611018721283
    },
    {
     "file_id": "14GkPT3sq1sq-_GzehImm9x5AFkzci-bn",
     "timestamp": 1580191220212
    },
    {
     "file_id": "1tr7-Boh7ABQq2FmhitCIDL87lkp6GWbt",
     "timestamp": 1580013441980
    }
   ]
  },
  "interpreter": {
   "hash": "16b88d1544610203bb70d520ead802a3025078c96a9e1f003faf94069083abfd"
  },
  "kernelspec": {
   "display_name": "Python 3",
   "language": "python",
   "name": "python3"
  },
  "language_info": {
   "codemirror_mode": {
    "name": "ipython",
    "version": 3
   },
   "file_extension": ".py",
   "mimetype": "text/x-python",
   "name": "python",
   "nbconvert_exporter": "python",
   "pygments_lexer": "ipython3",
   "version": "3.8.8"
  }
 },
 "nbformat": 4,
 "nbformat_minor": 2
}
