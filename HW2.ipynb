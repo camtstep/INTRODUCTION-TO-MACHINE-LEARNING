{
 "cells": [
  {
   "cell_type": "code",
   "execution_count": 1,
   "id": "82835586",
   "metadata": {},
   "outputs": [],
   "source": [
    "import random\n",
    "import pandas as pd\n",
    "import numpy as np"
   ]
  },
  {
   "cell_type": "markdown",
   "id": "08c2e1e5",
   "metadata": {},
   "source": [
    "#### A1: myfirstlist = [] is the faster of the 2 options."
   ]
  },
  {
   "cell_type": "markdown",
   "id": "41b51efd",
   "metadata": {},
   "source": [
    "#### A2:"
   ]
  },
  {
   "cell_type": "code",
   "execution_count": 2,
   "id": "3d372d78",
   "metadata": {},
   "outputs": [
    {
     "name": "stdout",
     "output_type": "stream",
     "text": [
      "even440 :  [4, 6, 8, 10, 12, 14, 16, 18, 20, 22, 24, 26, 28, 30, 32, 34, 36, 38, 40]\n",
      "odd540 :  [5, 7, 9, 11, 13, 15, 17, 19, 21, 23, 25, 27, 29, 31, 33, 35, 37, 39]\n",
      "mof5 :  [25, 30, 35, 40, 45, 50, 55, 60, 65, 70, 75, 80, 85, 90, 95, 100]\n",
      "from10to0 :  [10, 9, 8, 7, 6, 5, 4, 3, 2, 1]\n"
     ]
    }
   ],
   "source": [
    "even440 = list(range(4,41,2))\n",
    "print('even440 : ', even440)\n",
    "\n",
    "odd540 = list(range(5,40,2))\n",
    "print('odd540 : ', odd540)\n",
    "\n",
    "mof5 = list(range(25,101,5))\n",
    "print('mof5 : ',mof5)\n",
    "\n",
    "from10to0 = list(range(10,0,-1))\n",
    "print('from10to0 : ', from10to0)"
   ]
  },
  {
   "cell_type": "markdown",
   "id": "8255aa6b",
   "metadata": {},
   "source": [
    "#### Sort()"
   ]
  },
  {
   "cell_type": "code",
   "execution_count": 3,
   "id": "af6ce065",
   "metadata": {},
   "outputs": [
    {
     "name": "stdout",
     "output_type": "stream",
     "text": [
      "x : [68, 38, 71, 65, 23]\n",
      "x : [23, 38, 65, 68, 71]\n"
     ]
    }
   ],
   "source": [
    "random.seed(4347) #Do not change this seed\n",
    "\n",
    "x = [random.randint(0,100) for i in range(5)]\n",
    "print(f'x : {x}')\n",
    "\n",
    "x.sort()\n",
    "print(f'x : {x}')"
   ]
  },
  {
   "cell_type": "markdown",
   "id": "88294f3e",
   "metadata": {},
   "source": [
    "#### Sorted()"
   ]
  },
  {
   "cell_type": "code",
   "execution_count": 4,
   "id": "6ab96801",
   "metadata": {},
   "outputs": [
    {
     "name": "stdout",
     "output_type": "stream",
     "text": [
      "sortedx : [23, 38, 65, 68, 71]\n"
     ]
    }
   ],
   "source": [
    "sortedx = sorted(x)\n",
    "print(f'sortedx : {sortedx}')"
   ]
  },
  {
   "cell_type": "markdown",
   "id": "f64a7216",
   "metadata": {},
   "source": [
    "#### A3: The difference between sort() and sorted() is that sort() will modify the current list by sorting it and sorted() will created a new list that is sorted from the old list"
   ]
  },
  {
   "cell_type": "markdown",
   "id": "889882b3",
   "metadata": {},
   "source": [
    "#### A4:"
   ]
  },
  {
   "cell_type": "code",
   "execution_count": 5,
   "id": "061b3961",
   "metadata": {},
   "outputs": [
    {
     "name": "stdout",
     "output_type": "stream",
     "text": [
      "x: [68, 38, 71, 65, 23, 26, 18, 23, 18, 15, 16, 6, 69, 3, 81, 47, 68, 80, 93, 21, 66, 13, 37, 98, 49]\n"
     ]
    }
   ],
   "source": [
    "random.seed(4347)\n",
    "x = [random.randint(0,100) for i in range(25)]\n",
    "print(f'x: {x}')"
   ]
  },
  {
   "cell_type": "markdown",
   "id": "5cb4acd6",
   "metadata": {},
   "source": [
    "#### A5: 2. Start is inclusive end is not"
   ]
  },
  {
   "cell_type": "markdown",
   "id": "e57f8f89",
   "metadata": {},
   "source": [
    "#### A6:"
   ]
  },
  {
   "cell_type": "code",
   "execution_count": 6,
   "id": "cb8f31eb",
   "metadata": {},
   "outputs": [
    {
     "name": "stdout",
     "output_type": "stream",
     "text": [
      "x reversed: [49, 98, 37, 13, 66, 21, 93, 80, 68, 47, 81, 3, 69, 6, 16, 15, 18, 23, 18, 26, 23, 65, 71, 38, 68]\n"
     ]
    }
   ],
   "source": [
    "print(f'x reversed: {x[::-1]}')"
   ]
  },
  {
   "cell_type": "markdown",
   "id": "471dc352",
   "metadata": {},
   "source": [
    "#### A7: listoflist[3][8] may refer to a list that has 3 indices and each index is a list with 8 indices"
   ]
  },
  {
   "cell_type": "markdown",
   "id": "d64c7b02",
   "metadata": {},
   "source": [
    "#### A8:"
   ]
  },
  {
   "cell_type": "code",
   "execution_count": 7,
   "id": "2f307c77",
   "metadata": {},
   "outputs": [
    {
     "name": "stdout",
     "output_type": "stream",
     "text": [
      "      Name   Country  Age  Salary\n",
      "0  Cameron       USA   29   50000\n",
      "1  Ricardo  Colombia   34  100000\n",
      "2    Chase    Canada   31  120000\n",
      "3   Javier    Mexico   29   75000\n",
      "4     Jean    France   24   30000\n"
     ]
    }
   ],
   "source": [
    "data = [('Cameron', 'USA', 29, 50000),\n",
    "        ('Ricardo', 'Colombia', 34, 100000),\n",
    "        ('Chase', 'Canada', 31, 120000),\n",
    "        ('Javier', 'Mexico', 29, 75000),\n",
    "        ('Jean', 'France', 24, 30000)]\n",
    "df = pd.DataFrame(data, columns = ['Name','Country','Age','Salary'])\n",
    "print(df)"
   ]
  },
  {
   "cell_type": "markdown",
   "id": "e852cd70",
   "metadata": {},
   "source": [
    "#### A9: I first created sets of the multiples for 8, 9, and 12. I then found the intersection of the 8 and 9 lists to find their common multiples and then intersected that list with the multiples for 12. I then applied the min function to that set to find the lowest common multiple of the three numbers."
   ]
  },
  {
   "cell_type": "code",
   "execution_count": 8,
   "id": "2fd72f59",
   "metadata": {},
   "outputs": [
    {
     "name": "stdout",
     "output_type": "stream",
     "text": [
      "Lowest common multiple of 8, 9, & 12:\n",
      "72\n"
     ]
    }
   ],
   "source": [
    "multiplesof8 = set(range(8,500,8))\n",
    "multiplesof9 = set(range(9,500,9))\n",
    "multiplesof12 = set(range(12,500,12))\n",
    "\n",
    "multiplesof8and9 = multiplesof8.intersection(multiplesof9)\n",
    "multiplesof8and9and12 = multiplesof8and9.intersection(multiplesof12)\n",
    "print('Lowest common multiple of 8, 9, & 12:')\n",
    "print(min(multiplesof8and9and12))"
   ]
  },
  {
   "cell_type": "markdown",
   "id": "75921ae1",
   "metadata": {},
   "source": [
    "#### A10:"
   ]
  },
  {
   "cell_type": "code",
   "execution_count": 9,
   "id": "c35b00b1",
   "metadata": {},
   "outputs": [
    {
     "name": "stdout",
     "output_type": "stream",
     "text": [
      "a : {'a': 1, 'b': 2, 'c': 3, 'd': 4}\n",
      "b : {'a': 1, 'b': 2, 'c': 3, 'd': 4}\n",
      "c : {'a': 1, 'b': 2, 'c': 3, 'd': 4}\n",
      "d : {'a': 1, 'b': 2, 'c': 3, 'd': 4}\n"
     ]
    }
   ],
   "source": [
    "a = {'a':1, 'b':2, 'c':3, 'd':4}\n",
    "print(f'a : {a}')\n",
    "\n",
    "b = dict(zip(['a','b','c','d'], [1,2,3,4]))\n",
    "print(f'b : {b}')\n",
    "\n",
    "c = dict(iter([('a',1),('b',2),('c',3),('d',4)]))\n",
    "print(f'c : {c}')\n",
    "\n",
    "d = dict(a=1, b=2, c=3, d=4)\n",
    "print(f'd : {d}')"
   ]
  },
  {
   "cell_type": "code",
   "execution_count": 10,
   "id": "a8291921",
   "metadata": {},
   "outputs": [
    {
     "name": "stdout",
     "output_type": "stream",
     "text": [
      "999\n"
     ]
    }
   ],
   "source": [
    "def getfrom(dictionary, keys):\n",
    "  # values = ? #complete your code here\n",
    "  # check if keys in dict\n",
    "  if keys in dictionary.keys():\n",
    "        values = dictionary[keys]\n",
    "  else:\n",
    "        values = 999\n",
    "  return values #should return 999 if key doesn't exist\n",
    "print(getfrom(dictionary=d, keys='z'))"
   ]
  },
  {
   "cell_type": "markdown",
   "id": "396c70db",
   "metadata": {},
   "source": [
    "#### A11:"
   ]
  },
  {
   "cell_type": "code",
   "execution_count": 11,
   "id": "de262ad7",
   "metadata": {},
   "outputs": [
    {
     "name": "stdout",
     "output_type": "stream",
     "text": [
      "999\n",
      "999\n"
     ]
    }
   ],
   "source": [
    "def getfrom(dictionary, keys):\n",
    "  if keys in dictionary.keys():\n",
    "      values = dictionary[keys]\n",
    "  else:\n",
    "      values = 999\n",
    "      d['z'] = 999 \n",
    "  return values #should return 999 if key doesn't exist and should add to dictionary as well\n",
    "\n",
    "print(getfrom(dictionary=d, keys='z'))\n",
    "\n",
    "# Now this shouldn't throw error as 'z' is now set to dictionary\n",
    "print(d['z'])"
   ]
  },
  {
   "cell_type": "markdown",
   "id": "598f6b3e",
   "metadata": {},
   "source": [
    "#### A12:"
   ]
  },
  {
   "cell_type": "code",
   "execution_count": 12,
   "id": "f0741240",
   "metadata": {},
   "outputs": [
    {
     "name": "stdout",
     "output_type": "stream",
     "text": [
      "[ 8  1 66 22 30 51 74 59 18 13]\n",
      "[95 58 72 26 75 32 91 26 59  5]\n",
      "[103  59 138  48 105  83 165  85  77  18]\n",
      "19419\n",
      "[ 760   58 4752  572 2250 1632 6734 1534 1062   65]\n",
      "1941.9\n",
      "2057.6151462311896\n",
      "4233780.09\n"
     ]
    }
   ],
   "source": [
    "# Create two random numpy array of size 10, 10\n",
    "array1 = np.random.randint(101,size=10) # now we have our list x\n",
    "array2 = np.random.randint(101,size=10)\n",
    "\n",
    "print(array1)\n",
    "print(array2)\n",
    "\n",
    "#Perform simple matrix addition\n",
    "add12 = array1 + array2\n",
    "print(add12)\n",
    "\n",
    "# Perform matrix multiplication between these two numpy array\n",
    "mm12 = np.matmul(array1,array2)\n",
    "print(mm12)\n",
    "\n",
    "# Perform element wise multiplication between these two array\n",
    "mmelement = np.multiply(array1,array2)\n",
    "print(mmelement)\n",
    "\n",
    "## Calculate mean, standard deviation and variance of mm12\n",
    "mean = np.mean(mmelement)\n",
    "print(mean)\n",
    "std =  np.std(mmelement)\n",
    "print(std)\n",
    "var = np.var(mmelement)\n",
    "print(var)"
   ]
  }
 ],
 "metadata": {
  "kernelspec": {
   "display_name": "Python 3",
   "language": "python",
   "name": "python3"
  },
  "language_info": {
   "codemirror_mode": {
    "name": "ipython",
    "version": 3
   },
   "file_extension": ".py",
   "mimetype": "text/x-python",
   "name": "python",
   "nbconvert_exporter": "python",
   "pygments_lexer": "ipython3",
   "version": "3.8.8"
  }
 },
 "nbformat": 4,
 "nbformat_minor": 5
}
