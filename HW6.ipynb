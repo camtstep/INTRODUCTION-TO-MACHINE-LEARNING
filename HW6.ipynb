{
 "cells": [
  {
   "cell_type": "markdown",
   "metadata": {},
   "source": [
    "# HW 6\n",
    "\n",
    "This assignment covers several aspects of Logistic Regresstion & KNN Classifier. \n",
    "**DO NOT ERASE MARKDOWN CELLS AND INSTRUCTIONS IN YOUR HW submission**\n",
    "\n",
    "  * **Q** - QUESTION\n",
    "  * **A** - Where to input your answer\n",
    "\n",
    "## Instructions\n",
    "\n",
    "Keep the following in mind for all notebooks you develop:\n",
    "* Structure your notebook. \n",
    "* Use headings with meaningful levels in Markdown cells, and explain the questions each piece of code is to answer or the reason it is there.\n",
    "* Make sure your notebook can always be rerun from top to bottom.\n",
    "* Please start working on this assignment as soon as possible. If you are a beginner in Python this might take a long time. One of the objectives of this assignment is to help you learn python and scikit-learn package. \n",
    "* See [README.md](README.md) for homework submission instructions\n",
    "\n",
    "## Related Tutorials\n",
    "    \n",
    "* [Logistic Regression with Sklearn](https://scikit-learn.org/stable/modules/generated/sklearn.linear_model.LogisticRegression.html)\n",
    "\n",
    "* [LDA with sklearn](https://scikit-learn.org/stable/modules/generated/sklearn.discriminant_analysis.LinearDiscriminantAnalysis.html)\n",
    "\n",
    "* [QDA Classifier](https://scikit-learn.org/stable/modules/lda_qda.html)\n",
    "\n",
    "* [QDA with Sklearn](https://scikit-learn.org/0.15/modules/generated/sklearn.qda.QDA.html)\n",
    "\n",
    "* [Cross-validation](https://scikit-learn.org/stable/modules/cross_validation.html)"
   ]
  },
  {
   "cell_type": "markdown",
   "metadata": {},
   "source": [
    "# Data Processing"
   ]
  },
  {
   "cell_type": "markdown",
   "metadata": {},
   "source": [
    "**Data** \n",
    "* Get the exploratory data and the folowing files from [link](https://archive.ics.uci.edu/ml/datasets/Blood+Transfusion+Service+Center)\n",
    "* Save metadata and the original data from download [Link](https://archive.ics.uci.edu/ml/datasets/Blood+Transfusion+Service+Center) to your local HW folder. \n",
    "* If you are using command line, the commands are:  \n",
    "```\n",
    ">> wget https://archive.ics.uci.edu/ml/machine-learning-databases/blood-transfusion/transfusion.data\n",
    ">> wget https://archive.ics.uci.edu/ml/machine-learning-databases/blood-transfusion/transfusion.names\n",
    "``` \n",
    "* wget instructions: \n",
    "  * dowload it from [link](https://eternallybored.org/misc/wget/) \n",
    "  * follow [steps](https://stackoverflow.com/questions/29113456/wget-not-recognized-as-internal-or-external-command)"
   ]
  },
  {
   "cell_type": "markdown",
   "metadata": {},
   "source": [
    "**Q1** Get training data from the dataframe\n",
    "1. Load transfusion.data into data frame\n",
    "2. Rename the column ```whether he/she donated blood in March 2007``` to ```donation_stat```\n",
    "3. Assign values of ```donation_stat``` column to ```y```, note you have to use ```.values``` method\n",
    "4. Drop 'donation_stat' column from data frame,\n",
    "5. Assign df values to x\n",
    "6. Split dataset into train and test data use train_test_split with test_size = 0.2 and random_state = 1\n",
    "   * you will use this split to train **ALL** three models\n",
    "\n",
    "**A1** Replace ??? with code in the code cell below"
   ]
  },
  {
   "cell_type": "code",
   "execution_count": 1,
   "metadata": {},
   "outputs": [],
   "source": [
    "import numpy as np\n",
    "import pandas as pd\n",
    "from sklearn.model_selection import train_test_split\n",
    "from sklearn.linear_model import LogisticRegression\n",
    "\n",
    "#Read the transfusion.data file using the apropriate separator as input to read_csv()\n",
    "df = pd.read_csv(\"transfusion.data\")\n",
    "df.head()\n",
    "\n",
    "# Assign values of ```donation_stat``` column to y, note you have to use .values method\n",
    "df.rename(columns={\"whether he/she donated blood in March 2007\": \"donation_stat\"}, inplace=True)\n",
    "y = df.donation_stat.values\n",
    "# Drop 'donation_stat' column from data frame,\n",
    "df.drop(columns=['donation_stat'], inplace=True)\n",
    "# Assign df values to x\n",
    "x = df.values\n",
    "# View shape of x and y\n",
    "x.shape, y.shape\n",
    "\n",
    "# Use stratify = y and test_size = 0.2 and random_state = 1\n",
    "xtrain, xtest, ytrain, ytest = train_test_split(x,y, stratify=y, test_size= 0.2, random_state=1)"
   ]
  },
  {
   "cell_type": "markdown",
   "metadata": {
    "id": "NsUM8-i_KhK1"
   },
   "source": [
    "# Model 1: Logistic Regression\n",
    "1. Apply Logistic Regression to blood transfusion dataset \n",
    "2. Show its classification accuracy using test-train splitting\n",
    "3. Show its classification accuracy using K-fold cross validation"
   ]
  },
  {
   "cell_type": "markdown",
   "metadata": {},
   "source": [
    "**Q2** Train Logistic Regression Model\n",
    "1. Create a logistic regression model using sklearn library, ```(See the documenttaion for details)```\n",
    "2. Fit the model with the train data \n",
    "3. Get the score from the model using test data\n",
    "4. Plot Confusion Matrix using the previous HWs method\n",
    "\n",
    "**A2** Replace ??? with code in the code cell below"
   ]
  },
  {
   "cell_type": "code",
   "execution_count": 39,
   "metadata": {
    "id": "2QutY2XJWps5"
   },
   "outputs": [
    {
     "data": {
      "text/plain": [
       "<Figure size 432x288 with 0 Axes>"
      ]
     },
     "metadata": {},
     "output_type": "display_data"
    },
    {
     "data": {
      "image/png": "[encoded data removed]",
      "text/plain": [
       "<Figure size 864x576 with 1 Axes>"
      ]
     },
     "metadata": {
      "needs_background": "light"
     },
     "output_type": "display_data"
    }
   ],
   "source": [
    "from sklearn.metrics import plot_confusion_matrix\n",
    "from sklearn.metrics import confusion_matrix\n",
    "from mlxtend.plotting import plot_confusion_matrix\n",
    "import matplotlib.pyplot as plt\n",
    "\n",
    "# Create a logistic regression model using sklearn library\n",
    "clf = LogisticRegression()\n",
    "clf.fit(xtrain,ytrain)\n",
    "\n",
    "#print score for test data\n",
    "clf.score(x,y)\n",
    "\n",
    "#predict y values for test data\n",
    "ypred=clf.predict(xtest)\n",
    "\n",
    "cm = confusion_matrix(ytest, ypred)\n",
    "plt.figure()\n",
    "plot_confusion_matrix(cm, figsize=(12,8), hide_ticks=True, cmap=plt.cm.Blues)\n",
    "plt.title(\"Logistic Regression Model - Confusion Matrix\")\n",
    "plt.xticks(range(2), [\"Class 1\",\"Class 2\"], fontsize=16)\n",
    "plt.yticks(range(2), [\"Class 1\",\"Class 2\"], fontsize=16)\n",
    "plt.show()"
   ]
  },
  {
   "cell_type": "markdown",
   "metadata": {},
   "source": [
    "**Q3** Train Logistic Regression Model using cross-validation \n",
    "* Now, use Kfold cross validation technique for the model evaluation.(```Use K=5``` or try using other number of folds to see what works best)\n",
    "\n",
    "**A3** Replace ??? with code in the code cell below"
   ]
  },
  {
   "cell_type": "code",
   "execution_count": 3,
   "metadata": {},
   "outputs": [
    {
     "name": "stdout",
     "output_type": "stream",
     "text": [
      "[0.76       0.76       0.75333333 0.82550336 0.76510067]\n"
     ]
    }
   ],
   "source": [
    "from sklearn.model_selection import cross_val_score\n",
    "\n",
    "# Use sklearn for 5 fold cross validation \n",
    "scores_log=cross_val_score(clf,x,y,cv=5)\n",
    "\n",
    "# print the scores from different folds\n",
    "print(scores_log)"
   ]
  },
  {
   "cell_type": "markdown",
   "metadata": {},
   "source": [
    "# Model 2: Linear Discriminant Analysis\n",
    "1. Apply LDA to blood transfusion dataset \n",
    "2. Show its classification accuracy using test-train splitting\n",
    "3. Show its classification accuracy using K-fold cross validation"
   ]
  },
  {
   "cell_type": "markdown",
   "metadata": {},
   "source": [
    "**Q4** Build a Linear Discriminant Model for the transfusion.data dataset\n",
    "1. Create an LDA model for the transfusion.data dataset   \n",
    "2. fit the LDA model on the train data\n",
    "3. predict the values from test data\n",
    "4. print out the score from test data  \n",
    "**Note: Figure out the value of ```n_components``` for the transfusion.data**\n",
    "\n",
    "**A4** Replace ??? with code in the code cell below"
   ]
  },
  {
   "cell_type": "code",
   "execution_count": 7,
   "metadata": {
    "id": "GnWx52bqbOgz"
   },
   "outputs": [
    {
     "name": "stdout",
     "output_type": "stream",
     "text": [
      "[LinearDiscriminantAnalysis(n_components=1)]\n",
      "0.7733333333333333\n"
     ]
    }
   ],
   "source": [
    "from sklearn.discriminant_analysis import LinearDiscriminantAnalysis as LDA\n",
    "\n",
    "\n",
    "# Define LDA model\n",
    "lda = LDA(n_components=1)\n",
    "\n",
    "#Fit LDA model on xtrain, ytrain from above  \n",
    "lda.fit(xtrain,ytrain)\n",
    "\n",
    "#predict y values from xtest from above\n",
    "y_pred=lda.predict(xtest)\n",
    "\n",
    "#Number of instances per class\n",
    "print(np.unique(lda, return_counts=False))\n",
    "\n",
    "#print score for test data\n",
    "print(lda.score(xtest,ytest))"
   ]
  },
  {
   "cell_type": "markdown",
   "metadata": {},
   "source": [
    "**Q5** Train LDA using cross-validation. See A3 for guide and [sklearn.cross_validation](https://scikit-learn.org/stable/modules/cross_validation.html) tutorial.\n",
    "\n",
    "**A5** Replace ??? with code in the code cell below"
   ]
  },
  {
   "cell_type": "code",
   "execution_count": 5,
   "metadata": {},
   "outputs": [
    {
     "name": "stdout",
     "output_type": "stream",
     "text": [
      "[0.82       0.76       0.75333333 0.80536913 0.76510067]\n"
     ]
    }
   ],
   "source": [
    "from sklearn.model_selection import cross_val_score\n",
    "\n",
    "# Use sklearn for 5 fold cross validation \n",
    "scores_lda=cross_val_score(lda,x,y,cv=5)\n",
    "\n",
    "# print the scores from different folds\n",
    "print(scores_lda)"
   ]
  },
  {
   "cell_type": "markdown",
   "metadata": {},
   "source": [
    "# Model 3: Quadratic Discriminant Analysis\n",
    "\n",
    "1. Apply QDA to blood transfusion dataset \n",
    "2. Show its classification accuracy using test-train splitting\n",
    "3. Show its classification accuracy using K-fold cross validation"
   ]
  },
  {
   "cell_type": "markdown",
   "metadata": {},
   "source": [
    "**Q6** Create a quadratic discriminat analysis model for the transfusion.data\n",
    "* fit the QDA model on the train data\n",
    "* predict the values from test data\n",
    "* print out the score from test data  \n",
    "\n",
    "**A6** Replace ??? with code in the code cell below"
   ]
  },
  {
   "cell_type": "code",
   "execution_count": 10,
   "metadata": {},
   "outputs": [
    {
     "name": "stdout",
     "output_type": "stream",
     "text": [
      "[QuadraticDiscriminantAnalysis()]\n",
      "0.7133333333333334\n"
     ]
    },
    {
     "name": "stderr",
     "output_type": "stream",
     "text": [
      "C:\\Users\\camer\\anaconda3\\lib\\site-packages\\sklearn\\discriminant_analysis.py:808: UserWarning: Variables are collinear\n",
      "  warnings.warn(\"Variables are collinear\")\n"
     ]
    }
   ],
   "source": [
    "from sklearn.discriminant_analysis import QuadraticDiscriminantAnalysis\n",
    "\n",
    "# Define QDA model\n",
    "qda = QuadraticDiscriminantAnalysis()\n",
    "\n",
    "# Fit QDA model on xtrain, ytrain above\n",
    "qda.fit(xtrain, ytrain)\n",
    "\n",
    "# Predict y values from xtest\n",
    "pred_qda=qda.predict(xtest)\n",
    "\n",
    "#Number of instances per class\n",
    "print(np.unique(qda, return_counts=False))\n",
    "\n",
    "#print score for test data\n",
    "print(qda.score(xtest,ytest))"
   ]
  },
  {
   "cell_type": "markdown",
   "metadata": {},
   "source": [
    "**Q7** Train QDA using cross-validation. See A3, A5, and [sklearn.cross_validation](https://scikit-learn.org/stable/modules/cross_validation.html) tutorial for hints.\n",
    "\n",
    "**A7** Replace ??? with code in the code cell below"
   ]
  },
  {
   "cell_type": "code",
   "execution_count": 11,
   "metadata": {},
   "outputs": [
    {
     "name": "stdout",
     "output_type": "stream",
     "text": [
      "[0.61333333 0.49333333 0.82       0.27516779 0.53691275]\n"
     ]
    },
    {
     "name": "stderr",
     "output_type": "stream",
     "text": [
      "C:\\Users\\camer\\anaconda3\\lib\\site-packages\\sklearn\\discriminant_analysis.py:808: UserWarning: Variables are collinear\n",
      "  warnings.warn(\"Variables are collinear\")\n",
      "C:\\Users\\camer\\anaconda3\\lib\\site-packages\\sklearn\\discriminant_analysis.py:808: UserWarning: Variables are collinear\n",
      "  warnings.warn(\"Variables are collinear\")\n",
      "C:\\Users\\camer\\anaconda3\\lib\\site-packages\\sklearn\\discriminant_analysis.py:808: UserWarning: Variables are collinear\n",
      "  warnings.warn(\"Variables are collinear\")\n",
      "C:\\Users\\camer\\anaconda3\\lib\\site-packages\\sklearn\\discriminant_analysis.py:808: UserWarning: Variables are collinear\n",
      "  warnings.warn(\"Variables are collinear\")\n",
      "C:\\Users\\camer\\anaconda3\\lib\\site-packages\\sklearn\\discriminant_analysis.py:808: UserWarning: Variables are collinear\n",
      "  warnings.warn(\"Variables are collinear\")\n"
     ]
    }
   ],
   "source": [
    "from sklearn.model_selection import cross_val_score\n",
    "\n",
    "# Use sklearn for 5 fold cross validation \n",
    "scores_qda= cross_val_score(qda,x,y,cv=5)\n",
    "\n",
    "# print the scores from different folds\n",
    "print(scores_qda)"
   ]
  },
  {
   "cell_type": "markdown",
   "metadata": {},
   "source": [
    "# Comparison\n",
    "\n",
    "**Q8** Compare the three models (trained using xtrain,ytrain) in terms of score. \n",
    "* Use the models you have created for straight forward training phase (A2, A4, A6)\n",
    "* Your resulting matrix should be ```4x4 correlation matrix``` for xtest, ytest data\n",
    "  * The matrix is symmetric\n",
    "  * It will provide the correlation between three model predictions plus ytest for xtest\n",
    "\n",
    "**A8**\n",
    "Replace ??? with code in the code cell below"
   ]
  },
  {
   "cell_type": "code",
   "execution_count": 40,
   "metadata": {},
   "outputs": [
    {
     "ename": "ValueError",
     "evalue": "X has 1 features per sample; expecting 4",
     "output_type": "error",
     "traceback": [
      "\u001b[1;31m---------------------------------------------------------------------------\u001b[0m",
      "\u001b[1;31mValueError\u001b[0m                                Traceback (most recent call last)",
      "\u001b[1;32m<ipython-input-40-0d2920e84a9d>\u001b[0m in \u001b[0;36m<module>\u001b[1;34m\u001b[0m\n\u001b[0;32m      7\u001b[0m \u001b[0my\u001b[0m\u001b[1;33m=\u001b[0m\u001b[0my\u001b[0m\u001b[1;33m.\u001b[0m\u001b[0mreshape\u001b[0m\u001b[1;33m(\u001b[0m\u001b[1;33m-\u001b[0m\u001b[1;36m1\u001b[0m\u001b[1;33m,\u001b[0m\u001b[1;36m1\u001b[0m\u001b[1;33m)\u001b[0m\u001b[1;33m\u001b[0m\u001b[1;33m\u001b[0m\u001b[0m\n\u001b[0;32m      8\u001b[0m \u001b[1;31m# Predict test dataset y using logistic reg\u001b[0m\u001b[1;33m\u001b[0m\u001b[1;33m\u001b[0m\u001b[1;33m\u001b[0m\u001b[0m\n\u001b[1;32m----> 9\u001b[1;33m \u001b[0mypred_clf\u001b[0m\u001b[1;33m=\u001b[0m\u001b[0mclf\u001b[0m\u001b[1;33m.\u001b[0m\u001b[0mpredict\u001b[0m\u001b[1;33m(\u001b[0m\u001b[0my\u001b[0m\u001b[1;33m)\u001b[0m\u001b[1;33m\u001b[0m\u001b[1;33m\u001b[0m\u001b[0m\n\u001b[0m\u001b[0;32m     10\u001b[0m \u001b[1;31m# Predict test dataset y using LDA\u001b[0m\u001b[1;33m\u001b[0m\u001b[1;33m\u001b[0m\u001b[1;33m\u001b[0m\u001b[0m\n\u001b[0;32m     11\u001b[0m \u001b[0mypred_lda\u001b[0m\u001b[1;33m=\u001b[0m\u001b[0mlda\u001b[0m\u001b[1;33m.\u001b[0m\u001b[0mpredict\u001b[0m\u001b[1;33m(\u001b[0m\u001b[0my\u001b[0m\u001b[1;33m)\u001b[0m\u001b[1;33m\u001b[0m\u001b[1;33m\u001b[0m\u001b[0m\n",
      "\u001b[1;32m~\\anaconda3\\lib\\site-packages\\sklearn\\linear_model\\_base.py\u001b[0m in \u001b[0;36mpredict\u001b[1;34m(self, X)\u001b[0m\n\u001b[0;32m    307\u001b[0m             \u001b[0mPredicted\u001b[0m \u001b[1;32mclass\u001b[0m \u001b[0mlabel\u001b[0m \u001b[0mper\u001b[0m \u001b[0msample\u001b[0m\u001b[1;33m.\u001b[0m\u001b[1;33m\u001b[0m\u001b[1;33m\u001b[0m\u001b[0m\n\u001b[0;32m    308\u001b[0m         \"\"\"\n\u001b[1;32m--> 309\u001b[1;33m         \u001b[0mscores\u001b[0m \u001b[1;33m=\u001b[0m \u001b[0mself\u001b[0m\u001b[1;33m.\u001b[0m\u001b[0mdecision_function\u001b[0m\u001b[1;33m(\u001b[0m\u001b[0mX\u001b[0m\u001b[1;33m)\u001b[0m\u001b[1;33m\u001b[0m\u001b[1;33m\u001b[0m\u001b[0m\n\u001b[0m\u001b[0;32m    310\u001b[0m         \u001b[1;32mif\u001b[0m \u001b[0mlen\u001b[0m\u001b[1;33m(\u001b[0m\u001b[0mscores\u001b[0m\u001b[1;33m.\u001b[0m\u001b[0mshape\u001b[0m\u001b[1;33m)\u001b[0m \u001b[1;33m==\u001b[0m \u001b[1;36m1\u001b[0m\u001b[1;33m:\u001b[0m\u001b[1;33m\u001b[0m\u001b[1;33m\u001b[0m\u001b[0m\n\u001b[0;32m    311\u001b[0m             \u001b[0mindices\u001b[0m \u001b[1;33m=\u001b[0m \u001b[1;33m(\u001b[0m\u001b[0mscores\u001b[0m \u001b[1;33m>\u001b[0m \u001b[1;36m0\u001b[0m\u001b[1;33m)\u001b[0m\u001b[1;33m.\u001b[0m\u001b[0mastype\u001b[0m\u001b[1;33m(\u001b[0m\u001b[0mint\u001b[0m\u001b[1;33m)\u001b[0m\u001b[1;33m\u001b[0m\u001b[1;33m\u001b[0m\u001b[0m\n",
      "\u001b[1;32m~\\anaconda3\\lib\\site-packages\\sklearn\\linear_model\\_base.py\u001b[0m in \u001b[0;36mdecision_function\u001b[1;34m(self, X)\u001b[0m\n\u001b[0;32m    286\u001b[0m         \u001b[0mn_features\u001b[0m \u001b[1;33m=\u001b[0m \u001b[0mself\u001b[0m\u001b[1;33m.\u001b[0m\u001b[0mcoef_\u001b[0m\u001b[1;33m.\u001b[0m\u001b[0mshape\u001b[0m\u001b[1;33m[\u001b[0m\u001b[1;36m1\u001b[0m\u001b[1;33m]\u001b[0m\u001b[1;33m\u001b[0m\u001b[1;33m\u001b[0m\u001b[0m\n\u001b[0;32m    287\u001b[0m         \u001b[1;32mif\u001b[0m \u001b[0mX\u001b[0m\u001b[1;33m.\u001b[0m\u001b[0mshape\u001b[0m\u001b[1;33m[\u001b[0m\u001b[1;36m1\u001b[0m\u001b[1;33m]\u001b[0m \u001b[1;33m!=\u001b[0m \u001b[0mn_features\u001b[0m\u001b[1;33m:\u001b[0m\u001b[1;33m\u001b[0m\u001b[1;33m\u001b[0m\u001b[0m\n\u001b[1;32m--> 288\u001b[1;33m             raise ValueError(\"X has %d features per sample; expecting %d\"\n\u001b[0m\u001b[0;32m    289\u001b[0m                              % (X.shape[1], n_features))\n\u001b[0;32m    290\u001b[0m \u001b[1;33m\u001b[0m\u001b[0m\n",
      "\u001b[1;31mValueError\u001b[0m: X has 1 features per sample; expecting 4"
     ]
    }
   ],
   "source": [
    "from sklearn.metrics import plot_confusion_matrix\n",
    "from sklearn.metrics import confusion_matrix\n",
    "from mlxtend.plotting import plot_confusion_matrix\n",
    "import matplotlib.pyplot as plt\n",
    "\n",
    "# reshape y to make it 2D\n",
    "y=y.reshape(-1,1)\n",
    "# Predict test dataset y using logistic reg\n",
    "ypred_clf=clf.predict(y)\n",
    "# Predict test dataset y using LDA\n",
    "ypred_lda=lda.predict(y)\n",
    "\n",
    "# Predict test dataset y using QDA\n",
    "ypred_qda=qda.predict(y)\n",
    "\n",
    "# flatten the y\n",
    "\n",
    "# Create a dataframe using the predicted results from the models\n",
    "df = pd.DataFrame({'y':y,'Log':ypred_clf, 'LDA':ypred_lda, 'QDA':ypred_qda})\n",
    "\n",
    "#copute correlation \n",
    "\n",
    "# Now use seaborn library to plot the correlation matrix\n",
    "plt.figure(figsize=(4,4))\n",
    "sns.heatmap(df.corr(), vmin=-1, vmax=1, annot=True)"
   ]
  }
 ],
 "metadata": {
  "colab": {
   "collapsed_sections": [],
   "name": "Copy of CS4347-Assignment2-NETID.ipynb",
   "provenance": [
    {
     "file_id": "1vsORsvIGVbJ2cNHR1lIPDIuGobP25ZPq",
     "timestamp": 1629391503766
    },
    {
     "file_id": "1vuQua73YBPg3xOVKXACAGdS_8R1OlQdX",
     "timestamp": 1611597429764
    },
    {
     "file_id": "1Jr8VoifAgTlPqVE_AiCDeWbiHGEyvkxq",
     "timestamp": 1580784119108
    }
   ]
  },
  "interpreter": {
   "hash": "61092feec5071c5645c5e9fd8e6ed751662eaf3fad39a8c2be0e7ae1843d914b"
  },
  "kernelspec": {
   "display_name": "Python 3",
   "language": "python",
   "name": "python3"
  },
  "language_info": {
   "codemirror_mode": {
    "name": "ipython",
    "version": 3
   },
   "file_extension": ".py",
   "mimetype": "text/x-python",
   "name": "python",
   "nbconvert_exporter": "python",
   "pygments_lexer": "ipython3",
   "version": "3.8.8"
  }
 },
 "nbformat": 4,
 "nbformat_minor": 2
}
